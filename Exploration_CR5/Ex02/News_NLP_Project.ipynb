{
 "cells": [
  {
   "cell_type": "markdown",
   "id": "dc0397a6",
   "metadata": {},
   "source": [
    "# 뉴스 요약봇\n",
    "\n",
    "## 목차\n",
    "\n",
    "## 1. Set-up\n",
    "\n",
    " - 패키지들을 import하는 작업\n",
    " \n",
    "## 2. 데이터 불러오기\n",
    "\n",
    " - 데이터를 가져온 뒤 샘플 확인\n",
    "\n",
    "## 3. 데이터 전처리\n",
    "\n",
    " - 데이터 정리\n",
    " - 훈련 데이터와 테스트 데이터 나누기\n",
    " - 정수 인코딩\n",
    "\n",
    "## 4. 모델 설계하기\n",
    "\n",
    " - 인코더, 디코더 설계\n",
    " - 어텐션 메커니즘 설계\n",
    "\n",
    "## 5. 인퍼런스 모델 구현\n",
    "\n",
    "\n",
    "## 6. 모델 테스트하기\n",
    "\n",
    "\n",
    "## 7. 추출적 요약\n",
    "\n",
    " - summarize 사용\n",
    "\n",
    "## 8. 회고"
   ]
  },
  {
   "cell_type": "markdown",
   "id": "813f7aa3",
   "metadata": {},
   "source": [
    "---\n",
    "\n",
    "# 1. Set up\n",
    "\n",
    "### 라이브러리 버전 확인"
   ]
  },
  {
   "cell_type": "code",
   "execution_count": 31,
   "id": "531b9ea7",
   "metadata": {},
   "outputs": [
    {
     "name": "stdout",
     "output_type": "stream",
     "text": [
      "Requirement already satisfied: summa in /opt/conda/lib/python3.9/site-packages (1.2.0)\n",
      "Requirement already satisfied: scipy>=0.19 in /opt/conda/lib/python3.9/site-packages (from summa) (1.7.1)\n",
      "Requirement already satisfied: numpy<1.23.0,>=1.16.5 in /opt/conda/lib/python3.9/site-packages (from scipy>=0.19->summa) (1.21.4)\n",
      "\u001b[33mWARNING: Running pip as the 'root' user can result in broken permissions and conflicting behaviour with the system package manager. It is recommended to use a virtual environment instead: https://pip.pypa.io/warnings/venv\u001b[0m\n",
      "3.6.5\n",
      "2.6.0\n",
      "1.3.3\n",
      "1.2.0\n"
     ]
    }
   ],
   "source": [
    "!pip install summa\n",
    "\n",
    "from importlib.metadata import version\n",
    "import nltk\n",
    "import tensorflow\n",
    "import summa\n",
    "import pandas\n",
    "\n",
    "print(nltk.__version__)\n",
    "print(tensorflow.__version__)\n",
    "print(pandas.__version__)\n",
    "print(version('summa'))"
   ]
  },
  {
   "cell_type": "markdown",
   "id": "b48d917a",
   "metadata": {},
   "source": [
    "# 2. 데이터 불러오기"
   ]
  },
  {
   "cell_type": "code",
   "execution_count": 32,
   "id": "697fc9b0",
   "metadata": {},
   "outputs": [
    {
     "name": "stderr",
     "output_type": "stream",
     "text": [
      "[nltk_data] Downloading package stopwords to /aiffel/nltk_data...\n",
      "[nltk_data]   Package stopwords is already up-to-date!\n"
     ]
    }
   ],
   "source": [
    "import nltk\n",
    "nltk.download('stopwords')\n",
    "\n",
    "import numpy as np\n",
    "import pandas as pd\n",
    "import os\n",
    "import re\n",
    "import matplotlib.pyplot as plt\n",
    "from nltk.corpus import stopwords\n",
    "from bs4 import BeautifulSoup \n",
    "from tensorflow.keras.preprocessing.text import Tokenizer \n",
    "from tensorflow.keras.preprocessing.sequence import pad_sequences\n",
    "import urllib.request\n",
    "import warnings\n",
    "warnings.filterwarnings(\"ignore\", category=UserWarning, module='bs4')\n",
    "import numpy as np\n",
    "import matplotlib.pyplot as plt\n",
    "\n",
    "from tensorflow.keras.layers import Input, LSTM, Embedding, Dense, Concatenate, TimeDistributed\n",
    "from tensorflow.keras.models import Model\n",
    "from tensorflow.keras.callbacks import EarlyStopping, ModelCheckpoint\n",
    "from tensorflow.keras.layers import AdditiveAttention"
   ]
  },
  {
   "cell_type": "code",
   "execution_count": 3,
   "id": "3f49a494",
   "metadata": {},
   "outputs": [],
   "source": [
    "import urllib.request\n",
    "urllib.request.urlretrieve(\"https://raw.githubusercontent.com/sunnysai12345/News_Summary/master/news_summary_more.csv\", filename=\"news_summary_more.csv\")\n",
    "data = pd.read_csv('news_summary_more.csv', encoding='iso-8859-1')"
   ]
  },
  {
   "cell_type": "markdown",
   "id": "8f3077c6",
   "metadata": {},
   "source": [
    "### 데이터 샘플 확인"
   ]
  },
  {
   "cell_type": "code",
   "execution_count": 4,
   "id": "af3c2b0b",
   "metadata": {},
   "outputs": [
    {
     "data": {
      "text/html": [
       "<div>\n",
       "<style scoped>\n",
       "    .dataframe tbody tr th:only-of-type {\n",
       "        vertical-align: middle;\n",
       "    }\n",
       "\n",
       "    .dataframe tbody tr th {\n",
       "        vertical-align: top;\n",
       "    }\n",
       "\n",
       "    .dataframe thead th {\n",
       "        text-align: right;\n",
       "    }\n",
       "</style>\n",
       "<table border=\"1\" class=\"dataframe\">\n",
       "  <thead>\n",
       "    <tr style=\"text-align: right;\">\n",
       "      <th></th>\n",
       "      <th>headlines</th>\n",
       "      <th>text</th>\n",
       "    </tr>\n",
       "  </thead>\n",
       "  <tbody>\n",
       "    <tr>\n",
       "      <th>68678</th>\n",
       "      <td>Delhi boy builds mini-cooler using idea from D...</td>\n",
       "      <td>A 13-year-old boy from ragpicker's family in D...</td>\n",
       "    </tr>\n",
       "    <tr>\n",
       "      <th>22671</th>\n",
       "      <td>70-yr-old man dies as toilet wall collapses at...</td>\n",
       "      <td>A 70-year-old man was crushed to death after a...</td>\n",
       "    </tr>\n",
       "    <tr>\n",
       "      <th>42270</th>\n",
       "      <td>1st non-stop flight from Australia to UK lands</td>\n",
       "      <td>The first regularly scheduled non-stop flight ...</td>\n",
       "    </tr>\n",
       "    <tr>\n",
       "      <th>1859</th>\n",
       "      <td>Apple spends $150 million a year on United Air...</td>\n",
       "      <td>A leaked internal United Airlines promotional ...</td>\n",
       "    </tr>\n",
       "    <tr>\n",
       "      <th>2230</th>\n",
       "      <td>Will 'devastate' Turkey economically if it att...</td>\n",
       "      <td>US President Donald Trump has threatened to \"d...</td>\n",
       "    </tr>\n",
       "    <tr>\n",
       "      <th>17833</th>\n",
       "      <td>Investors lose Ã¢ÂÂ¹4 trillion in 2 days as S...</td>\n",
       "      <td>Investors' wealth, measured in terms of all BS...</td>\n",
       "    </tr>\n",
       "    <tr>\n",
       "      <th>92767</th>\n",
       "      <td>UP police constable killed by female colleague</td>\n",
       "      <td>A police constable was allegedly killed by a f...</td>\n",
       "    </tr>\n",
       "    <tr>\n",
       "      <th>15038</th>\n",
       "      <td>Pakistan stamp uses pic of Indians protesting ...</td>\n",
       "      <td>A picture of Kashmiri Pandits protesting again...</td>\n",
       "    </tr>\n",
       "    <tr>\n",
       "      <th>88782</th>\n",
       "      <td>Baahubali 2 deserves every bit of hype and suc...</td>\n",
       "      <td>Actor Akshay Kumar took to Twitter to praise B...</td>\n",
       "    </tr>\n",
       "    <tr>\n",
       "      <th>44046</th>\n",
       "      <td>Shami's wife attacks journalists in Kolkata, b...</td>\n",
       "      <td>Cricketer Mohammad Shami's wife Hasin Jahan at...</td>\n",
       "    </tr>\n",
       "  </tbody>\n",
       "</table>\n",
       "</div>"
      ],
      "text/plain": [
       "                                               headlines  \\\n",
       "68678  Delhi boy builds mini-cooler using idea from D...   \n",
       "22671  70-yr-old man dies as toilet wall collapses at...   \n",
       "42270     1st non-stop flight from Australia to UK lands   \n",
       "1859   Apple spends $150 million a year on United Air...   \n",
       "2230   Will 'devastate' Turkey economically if it att...   \n",
       "17833  Investors lose Ã¢ÂÂ¹4 trillion in 2 days as S...   \n",
       "92767     UP police constable killed by female colleague   \n",
       "15038  Pakistan stamp uses pic of Indians protesting ...   \n",
       "88782  Baahubali 2 deserves every bit of hype and suc...   \n",
       "44046  Shami's wife attacks journalists in Kolkata, b...   \n",
       "\n",
       "                                                    text  \n",
       "68678  A 13-year-old boy from ragpicker's family in D...  \n",
       "22671  A 70-year-old man was crushed to death after a...  \n",
       "42270  The first regularly scheduled non-stop flight ...  \n",
       "1859   A leaked internal United Airlines promotional ...  \n",
       "2230   US President Donald Trump has threatened to \"d...  \n",
       "17833  Investors' wealth, measured in terms of all BS...  \n",
       "92767  A police constable was allegedly killed by a f...  \n",
       "15038  A picture of Kashmiri Pandits protesting again...  \n",
       "88782  Actor Akshay Kumar took to Twitter to praise B...  \n",
       "44046  Cricketer Mohammad Shami's wife Hasin Jahan at...  "
      ]
     },
     "execution_count": 4,
     "metadata": {},
     "output_type": "execute_result"
    }
   ],
   "source": [
    "data.sample(10)"
   ]
  },
  {
   "cell_type": "markdown",
   "id": "e8d13314",
   "metadata": {},
   "source": [
    "# 3. 데이터 전처리\n",
    "\n",
    "### 데이터 정리하기\n",
    "\n",
    "---\n",
    "\n",
    "### 중복 샘플 배제"
   ]
  },
  {
   "cell_type": "code",
   "execution_count": 5,
   "id": "57a3d5de",
   "metadata": {},
   "outputs": [
    {
     "name": "stdout",
     "output_type": "stream",
     "text": [
      "text 열에서 중복을 배제 샘플의 수 : 98360\n",
      "headlines 열에서 중복을 배제 샘플의 수 : 98280\n"
     ]
    }
   ],
   "source": [
    "print('text 열에서 중복을 배제 샘플의 수 :', data['text'].nunique())\n",
    "print('headlines 열에서 중복을 배제 샘플의 수 :', data['headlines'].nunique())"
   ]
  },
  {
   "cell_type": "markdown",
   "id": "45d7e54f",
   "metadata": {},
   "source": [
    "### 텍스트 정규화 작업"
   ]
  },
  {
   "cell_type": "code",
   "execution_count": 6,
   "id": "fdf48591",
   "metadata": {},
   "outputs": [
    {
     "name": "stdout",
     "output_type": "stream",
     "text": [
      "정규화 사전의 수:  120\n"
     ]
    }
   ],
   "source": [
    "contractions = {\"ain't\": \"is not\", \"aren't\": \"are not\",\"can't\": \"cannot\", \"'cause\": \"because\", \"could've\": \"could have\", \"couldn't\": \"could not\",\n",
    "                           \"didn't\": \"did not\",  \"doesn't\": \"does not\", \"don't\": \"do not\", \"hadn't\": \"had not\", \"hasn't\": \"has not\", \"haven't\": \"have not\",\n",
    "                           \"he'd\": \"he would\",\"he'll\": \"he will\", \"he's\": \"he is\", \"how'd\": \"how did\", \"how'd'y\": \"how do you\", \"how'll\": \"how will\", \"how's\": \"how is\",\n",
    "                           \"I'd\": \"I would\", \"I'd've\": \"I would have\", \"I'll\": \"I will\", \"I'll've\": \"I will have\",\"I'm\": \"I am\", \"I've\": \"I have\", \"i'd\": \"i would\",\n",
    "                           \"i'd've\": \"i would have\", \"i'll\": \"i will\",  \"i'll've\": \"i will have\",\"i'm\": \"i am\", \"i've\": \"i have\", \"isn't\": \"is not\", \"it'd\": \"it would\",\n",
    "                           \"it'd've\": \"it would have\", \"it'll\": \"it will\", \"it'll've\": \"it will have\",\"it's\": \"it is\", \"let's\": \"let us\", \"ma'am\": \"madam\",\n",
    "                           \"mayn't\": \"may not\", \"might've\": \"might have\",\"mightn't\": \"might not\",\"mightn't've\": \"might not have\", \"must've\": \"must have\",\n",
    "                           \"mustn't\": \"must not\", \"mustn't've\": \"must not have\", \"needn't\": \"need not\", \"needn't've\": \"need not have\",\"o'clock\": \"of the clock\",\n",
    "                           \"oughtn't\": \"ought not\", \"oughtn't've\": \"ought not have\", \"shan't\": \"shall not\", \"sha'n't\": \"shall not\", \"shan't've\": \"shall not have\",\n",
    "                           \"she'd\": \"she would\", \"she'd've\": \"she would have\", \"she'll\": \"she will\", \"she'll've\": \"she will have\", \"she's\": \"she is\",\n",
    "                           \"should've\": \"should have\", \"shouldn't\": \"should not\", \"shouldn't've\": \"should not have\", \"so've\": \"so have\",\"so's\": \"so as\",\n",
    "                           \"this's\": \"this is\",\"that'd\": \"that would\", \"that'd've\": \"that would have\", \"that's\": \"that is\", \"there'd\": \"there would\",\n",
    "                           \"there'd've\": \"there would have\", \"there's\": \"there is\", \"here's\": \"here is\",\"they'd\": \"they would\", \"they'd've\": \"they would have\",\n",
    "                           \"they'll\": \"they will\", \"they'll've\": \"they will have\", \"they're\": \"they are\", \"they've\": \"they have\", \"to've\": \"to have\",\n",
    "                           \"wasn't\": \"was not\", \"we'd\": \"we would\", \"we'd've\": \"we would have\", \"we'll\": \"we will\", \"we'll've\": \"we will have\", \"we're\": \"we are\",\n",
    "                           \"we've\": \"we have\", \"weren't\": \"were not\", \"what'll\": \"what will\", \"what'll've\": \"what will have\", \"what're\": \"what are\",\n",
    "                           \"what's\": \"what is\", \"what've\": \"what have\", \"when's\": \"when is\", \"when've\": \"when have\", \"where'd\": \"where did\", \"where's\": \"where is\",\n",
    "                           \"where've\": \"where have\", \"who'll\": \"who will\", \"who'll've\": \"who will have\", \"who's\": \"who is\", \"who've\": \"who have\",\n",
    "                           \"why's\": \"why is\", \"why've\": \"why have\", \"will've\": \"will have\", \"won't\": \"will not\", \"won't've\": \"will not have\",\n",
    "                           \"would've\": \"would have\", \"wouldn't\": \"would not\", \"wouldn't've\": \"would not have\", \"y'all\": \"you all\",\n",
    "                           \"y'all'd\": \"you all would\",\"y'all'd've\": \"you all would have\",\"y'all're\": \"you all are\",\"y'all've\": \"you all have\",\n",
    "                           \"you'd\": \"you would\", \"you'd've\": \"you would have\", \"you'll\": \"you will\", \"you'll've\": \"you will have\",\n",
    "                           \"you're\": \"you are\", \"you've\": \"you have\"}\n",
    "\n",
    "print(\"정규화 사전의 수: \", len(contractions))"
   ]
  },
  {
   "cell_type": "markdown",
   "id": "40a82b78",
   "metadata": {},
   "source": [
    "### 데이터 전처리 함수 및 불용어 제거"
   ]
  },
  {
   "cell_type": "code",
   "execution_count": 7,
   "id": "2ef9b435",
   "metadata": {},
   "outputs": [],
   "source": [
    "# 데이터 전처리 함수\n",
    "def preprocess_sentence(sentence, remove_stopwords=True):\n",
    "    sentence = sentence.lower() # 텍스트 소문자화\n",
    "    sentence = BeautifulSoup(sentence, \"lxml\").text # <br />, <a href = ...> 등의 html 태그 제거\n",
    "    sentence = re.sub(r'\\([^)]*\\)', '', sentence) # 괄호로 닫힌 문자열 (...) 제거 Ex) my husband (and myself!) for => my husband for\n",
    "    sentence = re.sub('\"','', sentence) # 쌍따옴표 \" 제거\n",
    "    sentence = ' '.join([contractions[t] if t in contractions else t for t in sentence.split(\" \")]) # 약어 정규화\n",
    "    sentence = re.sub(r\"'s\\b\",\"\", sentence) # 소유격 제거. Ex) roland's -> roland\n",
    "    sentence = re.sub(\"[^a-zA-Z]\", \" \", sentence) # 영어 외 문자(숫자, 특수문자 등) 공백으로 변환\n",
    "    sentence = re.sub('[m]{2,}', 'mm', sentence) # m이 3개 이상이면 2개로 변경. Ex) ummmmmmm yeah -> umm yeah\n",
    "    \n",
    "    # 불용어 제거 (Text)\n",
    "    if remove_stopwords:\n",
    "        tokens = ' '.join(word for word in sentence.split() if not word in stopwords.words('english') if len(word) > 1)\n",
    "    # 불용어 미제거 (Summary)\n",
    "    else:\n",
    "        tokens = ' '.join(word for word in sentence.split() if len(word) > 1)\n",
    "    return tokens\n",
    "\n"
   ]
  },
  {
   "cell_type": "markdown",
   "id": "eb3b156d",
   "metadata": {},
   "source": [
    "- Abstractive한 문장 요약 결과문이 자연스러운 문장이 되려면 Headline에는 불용어가 남아있는 것이 좋기에 Text 전처리에서만 제거하고 문장 길이가 짧은 Headline은 불용어 미제거"
   ]
  },
  {
   "cell_type": "markdown",
   "id": "29552a7d",
   "metadata": {},
   "source": [
    "---\n",
    "\n",
    "### 전처리 전, 후의 결과를 확인하기 위해서 임의의 text와 Headline를 만들어 함수를 호출"
   ]
  },
  {
   "cell_type": "code",
   "execution_count": 78,
   "id": "f1421b17",
   "metadata": {},
   "outputs": [
    {
     "name": "stdout",
     "output_type": "stream",
     "text": [
      "text:  everything bought great infact ordered twice third ordered wasfor mother father\n",
      "headline: great way to start the day\n"
     ]
    }
   ],
   "source": [
    "temp_text = 'Everything I bought was great, infact I ordered twice and the third ordered was<br />for my mother and father.'\n",
    "temp_headline = 'Great way to start (or finish) the day!!!'\n",
    "\n",
    "print(\"text: \", preprocess_sentence(temp_text))\n",
    "print(\"headline:\", preprocess_sentence(temp_summary, False))  # 불용어를 제거하지 않습니다."
   ]
  },
  {
   "cell_type": "markdown",
   "id": "588bf8ad",
   "metadata": {},
   "source": [
    "### tqdm을 주어 진행 상태를 나타낸 후\n",
    "\n",
    "### Text 데이터에 대한 전처리 진행"
   ]
  },
  {
   "cell_type": "code",
   "execution_count": 9,
   "id": "57c69b02",
   "metadata": {},
   "outputs": [
    {
     "name": "stderr",
     "output_type": "stream",
     "text": [
      "100%|██████████| 98401/98401 [09:41<00:00, 169.22it/s]"
     ]
    },
    {
     "name": "stdout",
     "output_type": "stream",
     "text": [
      "Text 전처리 후 결과:  ['saurav kant alumnus upgrad iiit pg program machine learning artificial intelligence sr systems engineer infosys almost years work experience program upgrad degree career support helped transition data scientist tech mahindra salary hike upgrad online power learning powered lakh careers', 'kunal shah credit card bill payment platform cred gave users chance win free food swiggy one year pranav kaushik delhi techie bagged reward spending cred coins users get one cred coin per rupee bill paid used avail rewards brands like ixigo bookmyshow ubereats cult fit', 'new zealand defeated india wickets fourth odi hamilton thursday win first match five match odi series india lost international match rohit sharma captaincy consecutive victories dating back march match witnessed india getting seventh lowest total odi cricket history', 'aegon life iterm insurance plan customers enjoy tax benefits premiums paid save taxes plan provides life cover age years also customers options insure critical illnesses disability accidental death benefit rider life cover age years', 'speaking sexual harassment allegations rajkumar hirani sonam kapoor said known hirani many years true metoo movement get derailed metoo movement always believe woman case need reserve judgment added hirani accused assistant worked sanju']\n"
     ]
    },
    {
     "name": "stderr",
     "output_type": "stream",
     "text": [
      "\n"
     ]
    }
   ],
   "source": [
    "from tqdm import tqdm # 진행 상태를 나타내는 프로그레스바를 위한 라이브러리\n",
    "\n",
    "# 전체 Text 데이터에 대한 전처리\n",
    "clean_text = []\n",
    "\n",
    "# tqdm을 사용하여 진행 상태를 나타내는 프로그레스바를 추가\n",
    "for s in tqdm(data['text']):\n",
    "    clean_text.append(preprocess_sentence(s))\n",
    "\n",
    "# 전처리 후 출력\n",
    "print(\"Text 전처리 후 결과: \", clean_text[:5])"
   ]
  },
  {
   "cell_type": "markdown",
   "id": "f119c651",
   "metadata": {},
   "source": [
    "### headline도 같이 진행(불용어 미제거)"
   ]
  },
  {
   "cell_type": "code",
   "execution_count": 10,
   "id": "a6f958ca",
   "metadata": {},
   "outputs": [
    {
     "name": "stderr",
     "output_type": "stream",
     "text": [
      "100%|██████████| 98401/98401 [00:17<00:00, 5741.58it/s]"
     ]
    },
    {
     "name": "stdout",
     "output_type": "stream",
     "text": [
      "Summary 전처리 후 결과:  ['upgrad learner switches to career in ml al with salary hike', 'delhi techie wins free food from swiggy for one year on cred', 'new zealand end rohit sharma led india match winning streak', 'aegon life iterm insurance plan helps customers save tax', 'have known hirani for yrs what if metoo claims are not true sonam']\n"
     ]
    },
    {
     "name": "stderr",
     "output_type": "stream",
     "text": [
      "\n"
     ]
    }
   ],
   "source": [
    "from tqdm import tqdm # 진행 상태를 나타내는 프로그레스바를 위한 라이브러리\n",
    "\n",
    "# 전체 Summary 데이터에 대한 전처리\n",
    "clean_headlines = []\n",
    "\n",
    "# tqdm을 사용하여 진행 상태를 나타내는 프로그레스바를 추가\n",
    "for s in tqdm(data['headlines']):\n",
    "    clean_headlines.append(preprocess_sentence(s, False))\n",
    "\n",
    "# 전처리 후 출력\n",
    "print(\"Summary 전처리 후 결과: \", clean_headlines[:5])"
   ]
  },
  {
   "cell_type": "markdown",
   "id": "debb2b72",
   "metadata": {},
   "source": [
    "### 전처리 후 Empty 샘플이 있나 확인"
   ]
  },
  {
   "cell_type": "code",
   "execution_count": 11,
   "id": "ddee1ba2",
   "metadata": {},
   "outputs": [],
   "source": [
    "data['text'] = clean_text\n",
    "data['headlines'] = clean_headlines\n",
    "\n",
    "# 빈 값을 Null 값으로 변환\n",
    "data.replace('', np.nan, inplace=True)"
   ]
  },
  {
   "cell_type": "markdown",
   "id": "f2c443cc",
   "metadata": {},
   "source": [
    "### Null 값이 있나 확인"
   ]
  },
  {
   "cell_type": "code",
   "execution_count": 12,
   "id": "00b7fc4c",
   "metadata": {},
   "outputs": [
    {
     "data": {
      "text/plain": [
       "headlines    0\n",
       "text         0\n",
       "dtype: int64"
      ]
     },
     "execution_count": 12,
     "metadata": {},
     "output_type": "execute_result"
    }
   ],
   "source": [
    "data.isnull().sum()"
   ]
  },
  {
   "cell_type": "markdown",
   "id": "8e2485bb",
   "metadata": {},
   "source": [
    "## 샘플 최대 길이 정하기\n",
    "\n",
    "### Text와 headlines의 최소, 최대, 평균 길이를 구하고 또한 길이 분포를 시각화"
   ]
  },
  {
   "cell_type": "code",
   "execution_count": 79,
   "id": "85f4b3b9",
   "metadata": {},
   "outputs": [
    {
     "name": "stdout",
     "output_type": "stream",
     "text": [
      "text 최소 길이 : 1\n",
      "text 최대 길이 : 60\n",
      "text 평균 길이 : 35.09983638377659\n",
      "headlines 최소 길이 : 1\n",
      "headlines 최대 길이 : 16\n",
      "headlines 평균 길이 : 9.299651426306644\n"
     ]
    },
    {
     "data": {
      "image/png": "[encoded data removed]",
      "text/plain": [
       "<Figure size 432x288 with 2 Axes>"
      ]
     },
     "metadata": {
      "needs_background": "light"
     },
     "output_type": "display_data"
    },
    {
     "data": {
      "image/png": "[encoded data removed]",
      "text/plain": [
       "<Figure size 432x288 with 1 Axes>"
      ]
     },
     "metadata": {
      "needs_background": "light"
     },
     "output_type": "display_data"
    },
    {
     "data": {
      "image/png": "[encoded data removed]",
      "text/plain": [
       "<Figure size 432x288 with 1 Axes>"
      ]
     },
     "metadata": {
      "needs_background": "light"
     },
     "output_type": "display_data"
    }
   ],
   "source": [
    "text_len = [len(s.split()) for s in data['text']]\n",
    "summary_len = [len(s.split()) for s in data['headlines']]\n",
    "\n",
    "print('text 최소 길이 : {}'.format(np.min(text_len)))\n",
    "print('text 최대 길이 : {}'.format(np.max(text_len)))\n",
    "print('text 평균 길이 : {}'.format(np.mean(text_len)))\n",
    "print('headlines 최소 길이 : {}'.format(np.min(summary_len)))\n",
    "print('headlines 최대 길이 : {}'.format(np.max(summary_len)))\n",
    "print('headlines 평균 길이 : {}'.format(np.mean(summary_len)))\n",
    "\n",
    "plt.subplot(1,2,1)\n",
    "plt.boxplot(text_len)\n",
    "plt.title('text')\n",
    "plt.subplot(1,2,2)\n",
    "plt.boxplot(summary_len)\n",
    "plt.title('headlines')\n",
    "plt.tight_layout()\n",
    "plt.show()\n",
    "\n",
    "plt.title('text')\n",
    "plt.hist(text_len, bins = 40)\n",
    "plt.xlabel('length of samples')\n",
    "plt.ylabel('number of samples')\n",
    "plt.show()\n",
    "\n",
    "plt.title('headlines')\n",
    "plt.hist(summary_len, bins = 40)\n",
    "plt.xlabel('length of samples')\n",
    "plt.ylabel('number of samples')\n",
    "plt.show()"
   ]
  },
  {
   "cell_type": "markdown",
   "id": "5932a29d",
   "metadata": {},
   "source": [
    " - text 최대 길이 : 60\n",
    " - headlines 최대 길이 : 16\n",
    " \n",
    " ### 이 정보를 통해 임의로 Text와 Headline의 길이를 정함\n",
    " \n",
    " ### 시작 토큰과 종료 토큰 입력"
   ]
  },
  {
   "cell_type": "code",
   "execution_count": 14,
   "id": "b9c647f2",
   "metadata": {},
   "outputs": [
    {
     "data": {
      "text/html": [
       "<div>\n",
       "<style scoped>\n",
       "    .dataframe tbody tr th:only-of-type {\n",
       "        vertical-align: middle;\n",
       "    }\n",
       "\n",
       "    .dataframe tbody tr th {\n",
       "        vertical-align: top;\n",
       "    }\n",
       "\n",
       "    .dataframe thead th {\n",
       "        text-align: right;\n",
       "    }\n",
       "</style>\n",
       "<table border=\"1\" class=\"dataframe\">\n",
       "  <thead>\n",
       "    <tr style=\"text-align: right;\">\n",
       "      <th></th>\n",
       "      <th>headlines</th>\n",
       "      <th>text</th>\n",
       "      <th>decoder_input</th>\n",
       "      <th>decoder_target</th>\n",
       "    </tr>\n",
       "  </thead>\n",
       "  <tbody>\n",
       "    <tr>\n",
       "      <th>0</th>\n",
       "      <td>upgrad learner switches to career in ml al wit...</td>\n",
       "      <td>saurav kant alumnus upgrad iiit pg program mac...</td>\n",
       "      <td>sostoken upgrad learner switches to career in ...</td>\n",
       "      <td>upgrad learner switches to career in ml al wit...</td>\n",
       "    </tr>\n",
       "    <tr>\n",
       "      <th>1</th>\n",
       "      <td>delhi techie wins free food from swiggy for on...</td>\n",
       "      <td>kunal shah credit card bill payment platform c...</td>\n",
       "      <td>sostoken delhi techie wins free food from swig...</td>\n",
       "      <td>delhi techie wins free food from swiggy for on...</td>\n",
       "    </tr>\n",
       "    <tr>\n",
       "      <th>2</th>\n",
       "      <td>new zealand end rohit sharma led india match w...</td>\n",
       "      <td>new zealand defeated india wickets fourth odi ...</td>\n",
       "      <td>sostoken new zealand end rohit sharma led indi...</td>\n",
       "      <td>new zealand end rohit sharma led india match w...</td>\n",
       "    </tr>\n",
       "    <tr>\n",
       "      <th>3</th>\n",
       "      <td>aegon life iterm insurance plan helps customer...</td>\n",
       "      <td>aegon life iterm insurance plan customers enjo...</td>\n",
       "      <td>sostoken aegon life iterm insurance plan helps...</td>\n",
       "      <td>aegon life iterm insurance plan helps customer...</td>\n",
       "    </tr>\n",
       "    <tr>\n",
       "      <th>4</th>\n",
       "      <td>have known hirani for yrs what if metoo claims...</td>\n",
       "      <td>speaking sexual harassment allegations rajkuma...</td>\n",
       "      <td>sostoken have known hirani for yrs what if met...</td>\n",
       "      <td>have known hirani for yrs what if metoo claims...</td>\n",
       "    </tr>\n",
       "  </tbody>\n",
       "</table>\n",
       "</div>"
      ],
      "text/plain": [
       "                                           headlines  \\\n",
       "0  upgrad learner switches to career in ml al wit...   \n",
       "1  delhi techie wins free food from swiggy for on...   \n",
       "2  new zealand end rohit sharma led india match w...   \n",
       "3  aegon life iterm insurance plan helps customer...   \n",
       "4  have known hirani for yrs what if metoo claims...   \n",
       "\n",
       "                                                text  \\\n",
       "0  saurav kant alumnus upgrad iiit pg program mac...   \n",
       "1  kunal shah credit card bill payment platform c...   \n",
       "2  new zealand defeated india wickets fourth odi ...   \n",
       "3  aegon life iterm insurance plan customers enjo...   \n",
       "4  speaking sexual harassment allegations rajkuma...   \n",
       "\n",
       "                                       decoder_input  \\\n",
       "0  sostoken upgrad learner switches to career in ...   \n",
       "1  sostoken delhi techie wins free food from swig...   \n",
       "2  sostoken new zealand end rohit sharma led indi...   \n",
       "3  sostoken aegon life iterm insurance plan helps...   \n",
       "4  sostoken have known hirani for yrs what if met...   \n",
       "\n",
       "                                      decoder_target  \n",
       "0  upgrad learner switches to career in ml al wit...  \n",
       "1  delhi techie wins free food from swiggy for on...  \n",
       "2  new zealand end rohit sharma led india match w...  \n",
       "3  aegon life iterm insurance plan helps customer...  \n",
       "4  have known hirani for yrs what if metoo claims...  "
      ]
     },
     "execution_count": 14,
     "metadata": {},
     "output_type": "execute_result"
    }
   ],
   "source": [
    "text_max_len = 40\n",
    "summary_max_len = 12\n",
    "data['decoder_input'] = data['headlines'].apply(lambda x : 'sostoken '+ x)\n",
    "data['decoder_target'] = data['headlines'].apply(lambda x : x + ' eostoken')\n",
    "data.head()"
   ]
  },
  {
   "cell_type": "markdown",
   "id": "95fbcfe1",
   "metadata": {},
   "source": [
    "### 인코더의 입력, 디코더의 입력과 레이블을 각각 다시 Numpy 타입으로 저장"
   ]
  },
  {
   "cell_type": "code",
   "execution_count": 15,
   "id": "eeed36ca",
   "metadata": {},
   "outputs": [],
   "source": [
    "encoder_input = np.array(data['text']) # 인코더의 입력\n",
    "decoder_input = np.array(data['decoder_input']) # 디코더의 입력\n",
    "decoder_target = np.array(data['decoder_target']) # 디코더의 레이블"
   ]
  },
  {
   "cell_type": "markdown",
   "id": "8a3f4665",
   "metadata": {},
   "source": [
    "### encoder_input과 크기와 형태가 같은 순서가 섞인 정수 시퀀스를 생성"
   ]
  },
  {
   "cell_type": "code",
   "execution_count": 16,
   "id": "8d1ce0b7",
   "metadata": {},
   "outputs": [
    {
     "name": "stdout",
     "output_type": "stream",
     "text": [
      "[67655 78869 53311 ...  4968 85147 33638]\n"
     ]
    }
   ],
   "source": [
    "indices = np.arange(encoder_input.shape[0])\n",
    "np.random.shuffle(indices)\n",
    "print(indices)"
   ]
  },
  {
   "cell_type": "markdown",
   "id": "f0ae6983",
   "metadata": {},
   "source": [
    "### 다시 데이터의 샘플 순서를 정의해 섞음"
   ]
  },
  {
   "cell_type": "code",
   "execution_count": 17,
   "id": "76098c3a",
   "metadata": {},
   "outputs": [],
   "source": [
    "encoder_input = encoder_input[indices]\n",
    "decoder_input = decoder_input[indices]\n",
    "decoder_target = decoder_target[indices]"
   ]
  },
  {
   "cell_type": "markdown",
   "id": "84c0cf99",
   "metadata": {},
   "source": [
    "### 섞인 데이터를 8:2의 비율로 훈련 데이터와 테스트 데이터로 분리"
   ]
  },
  {
   "cell_type": "code",
   "execution_count": 19,
   "id": "f7886da5",
   "metadata": {},
   "outputs": [
    {
     "name": "stdout",
     "output_type": "stream",
     "text": [
      "테스트 데이터의 수 : 19680\n"
     ]
    }
   ],
   "source": [
    "n_of_val = int(len(encoder_input)*0.2)\n",
    "print('테스트 데이터의 수 :', n_of_val)"
   ]
  },
  {
   "cell_type": "markdown",
   "id": "3f9c5ee7",
   "metadata": {},
   "source": [
    " - 0.2를 곱해 테스트 데이터의 크기 정의"
   ]
  },
  {
   "cell_type": "markdown",
   "id": "62483e56",
   "metadata": {},
   "source": [
    "---\n",
    "\n",
    "### 이렇게 정의한 테스트 데이터의 개수를 이용해 전체 데이터를 양분"
   ]
  },
  {
   "cell_type": "code",
   "execution_count": 20,
   "id": "ac1b0fde",
   "metadata": {},
   "outputs": [
    {
     "name": "stdout",
     "output_type": "stream",
     "text": [
      "train 데이터의 개수 : 78721\n",
      "train 레이블의 개수 : 78721\n",
      "test 데이터의 개수 : 19680\n",
      "test 레이블의 개수 : 19680\n"
     ]
    }
   ],
   "source": [
    "encoder_input_train = encoder_input[:-n_of_val]\n",
    "decoder_input_train = decoder_input[:-n_of_val]\n",
    "decoder_target_train = decoder_target[:-n_of_val]\n",
    "\n",
    "encoder_input_test = encoder_input[-n_of_val:]\n",
    "decoder_input_test = decoder_input[-n_of_val:]\n",
    "decoder_target_test = decoder_target[-n_of_val:]\n",
    "\n",
    "print('train 데이터의 개수 :', len(encoder_input_train))\n",
    "print('train 레이블의 개수 :', len(decoder_input_train))\n",
    "print('test 데이터의 개수 :', len(encoder_input_test))\n",
    "print('test 레이블의 개수 :', len(decoder_input_test))"
   ]
  },
  {
   "cell_type": "markdown",
   "id": "08f711f9",
   "metadata": {},
   "source": [
    "## 단어 집합 만들기 및 정수 인코딩\n",
    "\n",
    "### 입력된 훈련 데이터로부터 단어 집합"
   ]
  },
  {
   "cell_type": "code",
   "execution_count": 21,
   "id": "14988887",
   "metadata": {},
   "outputs": [],
   "source": [
    "src_tokenizer = Tokenizer() # 토크나이저 정의\n",
    "src_tokenizer.fit_on_texts(encoder_input_train) # 입력된 데이터로부터 단어 집합 생성"
   ]
  },
  {
   "cell_type": "markdown",
   "id": "e3772187",
   "metadata": {},
   "source": [
    "### 등장 빈도수가 7회 미만인 단어들이 이 데이터에서 얼만큼의 비중을 차지하는지 확인"
   ]
  },
  {
   "cell_type": "code",
   "execution_count": 22,
   "id": "c9f55b60",
   "metadata": {},
   "outputs": [
    {
     "name": "stdout",
     "output_type": "stream",
     "text": [
      "단어 집합(vocabulary)의 크기 : 69619\n",
      "등장 빈도가 6번 이하인 희귀 단어의 수: 47452\n",
      "단어 집합에서 희귀 단어를 제외시킬 경우의 단어 집합의 크기 22167\n",
      "단어 집합에서 희귀 단어의 비율: 68.15955414470187\n",
      "전체 등장 빈도에서 희귀 단어 등장 빈도 비율: 3.4901708339349122\n"
     ]
    }
   ],
   "source": [
    "threshold = 7\n",
    "total_cnt = len(src_tokenizer.word_index) # 단어의 수\n",
    "rare_cnt = 0 # 등장 빈도수가 threshold보다 작은 단어의 개수를 카운트\n",
    "total_freq = 0 # 훈련 데이터의 전체 단어 빈도수 총 합\n",
    "rare_freq = 0 # 등장 빈도수가 threshold보다 작은 단어의 등장 빈도수의 총 합\n",
    "\n",
    "# 단어와 빈도수의 쌍(pair)을 key와 value로 받는다.\n",
    "for key, value in src_tokenizer.word_counts.items():\n",
    "    total_freq = total_freq + value\n",
    "\n",
    "    # 단어의 등장 빈도수가 threshold보다 작으면\n",
    "    if(value < threshold):\n",
    "        rare_cnt = rare_cnt + 1\n",
    "        rare_freq = rare_freq + value\n",
    "\n",
    "print('단어 집합(vocabulary)의 크기 :', total_cnt)\n",
    "print('등장 빈도가 %s번 이하인 희귀 단어의 수: %s'%(threshold - 1, rare_cnt))\n",
    "print('단어 집합에서 희귀 단어를 제외시킬 경우의 단어 집합의 크기 %s'%(total_cnt - rare_cnt))\n",
    "print(\"단어 집합에서 희귀 단어의 비율:\", (rare_cnt / total_cnt)*100)\n",
    "print(\"전체 등장 빈도에서 희귀 단어 등장 빈도 비율:\", (rare_freq / total_freq)*100)"
   ]
  },
  {
   "cell_type": "markdown",
   "id": "15b8c3bd",
   "metadata": {},
   "source": [
    "###  등장 빈도가 6회 이하인 단어들은 정수 인코딩 과정에서 빼고, 훈련 데이터에서 제거"
   ]
  },
  {
   "cell_type": "code",
   "execution_count": 23,
   "id": "d1cb4681",
   "metadata": {},
   "outputs": [],
   "source": [
    "src_vocab = 21000\n",
    "src_tokenizer = Tokenizer(num_words=src_vocab)\n",
    "src_tokenizer.fit_on_texts(encoder_input_train)"
   ]
  },
  {
   "cell_type": "markdown",
   "id": "3671efff",
   "metadata": {},
   "source": [
    "---"
   ]
  },
  {
   "cell_type": "markdown",
   "id": "647e07b2",
   "metadata": {},
   "source": [
    " -  texts_to_sequences()는 생성된 단어 집합에 기반하여 입력으로 주어진 텍스트 데이터의 단어들을 모두 정수로 변환하는 정수 인코딩을 수행 \n",
    " \n",
    " - 현재 단어 집합의 크기를 20,000으로 제한 \n",
    " \n",
    " - 20,000이 넘는 숫자들은 정수 인코딩 후에는 데이터에 존재하지 않음."
   ]
  },
  {
   "cell_type": "code",
   "execution_count": 24,
   "id": "2f6f29dc",
   "metadata": {},
   "outputs": [
    {
     "name": "stdout",
     "output_type": "stream",
     "text": [
      "[[359, 48, 14, 3303, 2870, 61, 1281, 901, 6255, 75, 9133, 511, 461, 1689, 9134, 3771, 182, 126, 4332, 8277, 260, 550, 229, 1, 359, 2100, 39, 5607, 12548, 146], [2, 53, 40, 1902, 1974, 2093, 620, 162, 841, 4399, 8, 2067, 57, 9, 79, 11572, 47, 56, 1998, 60, 143, 21, 2033, 4944, 120, 110, 8037, 1974, 8278, 6632, 6557, 5996, 53, 18, 188], [463, 9643, 435, 3, 13, 2339, 296, 2799, 72, 284, 2696, 600, 161, 377, 2203, 11573, 91, 86, 5294, 12952, 72, 324, 7, 385, 2086, 19436, 435, 1507, 3108, 9300, 7373, 72, 298, 722, 1301]]\n"
     ]
    }
   ],
   "source": [
    "encoder_input_train = src_tokenizer.texts_to_sequences(encoder_input_train)\n",
    "encoder_input_test = src_tokenizer.texts_to_sequences(encoder_input_test)\n",
    "\n",
    "# 잘 진행되었는지 샘플 출력\n",
    "print(encoder_input_train[:3])"
   ]
  },
  {
   "cell_type": "markdown",
   "id": "62c7450a",
   "metadata": {},
   "source": [
    "###  케라스의 토크나이저를 사용하여 decoder_input_train을 입력으로 전체 단어 집합과 각 단어에 대한 빈도수를 계산"
   ]
  },
  {
   "cell_type": "code",
   "execution_count": 25,
   "id": "30ed91c9",
   "metadata": {},
   "outputs": [],
   "source": [
    "tar_tokenizer = Tokenizer()\n",
    "tar_tokenizer.fit_on_texts(decoder_input_train)"
   ]
  },
  {
   "cell_type": "markdown",
   "id": "7fc13488",
   "metadata": {},
   "source": [
    "### 등장 빈도수가 6회 미만인 단어들이 이 데이터에서 얼만큼의 비중을 차지하는지 확인"
   ]
  },
  {
   "cell_type": "code",
   "execution_count": 26,
   "id": "dd9c2bc4",
   "metadata": {},
   "outputs": [
    {
     "name": "stdout",
     "output_type": "stream",
     "text": [
      "단어 집합(vocabulary)의 크기 : 30088\n",
      "등장 빈도가 5번 이하인 희귀 단어의 수: 19689\n",
      "단어 집합에서 희귀 단어를 제외시킬 경우의 단어 집합의 크기 10399\n",
      "단어 집합에서 희귀 단어의 비율: 65.43804839138528\n",
      "전체 등장 빈도에서 희귀 단어 등장 빈도 비율: 4.656990912947816\n"
     ]
    }
   ],
   "source": [
    "threshold = 6\n",
    "total_cnt = len(tar_tokenizer.word_index) # 단어의 수\n",
    "rare_cnt = 0 # 등장 빈도수가 threshold보다 작은 단어의 개수를 카운트\n",
    "total_freq = 0 # 훈련 데이터의 전체 단어 빈도수 총 합\n",
    "rare_freq = 0 # 등장 빈도수가 threshold보다 작은 단어의 등장 빈도수의 총 합\n",
    "\n",
    "# 단어와 빈도수의 쌍(pair)을 key와 value로 받는다.\n",
    "for key, value in tar_tokenizer.word_counts.items():\n",
    "    total_freq = total_freq + value\n",
    "\n",
    "    # 단어의 등장 빈도수가 threshold보다 작으면\n",
    "    if(value < threshold):\n",
    "        rare_cnt = rare_cnt + 1\n",
    "        rare_freq = rare_freq + value\n",
    "\n",
    "print('단어 집합(vocabulary)의 크기 :', total_cnt)\n",
    "print('등장 빈도가 %s번 이하인 희귀 단어의 수: %s'%(threshold - 1, rare_cnt))\n",
    "print('단어 집합에서 희귀 단어를 제외시킬 경우의 단어 집합의 크기 %s'%(total_cnt - rare_cnt))\n",
    "print(\"단어 집합에서 희귀 단어의 비율:\", (rare_cnt / total_cnt)*100)\n",
    "print(\"전체 등장 빈도에서 희귀 단어 등장 빈도 비율:\", (rare_freq / total_freq)*100)"
   ]
  },
  {
   "cell_type": "markdown",
   "id": "b205e346",
   "metadata": {},
   "source": [
    "### 등장 빈도가 5회 이하인 단어들은 정수 인코딩 과정에서 빼고, 훈련 데이터에서 제거"
   ]
  },
  {
   "cell_type": "code",
   "execution_count": 27,
   "id": "758096d2",
   "metadata": {},
   "outputs": [
    {
     "name": "stdout",
     "output_type": "stream",
     "text": [
      "input\n",
      "input  [[1, 349, 36, 1466, 726, 6, 55, 3787, 4, 326], [1, 8, 67, 2231, 1657, 3181, 1347, 6476, 126, 17, 5016, 24], [1, 1102, 1313, 355, 501, 3505, 48, 402, 7, 227], [1, 47, 23, 10, 259, 71, 92, 333, 2520, 7, 5669, 3, 5017], [1, 2144, 1869, 519, 3, 10, 1193, 3591, 807, 25, 4, 691]]\n",
      "target\n",
      "decoder  [[349, 36, 1466, 726, 6, 55, 3787, 4, 326, 2], [8, 67, 2231, 1657, 3181, 1347, 6476, 126, 17, 5016, 24, 2], [1102, 1313, 355, 501, 3505, 48, 402, 7, 227, 2], [47, 23, 10, 259, 71, 92, 333, 2520, 7, 5669, 3, 5017, 2], [2144, 1869, 519, 3, 10, 1193, 3591, 807, 25, 4, 691, 2]]\n"
     ]
    }
   ],
   "source": [
    "tar_vocab = 10000\n",
    "tar_tokenizer = Tokenizer(num_words=tar_vocab)\n",
    "tar_tokenizer.fit_on_texts(decoder_input_train)\n",
    "tar_tokenizer.fit_on_texts(decoder_target_train)\n",
    "\n",
    "# 텍스트 시퀀스를 정수 시퀀스로 변환\n",
    "decoder_input_train = tar_tokenizer.texts_to_sequences(decoder_input_train)\n",
    "decoder_target_train = tar_tokenizer.texts_to_sequences(decoder_target_train)\n",
    "decoder_input_test = tar_tokenizer.texts_to_sequences(decoder_input_test)\n",
    "decoder_target_test = tar_tokenizer.texts_to_sequences(decoder_target_test)\n",
    "\n",
    "# 잘 변환되었는지 확인\n",
    "print('input')\n",
    "print('input ',decoder_input_train[:5])\n",
    "print('target')\n",
    "print('decoder ',decoder_target_train[:5])"
   ]
  },
  {
   "cell_type": "markdown",
   "id": "5e577bb2",
   "metadata": {},
   "source": [
    "## 패딩하기"
   ]
  },
  {
   "cell_type": "code",
   "execution_count": 28,
   "id": "211a2819",
   "metadata": {},
   "outputs": [],
   "source": [
    "encoder_input_train = pad_sequences(encoder_input_train, maxlen=text_max_len, padding='post')\n",
    "encoder_input_test = pad_sequences(encoder_input_test, maxlen=text_max_len, padding='post')\n",
    "decoder_input_train = pad_sequences(decoder_input_train, maxlen=summary_max_len, padding='post')\n",
    "decoder_target_train = pad_sequences(decoder_target_train, maxlen=summary_max_len, padding='post')\n",
    "decoder_input_test = pad_sequences(decoder_input_test, maxlen=summary_max_len, padding='post')\n",
    "decoder_target_test = pad_sequences(decoder_target_test, maxlen=summary_max_len, padding='post')"
   ]
  },
  {
   "cell_type": "markdown",
   "id": "6756ab63",
   "metadata": {},
   "source": [
    "# 4. 모델 설계\n",
    "\n",
    "### endoder 설계"
   ]
  },
  {
   "cell_type": "code",
   "execution_count": 33,
   "id": "0eda2f7d",
   "metadata": {},
   "outputs": [
    {
     "name": "stdout",
     "output_type": "stream",
     "text": [
      "KerasTensor(type_spec=TensorSpec(shape=(None, 40), dtype=tf.float32, name='input_1'), name='input_1', description=\"created by layer 'input_1'\")\n"
     ]
    }
   ],
   "source": [
    "embedding_dim = 128\n",
    "hidden_size = 256\n",
    "\n",
    "encoder_inputs = Input(shape=(text_max_len,))\n",
    "print(encoder_inputs)\n",
    "# encoder 임베딩 층\n",
    "enc_emb = Embedding(src_vocab, embedding_dim)(encoder_inputs)\n",
    "\n",
    "# encoder LSTM 1\n",
    "encoder_lstm1 = LSTM(hidden_size, return_sequences=True, return_state=True ,dropout = 0.4)\n",
    "encoder_output1, state_h1, state_c1 = encoder_lstm1(enc_emb)\n",
    "\n",
    "# encoder LSTM 2\n",
    "encoder_lstm2 = LSTM(hidden_size, return_sequences=True, return_state=True ,dropout = 0.4)\n",
    "encoder_output2, state_h2, state_c2 = encoder_lstm2(encoder_output1)\n",
    "\n",
    "# encoder LSTM 3\n",
    "encoder_lstm3 = LSTM(hidden_size, return_sequences=False, return_state=True ,dropout = 0.4)\n",
    "encoder_outputs, state_h, state_c = encoder_lstm2(encoder_output2)"
   ]
  },
  {
   "cell_type": "markdown",
   "id": "ac1598e6",
   "metadata": {},
   "source": [
    "### decoder 설계"
   ]
  },
  {
   "cell_type": "code",
   "execution_count": 34,
   "id": "8fd5c8c3",
   "metadata": {},
   "outputs": [
    {
     "name": "stdout",
     "output_type": "stream",
     "text": [
      "Model: \"model\"\n",
      "__________________________________________________________________________________________________\n",
      "Layer (type)                    Output Shape         Param #     Connected to                     \n",
      "==================================================================================================\n",
      "input_1 (InputLayer)            [(None, 40)]         0                                            \n",
      "__________________________________________________________________________________________________\n",
      "embedding (Embedding)           (None, 40, 128)      2688000     input_1[0][0]                    \n",
      "__________________________________________________________________________________________________\n",
      "lstm (LSTM)                     [(None, 40, 256), (N 394240      embedding[0][0]                  \n",
      "__________________________________________________________________________________________________\n",
      "input_2 (InputLayer)            [(None, None)]       0                                            \n",
      "__________________________________________________________________________________________________\n",
      "lstm_1 (LSTM)                   [(None, 40, 256), (N 525312      lstm[0][0]                       \n",
      "                                                                 lstm_1[0][0]                     \n",
      "__________________________________________________________________________________________________\n",
      "embedding_1 (Embedding)         (None, None, 128)    1280000     input_2[0][0]                    \n",
      "__________________________________________________________________________________________________\n",
      "lstm_3 (LSTM)                   [(None, None, 256),  394240      embedding_1[0][0]                \n",
      "                                                                 lstm_1[1][1]                     \n",
      "                                                                 lstm_1[1][2]                     \n",
      "__________________________________________________________________________________________________\n",
      "dense (Dense)                   (None, None, 10000)  2570000     lstm_3[0][0]                     \n",
      "==================================================================================================\n",
      "Total params: 7,851,792\n",
      "Trainable params: 7,851,792\n",
      "Non-trainable params: 0\n",
      "__________________________________________________________________________________________________\n"
     ]
    }
   ],
   "source": [
    "decoder_inputs = Input(shape=(None,))\n",
    "\n",
    "# decoder 임베딩 층\n",
    "dec_emb_layer = Embedding(tar_vocab, embedding_dim)\n",
    "dec_emb = dec_emb_layer(decoder_inputs)\n",
    "\n",
    "# decoder LSTM\n",
    "# decoder_lstm = LSTM(hidden_size, return_sequences=True, return_state=True, dropout=0.4, recurrent_dropout=0.2)\n",
    "decoder_lstm = LSTM(hidden_size, return_sequences=True, return_state=True, dropout=0.4)\n",
    "decoder_outputs, _, _ = decoder_lstm(dec_emb, initial_state=[state_h, state_c])\n",
    "\n",
    "# decoder 출력층\n",
    "decoder_softmax_layer = Dense(tar_vocab, activation='softmax')\n",
    "decoder_softmax_outputs = decoder_softmax_layer(decoder_outputs)\n",
    "\n",
    "# 모델 정의\n",
    "model = Model([encoder_inputs, decoder_inputs], decoder_softmax_outputs)\n",
    "model.summary()"
   ]
  },
  {
   "cell_type": "markdown",
   "id": "a70dbdd5",
   "metadata": {},
   "source": [
    "## 어텐션 메커니즘\n",
    "\n",
    "### 어텐션 메커니즘을 수행하는 어텐션 함수를 설계하는 것은 또 다른 새로운 신경망을 설계해야 한다는 뜻\n",
    "\n",
    " - 어텐션 층을 만들고, 위에서 설계한 디코더의 출력층을 수정"
   ]
  },
  {
   "cell_type": "code",
   "execution_count": 35,
   "id": "a728a01d",
   "metadata": {},
   "outputs": [
    {
     "name": "stdout",
     "output_type": "stream",
     "text": [
      "Model: \"model_1\"\n",
      "__________________________________________________________________________________________________\n",
      "Layer (type)                    Output Shape         Param #     Connected to                     \n",
      "==================================================================================================\n",
      "input_1 (InputLayer)            [(None, 40)]         0                                            \n",
      "__________________________________________________________________________________________________\n",
      "embedding (Embedding)           (None, 40, 128)      2688000     input_1[0][0]                    \n",
      "__________________________________________________________________________________________________\n",
      "lstm (LSTM)                     [(None, 40, 256), (N 394240      embedding[0][0]                  \n",
      "__________________________________________________________________________________________________\n",
      "input_2 (InputLayer)            [(None, None)]       0                                            \n",
      "__________________________________________________________________________________________________\n",
      "lstm_1 (LSTM)                   [(None, 40, 256), (N 525312      lstm[0][0]                       \n",
      "                                                                 lstm_1[0][0]                     \n",
      "__________________________________________________________________________________________________\n",
      "embedding_1 (Embedding)         (None, None, 128)    1280000     input_2[0][0]                    \n",
      "__________________________________________________________________________________________________\n",
      "lstm_3 (LSTM)                   [(None, None, 256),  394240      embedding_1[0][0]                \n",
      "                                                                 lstm_1[1][1]                     \n",
      "                                                                 lstm_1[1][2]                     \n",
      "__________________________________________________________________________________________________\n",
      "attention_layer (AdditiveAttent (None, None, 256)    256         lstm_3[0][0]                     \n",
      "                                                                 lstm_1[1][0]                     \n",
      "__________________________________________________________________________________________________\n",
      "concat_layer (Concatenate)      (None, None, 512)    0           lstm_3[0][0]                     \n",
      "                                                                 attention_layer[0][0]            \n",
      "__________________________________________________________________________________________________\n",
      "dense_1 (Dense)                 (None, None, 10000)  5130000     concat_layer[0][0]               \n",
      "==================================================================================================\n",
      "Total params: 10,412,048\n",
      "Trainable params: 10,412,048\n",
      "Non-trainable params: 0\n",
      "__________________________________________________________________________________________________\n"
     ]
    }
   ],
   "source": [
    "attn_layer = AdditiveAttention(name='attention_layer')\n",
    "\n",
    "# encoder, decoder 모든 time step의 hidden state를 attention 층에 전달하고 결과를 리턴\n",
    "attn_out = attn_layer([decoder_outputs, encoder_outputs])\n",
    "\n",
    "\n",
    "# attention 결과와 decoder hidden state들을 연결\n",
    "decoder_concat_input = Concatenate(axis=-1, name='concat_layer')([decoder_outputs, attn_out])\n",
    "\n",
    "# decoder 출력층\n",
    "decoder_softmax_layer = Dense(tar_vocab, activation='softmax')\n",
    "decoder_softmax_outputs = decoder_softmax_layer(decoder_concat_input)\n",
    "\n",
    "# 모델 정의\n",
    "model = Model([encoder_inputs, decoder_inputs], decoder_softmax_outputs)\n",
    "model.summary()"
   ]
  },
  {
   "cell_type": "markdown",
   "id": "c53b4a8e",
   "metadata": {},
   "source": [
    "### 모델 훈련"
   ]
  },
  {
   "cell_type": "code",
   "execution_count": 36,
   "id": "33d0d180",
   "metadata": {},
   "outputs": [
    {
     "name": "stdout",
     "output_type": "stream",
     "text": [
      "Epoch 1/50\n",
      "308/308 [==============================] - 36s 93ms/step - loss: 5.6460 - val_loss: 5.2232\n",
      "Epoch 2/50\n",
      "308/308 [==============================] - 28s 90ms/step - loss: 5.0512 - val_loss: 4.8307\n",
      "Epoch 3/50\n",
      "308/308 [==============================] - 28s 91ms/step - loss: 4.7144 - val_loss: 4.5759\n",
      "Epoch 4/50\n",
      "308/308 [==============================] - 29s 93ms/step - loss: 4.4603 - val_loss: 4.3897\n",
      "Epoch 5/50\n",
      "308/308 [==============================] - 29s 94ms/step - loss: 4.2550 - val_loss: 4.2595\n",
      "Epoch 6/50\n",
      "308/308 [==============================] - 29s 95ms/step - loss: 4.0878 - val_loss: 4.1460\n",
      "Epoch 7/50\n",
      "308/308 [==============================] - 30s 96ms/step - loss: 3.9439 - val_loss: 4.0561\n",
      "Epoch 8/50\n",
      "308/308 [==============================] - 30s 97ms/step - loss: 3.8160 - val_loss: 3.9854\n",
      "Epoch 9/50\n",
      "308/308 [==============================] - 30s 97ms/step - loss: 3.7007 - val_loss: 3.9271\n",
      "Epoch 10/50\n",
      "308/308 [==============================] - 30s 97ms/step - loss: 3.5981 - val_loss: 3.8680\n",
      "Epoch 11/50\n",
      "308/308 [==============================] - 30s 97ms/step - loss: 3.5090 - val_loss: 3.8287\n",
      "Epoch 12/50\n",
      "308/308 [==============================] - 30s 97ms/step - loss: 3.4297 - val_loss: 3.8003\n",
      "Epoch 13/50\n",
      "308/308 [==============================] - 30s 97ms/step - loss: 3.3580 - val_loss: 3.7710\n",
      "Epoch 14/50\n",
      "308/308 [==============================] - 30s 97ms/step - loss: 3.2880 - val_loss: 3.7543\n",
      "Epoch 15/50\n",
      "308/308 [==============================] - 30s 97ms/step - loss: 3.2272 - val_loss: 3.7315\n",
      "Epoch 16/50\n",
      "308/308 [==============================] - 30s 97ms/step - loss: 3.1690 - val_loss: 3.7297\n",
      "Epoch 17/50\n",
      "308/308 [==============================] - 30s 96ms/step - loss: 3.1153 - val_loss: 3.7059\n",
      "Epoch 18/50\n",
      "308/308 [==============================] - 30s 97ms/step - loss: 3.0664 - val_loss: 3.6930\n",
      "Epoch 19/50\n",
      "308/308 [==============================] - 30s 97ms/step - loss: 3.0206 - val_loss: 3.6857\n",
      "Epoch 20/50\n",
      "308/308 [==============================] - 30s 97ms/step - loss: 2.9759 - val_loss: 3.6775\n",
      "Epoch 21/50\n",
      "308/308 [==============================] - 30s 97ms/step - loss: 2.9348 - val_loss: 3.6702\n",
      "Epoch 22/50\n",
      "308/308 [==============================] - 30s 97ms/step - loss: 2.8960 - val_loss: 3.6637\n",
      "Epoch 23/50\n",
      "308/308 [==============================] - 30s 97ms/step - loss: 2.8600 - val_loss: 3.6607\n",
      "Epoch 24/50\n",
      "308/308 [==============================] - 30s 97ms/step - loss: 2.8224 - val_loss: 3.6514\n",
      "Epoch 25/50\n",
      "308/308 [==============================] - 30s 97ms/step - loss: 2.7881 - val_loss: 3.6559\n",
      "Epoch 26/50\n",
      "308/308 [==============================] - 30s 96ms/step - loss: 2.7559 - val_loss: 3.6464\n",
      "Epoch 27/50\n",
      "308/308 [==============================] - 30s 96ms/step - loss: 2.7255 - val_loss: 3.6508\n",
      "Epoch 28/50\n",
      "308/308 [==============================] - 30s 96ms/step - loss: 2.6953 - val_loss: 3.6490\n",
      "Epoch 29/50\n",
      "308/308 [==============================] - 30s 97ms/step - loss: 2.6644 - val_loss: 3.6457\n",
      "Epoch 30/50\n",
      "308/308 [==============================] - 30s 97ms/step - loss: 2.6401 - val_loss: 3.6544\n",
      "Epoch 31/50\n",
      "308/308 [==============================] - 30s 97ms/step - loss: 2.6179 - val_loss: 3.6539\n",
      "Epoch 32/50\n",
      "308/308 [==============================] - 30s 96ms/step - loss: 2.5949 - val_loss: 3.6542\n",
      "Epoch 33/50\n",
      "308/308 [==============================] - 30s 97ms/step - loss: 2.5709 - val_loss: 3.6580\n",
      "Epoch 34/50\n",
      "308/308 [==============================] - 30s 97ms/step - loss: 2.5498 - val_loss: 3.6628\n",
      "Epoch 00034: early stopping\n"
     ]
    }
   ],
   "source": [
    "model.compile(optimizer='rmsprop', loss='sparse_categorical_crossentropy')\n",
    "es = EarlyStopping(monitor='val_loss', patience=5, verbose=1)\n",
    "history = model.fit(x=[encoder_input_train, decoder_input_train], y=decoder_target_train, \\\n",
    "          validation_data=([encoder_input_test, decoder_input_test], decoder_target_test), \\\n",
    "          batch_size=256, callbacks=[es], epochs=50)"
   ]
  },
  {
   "cell_type": "markdown",
   "id": "de5446ab",
   "metadata": {},
   "source": [
    "### 훈련 데이터의 손실과 검증 데이터의 손실이 줄어드는 과정을 시각화"
   ]
  },
  {
   "cell_type": "code",
   "execution_count": 37,
   "id": "88747aa5",
   "metadata": {},
   "outputs": [
    {
     "data": {
      "image/png": "[encoded data removed]",
      "text/plain": [
       "<Figure size 432x288 with 1 Axes>"
      ]
     },
     "metadata": {
      "needs_background": "light"
     },
     "output_type": "display_data"
    }
   ],
   "source": [
    "plt.plot(history.history['loss'], label='train')\n",
    "plt.plot(history.history['val_loss'], label='test')\n",
    "plt.legend()\n",
    "plt.show()"
   ]
  },
  {
   "cell_type": "markdown",
   "id": "b437b350",
   "metadata": {},
   "source": [
    "# 5. 인퍼런스 모델 구현\n",
    "\n",
    "### 테스트 단계에서는 정수 인덱스 행렬로 존재하던 텍스트 데이터를 실제 데이터로 복원해야 하므로, 필요한 3개의 사전을 아래와 같이 미리 준비"
   ]
  },
  {
   "cell_type": "code",
   "execution_count": 38,
   "id": "892b3ad9",
   "metadata": {},
   "outputs": [],
   "source": [
    "src_index_to_word = src_tokenizer.index_word # 원문 단어 집합에서 정수 -> 단어를 얻음\n",
    "tar_word_to_index = tar_tokenizer.word_index # 요약 단어 집합에서 단어 -> 정수를 얻음\n",
    "tar_index_to_word = tar_tokenizer.index_word # 요약 단어 집합에서 정수 -> 단어를 얻음"
   ]
  },
  {
   "cell_type": "markdown",
   "id": "c96457f7",
   "metadata": {},
   "source": [
    " - 인퍼런스 단계에서는 만들어야 할 문장의 길이만큼 디코더가 반복 구조로 동작해야 하기 때문에 부득이하게 인퍼런스를 위한 모델 설계를 별도로로 해야함. \n",
    " - 이때는 인코더 모델과 디코더 모델을 분리해서 설계"
   ]
  },
  {
   "cell_type": "code",
   "execution_count": 40,
   "id": "6c1337a4",
   "metadata": {},
   "outputs": [],
   "source": [
    "# 인코더 설계\n",
    "encoder_model = Model(inputs=encoder_inputs, outputs=[encoder_outputs, state_h, state_c])\n",
    "\n",
    "# 이전 시점의 상태들을 저장하는 텐서\n",
    "decoder_state_input_h = Input(shape=(hidden_size,))\n",
    "decoder_state_input_c = Input(shape=(hidden_size,))\n",
    "\n",
    "dec_emb2 = dec_emb_layer(decoder_inputs)\n",
    "\n",
    "# 문장의 다음 단어를 예측하기 위해서 초기 상태(initial_state)를 이전 시점의 상태로 사용. 이는 뒤의 함수 decode_sequence()에 구현\n",
    "# 훈련 과정에서와 달리 LSTM의 리턴하는 은닉 상태와 셀 상태인 state_h와 state_c를 버리지 않음.\n",
    "decoder_outputs2, state_h2, state_c2 = decoder_lstm(dec_emb2, initial_state=[decoder_state_input_h, decoder_state_input_c])"
   ]
  },
  {
   "cell_type": "markdown",
   "id": "cced56e1",
   "metadata": {},
   "source": [
    "### 어텐션 메커니즘을 사용하는 출력층 설계"
   ]
  },
  {
   "cell_type": "code",
   "execution_count": 41,
   "id": "5d907f0d",
   "metadata": {},
   "outputs": [],
   "source": [
    "decoder_hidden_state_input = Input(shape=(text_max_len, hidden_size))\n",
    "attn_out_inf = attn_layer([decoder_outputs2, decoder_hidden_state_input])\n",
    "decoder_inf_concat = Concatenate(axis=-1, name='concat')([decoder_outputs2, attn_out_inf])\n",
    "\n",
    "# dscoder 출력층\n",
    "decoder_outputs2 = decoder_softmax_layer(decoder_inf_concat)\n",
    "\n",
    "# 최종 decoder 모델\n",
    "decoder_model = Model(\n",
    "    [decoder_inputs] + [decoder_hidden_state_input,decoder_state_input_h, decoder_state_input_c],\n",
    "    [decoder_outputs2] + [state_h2, state_c2])"
   ]
  },
  {
   "cell_type": "markdown",
   "id": "d2a45fac",
   "metadata": {},
   "source": [
    "### 인퍼런스 단계에서 단어 시퀀스를 완성하는 함수"
   ]
  },
  {
   "cell_type": "code",
   "execution_count": 42,
   "id": "88c455e5",
   "metadata": {},
   "outputs": [],
   "source": [
    "def decode_sequence(input_seq):\n",
    "    # 입력으로부터 인코더의 상태를 얻음\n",
    "    e_out, e_h, e_c = encoder_model.predict(input_seq)\n",
    "\n",
    "     # <SOS>에 해당하는 토큰 생성\n",
    "    target_seq = np.zeros((1,1))\n",
    "    target_seq[0, 0] = tar_word_to_index['sostoken']\n",
    "\n",
    "    stop_condition = False\n",
    "    decoded_sentence = ''\n",
    "    while not stop_condition: # stop_condition이 True가 될 때까지 루프 반복\n",
    "\n",
    "        output_tokens, h, c = decoder_model.predict([target_seq] + [e_out, e_h, e_c])\n",
    "        sampled_token_index = np.argmax(output_tokens[0, -1, :])\n",
    "        sampled_token = tar_index_to_word[sampled_token_index]\n",
    "\n",
    "        if (sampled_token!='eostoken'):\n",
    "            decoded_sentence += ' '+sampled_token\n",
    "\n",
    "        #  <eos>에 도달하거나 최대 길이를 넘으면 중단.\n",
    "        if (sampled_token == 'eostoken'  or len(decoded_sentence.split()) >= (summary_max_len-1)):\n",
    "            stop_condition = True\n",
    "\n",
    "        # 길이가 1인 타겟 시퀀스를 업데이트\n",
    "        target_seq = np.zeros((1,1))\n",
    "        target_seq[0, 0] = sampled_token_index\n",
    "\n",
    "        # 상태를 업데이트 합니다.\n",
    "        e_h, e_c = h, c\n",
    "\n",
    "    return decoded_sentence"
   ]
  },
  {
   "cell_type": "markdown",
   "id": "9d1257f6",
   "metadata": {},
   "source": [
    "# 6. 모델 테스트"
   ]
  },
  {
   "cell_type": "markdown",
   "id": "ca4b8688",
   "metadata": {},
   "source": [
    "--- \n",
    "\n",
    " - Text의 정수 시퀀스에서는 패딩을 위해 사용되는 숫자 0을 제외하고 Headlines의 정수 시퀀스에서는 숫자 0, 시작 토큰의 인덱스, 종료 토큰의 인덱스를 출력에서 제외하도록 만듦."
   ]
  },
  {
   "cell_type": "code",
   "execution_count": 43,
   "id": "959f54bc",
   "metadata": {},
   "outputs": [],
   "source": [
    "def seq2text(input_seq):\n",
    "    temp=''\n",
    "    for i in input_seq:\n",
    "        if (i!=0):\n",
    "            temp = temp + src_index_to_word[i]+' '\n",
    "    return temp"
   ]
  },
  {
   "cell_type": "code",
   "execution_count": 45,
   "id": "9787f393",
   "metadata": {},
   "outputs": [],
   "source": [
    "def seq2summary(input_seq):\n",
    "    temp=''\n",
    "    for i in input_seq:\n",
    "        if (i!=0 and tar_index_to_word[i]!='sostoken'):\n",
    "            temp = temp + tar_index_to_word[i]+' '\n",
    "    return temp"
   ]
  },
  {
   "cell_type": "markdown",
   "id": "5cab7410",
   "metadata": {},
   "source": [
    "### 테스트 데이터 약 50개의 샘플에 대해서 실제 요약과 예측된 요약을 비교"
   ]
  },
  {
   "cell_type": "code",
   "execution_count": 46,
   "id": "842ee0cb",
   "metadata": {},
   "outputs": [
    {
     "name": "stdout",
     "output_type": "stream",
     "text": [
      "원문 : grace bay beach islands topped travellers choice beach awards beach brazil beach cuba placed second third respectively beach goa placed th list indian beach top \n",
      "실제 요약 : grace bay beach named world best goa in top \n",
      "추상 요약 :  paris tower festival of the year\n",
      "\n",
      "\n",
      "원문 : study conducted reuters claims people stream video content netflix someone else account leads estimated crore losses company analyst also predicted netflix could lose crore revenue due reason \n",
      "실제 요약 : netflix loses cr because of password sharing study \n",
      "추상 요약 :  hackers are not paid for sale of money in wood\n",
      "\n",
      "\n",
      "원문 : first look poster govinda starrer rangeela raja unveiled seen double role portraying four distinct characters film govinda whose roles inspired lives vijay mallya baba ramdev collaborating pahlaj nihalani rangeela raja years \n",
      "실제 요약 : first look poster of govinda starrer raja out \n",
      "추상 요약 :  poster of unveiled on upcoming film unveiled\n",
      "\n",
      "\n",
      "원문 : state bank india chairperson arundhati bhattacharya reportedly offered position infosys board offer first made almost days ago vishal sikka resigned ceo bhattacharya also offered seat board another company invitation came two days infosys offer reports added \n",
      "실제 요약 : sbi arundhati bhattacharya invited to join infosys board \n",
      "추상 요약 :  sbi appoints ex sbi chief as ceo of india bank\n",
      "\n",
      "\n",
      "원문 : bid prevent cheating examination centres rajasthan government considering ban social messaging apps like whatsapp around exam centres instead current practice disabling mobile internet services entirely ban selective applications hassle free common man official said arrangement much feasible added \n",
      "실제 요약 : rajasthan may ban texting apps near exam centres to stop cheating \n",
      "추상 요약 :  app to allow whatsapp to prevent whatsapp exams\n",
      "\n",
      "\n",
      "원문 : florida based royal caribbean set launch new cruise ship featuring billed tallest slide sea ship called seas also feature foot long surf simulator capable housing nearly guests feet long feet wide \n",
      "실제 요약 : new cruise ship with tallest slide at sea to be launched \n",
      "추상 요약 :  cruise ship from cruise ship to be held in japan\n",
      "\n",
      "\n",
      "원문 : ramdev patanjali reportedly dropped plans messaging app kimbho company made two unsuccessful attempts launch app may august facing security related challenges wanted launch technically sound application could promise water tight security privacy however satisfied work done patanjali ceo md said \n",
      "실제 요약 : ramdev patanjali cancels of app reports \n",
      "추상 요약 :  patanjali app to launch app for patanjali\n",
      "\n",
      "\n",
      "원문 : bahuguna teacher whose suspension ordered uttarakhand cm trivendra singh rawat demanded apology questioned state education minister arvind pandey apologised since nothing wrong cm also directed police take bahuguna custody allegedly violating decorum janata darbar session transfer \n",
      "실제 요약 : suspended uttarakhand teacher demands apology from cm rawat \n",
      "추상 요약 :  minister apologises for asking up cm to minister\n",
      "\n",
      "\n",
      "원문 : pnb written fraud accused jeweller nirav modi saying alleged proposal repay amount vague effort gain time adopting delaying tactics bank said proposal lacked even credibility pnb said payment statutory dues salaries employees continues solely obligation \n",
      "실제 요약 : you are using delaying to gain time pnb to nirav \n",
      "추상 요약 :  nirav modi cannot sell nirav modi for pnb fraud\n",
      "\n",
      "\n",
      "원문 : researchers mit created self powered robots size human egg cells sense environment store data carry tasks consist tiny electronic circuits made two dimensional materials attach particles called robots could used diagnostic functions human body researchers claimed \n",
      "실제 요약 : mit develops self powered robots the size of human egg cells \n",
      "추상 요약 :  mit creates robot that can detect cancer made\n",
      "\n",
      "\n",
      "원문 : former delhi cm congress leader sheila dikshit autobiography citizen delhi times life claimed government smooth relations manmohan singh led centre referring handling commonwealth games subsequent allegations dikshit stated lot differences opinion centre \n",
      "실제 요약 : relation with cong at centre was not sheila dikshit \n",
      "추상 요약 :  ex aap leader seeks from delhi to ex chief\n",
      "\n",
      "\n",
      "원문 : year old argentine national killed saturday stray bull hit jaipur city area police said man visiting city fellow tourist succumbed injuries despite rushed government hospital embassy argentina informed incident \n",
      "실제 요약 : argentine tourist killed by stray bull in jaipur \n",
      "추상 요약 :  yr old dies after being hit by car in us\n",
      "\n",
      "\n",
      "원문 : prime minister narendra modi sunday said government working ensure better facilities people added government making efforts ensure employment youth education children medical care aged also assured people security one top priorities government \n",
      "실제 요약 : govt working to ensure better facilities for pm \n",
      "추상 요약 :  people should be the country pm modi\n",
      "\n",
      "\n",
      "원문 : social media giant facebook working ambitious plan deliver internet remote areas solar powered drones wednesday announced plan abandoned facebook working plan since held technical geographical limitations responsible decision decided design build aircraft facebook added \n",
      "실제 요약 : facebook announces shutdown of its drone powered internet project \n",
      "추상 요약 :  facebook to launch satellites in us\n",
      "\n",
      "\n",
      "원문 : enforcement directorate reportedly alleged nirav modi firms used funds raised pnb buy immovable properties abroad part funds allegedly used firms settle debts overseas lenders notably ed issued judicial requests foreign jurisdictions obtain information nirav modi businesses \n",
      "실제 요약 : nirav modi firms used pnb funds to buy assets abroad ed \n",
      "추상 요약 :  ed finds nirav modi in nirav modi for cr in\n",
      "\n",
      "\n",
      "원문 : first th annual screen actors guild awards presented entirely women announced organisers wednesday acknowledging year woman said executive producer ceremony additionally organisers also announced actress kristen bell first ever host award ceremony \n",
      "실제 요약 : screen actors awards to have only women \n",
      "추상 요약 :  what is the the film\n",
      "\n",
      "\n",
      "원문 : reacting hardik pandya kl rahul suspended comments women koffee karan ex india captain rahul dravid said case taken far happened first time let us please added people forget past also incidents happened dravid said \n",
      "실제 요약 : let us not please rahul dravid on pandya kl rahul row \n",
      "추상 요약 :  hardik pandya kl rahul to be named in ipl\n",
      "\n",
      "\n",
      "원문 : following reports government move link aadhaar land records spokesperson frank rubbished claims saying source news fake letter said complaint lodged case notably letter addressed states asked digitise land records august \n",
      "실제 요약 : letter asking to link land records with aadhaar fake govt \n",
      "추상 요약 :  govt to give aadhaar based on aadhaar based on aadhaar\n",
      "\n",
      "\n",
      "원문 : jodhpur district sessions court tuesday granted permission actor salman khan travel outside india travelling canada nepal us may july salman granted bail earlier month blackbuck poaching case condition cannot leave country without jodhpur sessions court permission \n",
      "실제 요약 : salman khan allowed to travel abroad by jodhpur court \n",
      "추상 요약 :  mumbai court rejects salman khan for illegal\n",
      "\n",
      "\n",
      "원문 : croatian tennis player became oldest man win match australian open years serving go past poland world number turn february also became oldest winner grand slam since year old jimmy win us open \n",
      "실제 요약 : becomes oldest man in yrs to win an aus open match \n",
      "추상 요약 :  who is the world oldest player in the world\n",
      "\n",
      "\n",
      "원문 : sidharth malhotra made singing debut rapping song meri laila upcoming film gentleman sundar susheel risky song composed sachin jigar additional vocals ash king jigar raftaar lyrics vayu directed krishna dk raj nidimoru film release august \n",
      "실제 요약 : sidharth makes singing debut with rap in gentleman song \n",
      "추상 요약 :  sanjay dutt sings for recreated for munna bhai\n",
      "\n",
      "\n",
      "원문 : cbse tuesday scrapped moderation policy grace marks given students exams difficult questions however cbse clarified practice awarding grace marks continue students narrowly miss passing mark move beginning academic session expected result lower cut offs university entrances \n",
      "실제 요약 : cbse scraps grace marks policy for difficult questions \n",
      "추상 요약 :  cbse class board exams cbse class cbse class\n",
      "\n",
      "\n",
      "원문 : madhya pradesh cm shivraj singh chouhan friday said government introduce bill forthcoming monsoon session award death penalty rapists added state might also anti romeo squad lines uttar pradesh madhya pradesh witnesses average rapes every day according latest data \n",
      "실제 요약 : madhya pradesh plans to introduce death penalty for rapists \n"
     ]
    },
    {
     "name": "stdout",
     "output_type": "stream",
     "text": [
      "추상 요약 :  madhya pradesh cm naidu to give up life to death\n",
      "\n",
      "\n",
      "원문 : around petrol cng pumps maharashtra decided stay shut sundays may also decided work single day shifts pm may petrol pump association cited salary related issues selling fuel losses low operating margins reasons shutdown \n",
      "실제 요약 : maha petrol pumps to stay shut on from may \n",
      "추상 요약 :  maha govt to shut down petrol pumps in maharashtra\n",
      "\n",
      "\n",
      "원문 : technology giant apple acquired danish machine learning startup around million last year december startup previously named visual effects company applies machine learning image video editing apple recently acquired us based startup manufactures lenses augmented reality glasses \n",
      "실제 요약 : apple acquired danish startup for mn in \n",
      "추상 요약 :  apple acquires startup for million\n",
      "\n",
      "\n",
      "원문 : australia south africa played shortest ever completed test got hours minutes february interestingly match spread three playing days due bad weather south africa dismissed match saw lowest aggregate history complete test runs scored \n",
      "실제 요약 : shortest completed test ended in hours spread over days \n",
      "추상 요약 :  australia has played in the same test team for st time\n",
      "\n",
      "\n",
      "원문 : batsmen angelo mathews dinesh chandimal slammed hundreds sri lanka ended day three delhi test trailing india runs captain chandimal became fastest sri lankan batsman hit test centuries achieving feat th innings ashwin picked three wickets th instance taking three wickets \n",
      "실제 요약 : slam tons as sri lanka end day at \n",
      "추상 요약 :  sl beat sl to take lead to test series in india\n",
      "\n",
      "\n",
      "원문 : congress president rahul gandhi tuesday held meeting goa cm manohar parrikar office goa morning visited goa cm manohar parrikar wish speedy recovery personal visit rahul tweeted later meanwhile congress legislator chandrakant said two leaders discuss rafale issue \n",
      "실제 요약 : rahul gandhi meets goa cm parrikar says it was personal visit \n",
      "추상 요약 :  parrikar goa cm parrikar visit goa cm parrikar\n",
      "\n",
      "\n",
      "원문 : delhi lieutenant governor anil baijal wednesday suspended two public works department engineers sanitation worker died cleaning hospital sewer recently zero tolerance negligence cases tweeted notably delhi government also banned manual cleaning sewers workers died month cleaning sewer lines \n",
      "실제 요약 : delhi lt governor suspends pwd engineers over sewer death \n",
      "추상 요약 :  delhi govt orders to pay for drinking\n",
      "\n",
      "\n",
      "원문 : us field trip english teacher jack introduced internet first search beer finding entries chinese beer searched china gave results either launched com acquired later co founded alibaba went become china richest person \n",
      "실제 요약 : jack ma used to teach english before founding alibaba \n",
      "추상 요약 :  us man who becomes most expensive female company\n",
      "\n",
      "\n",
      "원문 : dedicated lane enabled vehicles toll plazas national highways across country enables automatic deduction toll charges lets pass toll plaza without stopping cash transaction national highways authority india launched two mobile applications last month ease obtaining \n",
      "실제 요약 : toll across india to have dedicated lane \n",
      "추상 요약 :  bengaluru to get new collection of water\n",
      "\n",
      "\n",
      "원문 : kerala declared holiday educational institutes monday due heavy rains state least one person killed due rains gates five dams various parts state opened officials said rains also reportedly resulted widespread damage landslides water logging \n",
      "실제 요약 : schools in kerala to be shut on monday due to heavy rains \n",
      "추상 요약 :  kerala to have been days after heavy rains\n",
      "\n",
      "\n",
      "원문 : heavy rains friday led traffic various parts national capital region commuter took twitter ask delhi traffic police gurugram police help regarding traffic jam nh led exchange tweets two police forces wherein accused traffic jams \n",
      "실제 요약 : delhi gurugram police blame each other for traffic \n",
      "추상 요약 :  traffic traffic in mumbai amid heavy rains\n",
      "\n",
      "\n",
      "원문 : sources tamil nadu ex cm jayalalithaa garden residence claim hear strange voices sound like every night sasikala nephew dinakaran family also reportedly decided leave strange voices another relative sasikala used jayalalithaa room night heard noises employee said \n",
      "실제 요약 : amma ghost people at garden home report \n",
      "추상 요약 :  jayalalithaa signs no jayalalithaa life sasikala\n",
      "\n",
      "\n",
      "원문 : wreckage us aircraft carrier lost wwii discovered coral sea search team led microsoft co founder paul allen warship sank crew members aircraft believed first carrier battle history battle coral sea \n",
      "실제 요약 : microsoft co founder discovers us warship lost years ago \n",
      "추상 요약 :  us air us plane holds yrs after wwii\n",
      "\n",
      "\n",
      "원문 : group journalists pakistan staged pakoda protest large scale termination respective news organisations journalists claimed made pakodas draw attention towards economic plight pakistan government withdrawn subsidies media houses form advertisements led delayed salaries reports said \n",
      "실제 요약 : pakistan journos stage pakoda protest against being sacked \n",
      "추상 요약 :  pakistan bans review of religious immigration\n",
      "\n",
      "\n",
      "원문 : pradesh gorakhpur initiated various campaigns based party president rahul gandhi promote brand rahul since anwar hussain initiated rahul milk campaign bjp launched chai pe charcha lok sabha elections pm candidate narendra modi also served rahul herbal tea outside banks demonetisation \n",
      "실제 요약 : up cong leader starts rahul milk rahul tea \n",
      "추상 요약 :  rahul gandhi to be held in rs for up rahul\n",
      "\n",
      "\n",
      "원문 : yoga instructor us california offering ganja yoga classes people smoke weed practicing yoga instructor come idea use recreational marijuana illegal state notably use recreational marijuana legal us states including california capital washington dc \n",
      "실제 요약 : us yoga offers ganja yoga classes \n",
      "추상 요약 :  chinese students to get out of\n",
      "\n",
      "\n",
      "원문 : china state media called technology giant huawei cfo meng wanzhou arrest canada rogue approach obviously washington resorting rogue approach cannot stop huawei advance market newspaper global times said us trying whatever contain huawei expansion world china daily said \n",
      "실제 요약 : china state media calls huawei cfo arrest act \n",
      "추상 요약 :  china warns huawei cfo over huawei cfo over huawei cfo\n",
      "\n",
      "\n",
      "원문 : indians pay petrol diesel compared consumers neighbouring countries bangladesh nepal pakistan among others retail prices imposition various taxes subsidies products monday diesel prices hit time high per litre delhi petrol prices reached four year high per litre \n",
      "실제 요약 : how are india fuel prices compared to its neighbours \n",
      "추상 요약 :  india to cut crore in oil and diesel loan cut off\n",
      "\n",
      "\n",
      "원문 : makemytrip launched assured hotels provide consumers hand picked hotels choose assured hotels guarantee amazing stay experience awesome rooms great service consumers also benefit hotline resolve issue within minutes else get free stay \n",
      "실제 요약 : makemytrip launches assured hotels with hotline \n",
      "추상 요약 :  hotel to open its own service in london\n",
      "\n",
      "\n",
      "원문 : addressing arab leaders saudi arabia sunday us president donald trump referred islam one world great faiths also asserted battle different faiths urged leaders fight islamist extremism notably trump referred islamist extremism radical islam indicating shift earlier stance \n",
      "실제 요약 : islam one of the world great donald trump \n",
      "추상 요약 :  trump saudi arabia declares victory in us\n",
      "\n",
      "\n",
      "원문 : wikileaks announced tweet wednesday us senate intelligence committee called founder julian assange testify russian interference presidential election wikileaks published documents taken server democratic national committee unknown hackers allegedly affecting outcome presidential hopeful hillary clinton \n",
      "실제 요약 : us senate asks assange to testify in russia investigation \n",
      "추상 요약 :  wikileaks may wikileaks probe assange over wikileaks wikileaks\n",
      "\n",
      "\n",
      "원문 : reacting political crisis bihar chief minister nitish kumar resignation wednesday user tweeted bihar samosa like really bad divorce neither parents want kid tweeted another user meanwhile another tweet read call ghar \n",
      "실제 요약 : no in bihar tweets user \n",
      "추상 요약 :  nitish kumar is not nitish kumar\n",
      "\n",
      "\n",
      "원문 : person convicted us terror attacks sued us government conditions high security prison colorado french citizen claimed subjected psychological torture solitary detention us courts rejected previous applications whose mental health questioned trial nn \n",
      "실제 요약 : attacks convict sues us govt over torture in jail \n"
     ]
    },
    {
     "name": "stdout",
     "output_type": "stream",
     "text": [
      "추상 요약 :  us teen convicted of spying for spying\n",
      "\n",
      "\n",
      "원문 : per reports income tax appellate tribunal asked actress priyanka chopra include lakh watch lakh toyota car received gifts taxable income priyanka reportedly shown watch car gifts companies order said cover four years financial year onwards \n",
      "실제 요약 : priyanka asked to pay tax for gifts like watch report \n",
      "추상 요약 :  priyanka chopra invests lakh in maharashtra\n",
      "\n",
      "\n",
      "원문 : arrived india two day visit thursday received external affairs minister sushma swaraj visit likely focus two countries signing billion deal india procure russia advanced long range surface air missile defence system putin pm narendra modi also discuss key global issues \n",
      "실제 요약 : russian prez vladimir putin arrives in india for day visit \n",
      "추상 요약 :  swaraj assures swaraj to visit kartarpur corridor\n",
      "\n",
      "\n",
      "원문 : north korea agreed important prevent war united nations envoy jeffrey recently visited reclusive nation said wednesday un diplomat added urged north korea signal prepared consider engagement world powers comes amid rising tensions north korea nuclear programme \n",
      "실제 요약 : korea agrees with un that it is important to prevent war \n",
      "추상 요약 :  korea to korea war with us\n",
      "\n",
      "\n",
      "원문 : report british parliamentary committee revealed five time olympic winner cyclist bradley used performance enhancing drugs guise treating medical problem tour de france report also called investigation injection given england football team doctor olympic champion mo farah london marathon \n",
      "실제 요약 : top uk athletes took performance drugs reports \n",
      "추상 요약 :  indian athletes to get months after months\n",
      "\n",
      "\n",
      "원문 : cm captain amarinder singh sunday directed state police harass drug addicts prohibited entering de addiction centres question patients cm singh also urged people lynch drug smugglers peddlers number addicts lodged de addiction centres increased around government announced free treatment patients \n",
      "실제 요약 : punjab cm directs police to not harass drug \n",
      "추상 요약 :  punjab cm bans drug drug from drug colleges\n",
      "\n",
      "\n"
     ]
    }
   ],
   "source": [
    "for i in range(50, 100):\n",
    "    print(\"원문 :\", seq2text(encoder_input_test[i]))\n",
    "    print(\"실제 요약 :\", seq2summary(decoder_input_test[i]))\n",
    "    print(\"추상 요약 :\", decode_sequence(encoder_input_test[i].reshape(1, text_max_len)))\n",
    "    print(\"\\n\")"
   ]
  },
  {
   "cell_type": "markdown",
   "id": "96eb7c39",
   "metadata": {},
   "source": [
    "#### 잘된 점:\n",
    "\n",
    " - 원문의 주요 내용을 포착하려고 노력함:  예를 들어, \"russian prez vladimir putin arrives in india for day visit\"와 같은 요약은 원문의 핵심 내용을 정확하게 전달해주고 있음.\n",
    " - 복잡한 원문의 내용을 간결하게 표현하여 주요 정보를 제공함: 예를 들어, \"attacks convict sues us govt over torture in jail\"은 원문의 주요 포인트를 간결하게 전달.\n",
    "\n",
    "#### 잘 안된 점:\n",
    "\n",
    " - 원문의 내용과 관련이 없거나 잘못된 정보를 포함하고 있음: 예를 들어, \"chin|ese students to get out of\"나 \"trump saudi arabia declares victory in us\"와 같은 요약은 원문의 내용을 정확하게 반영하지 않음\n",
    " - 중복된 단어나 문장 구조를 포함하고 있어, 내용 전달에 혼동을 줌: 예를 들어, \"china warns huawei cfo over huawei cfo over huawei cfo\"와 같은 요약은 중복된 표현이 있음"
   ]
  },
  {
   "cell_type": "markdown",
   "id": "60f1f8a8",
   "metadata": {},
   "source": [
    "---\n",
    "\n",
    "# 7. 추출적 요약 활용"
   ]
  },
  {
   "cell_type": "code",
   "execution_count": 66,
   "id": "0b1d7c91",
   "metadata": {},
   "outputs": [
    {
     "name": "stdout",
     "output_type": "stream",
     "text": [
      "원문 : saurav kant alumnus upgrad iiit pg program machine learning artificial intelligence sr systems engineer infosys almost years work experience program upgrad degree career support helped transition data scientist tech mahindra salary hike upgrad online power learning powered lakh careers\n",
      "실제 요약 : upgrad learner switches to career in ml al with salary hike\n",
      "추상 요약 :  upgrad hires ai to upgrad with ai program\n",
      "추출 요약 : \n"
     ]
    }
   ],
   "source": [
    "from summa.summarizer import summarize\n",
    "\n",
    "def textSummary(text) :\n",
    "    text_preprocess = preprocess_sentence(text)\n",
    "    text_preprocess = src_tokenizer.texts_to_sequences([text])\n",
    "    text_preprocess = pad_sequences(text_preprocess, maxlen=text_max_len, padding='post')\n",
    "    summa = decode_sequence(text_preprocess)\n",
    "    return summa\n",
    "\n",
    "\n",
    "# 예제\n",
    "print(\"원문 :\", data['text'][0])\n",
    "print(\"실제 요약 :\", data['headlines'][0])\n",
    "print(\"추상 요약 :\", textSummary(data['text'][0]))\n",
    "print(\"추출 요약 :\", summarize(data['text'][0], ratio=0.5))"
   ]
  },
  {
   "cell_type": "markdown",
   "id": "519daf14",
   "metadata": {},
   "source": [
    " - 추출 요약이 안나온 이유\n",
    "\n",
    "#### 위에서 주어진 원문은 짧기 때문에 추출 요약이 잘 안나올 가능성이 있음\n",
    "\n",
    "#### 내부 알고리즘의 판단으로 중요하다고 생각하는 단어가 없기 때문에 요약이 안됐을 가능성이 있음(추출 요약은 원문의 단어에서 추출하기에)\n",
    "\n",
    "#### 전처리를 하지 않은 원본 데이터일 경우 추출 요약이 될 가능성이 있음\n",
    "\n",
    "---\n",
    "\n",
    "### 3번을 가정으로 원본 데이터 사용"
   ]
  },
  {
   "cell_type": "code",
   "execution_count": 64,
   "id": "fe035c68",
   "metadata": {},
   "outputs": [],
   "source": [
    "data_01 = pd.read_csv('news_summary_more.csv', encoding='iso-8859-1')"
   ]
  },
  {
   "cell_type": "code",
   "execution_count": 76,
   "id": "0c12906a",
   "metadata": {},
   "outputs": [
    {
     "name": "stdout",
     "output_type": "stream",
     "text": [
      "원문 : Retired Justice Srikrishna's enquiry panel has found that ex-CEO Chanda Kochhar violated ICICI Bank's code of conduct. The bank said it'll treat Kochhar's exit as termination and will take back all bonuses paid to her from April 2009 until March 2018. The CBI recently filed a case against Kochhar, her husband, and Videocon MD in the ICICI-Videocon loan case.\n",
      "실제 요약 : ICICI fires Chanda Kochhar, to take back bonuses paid in last 9 yrs\n",
      "추상 요약 :  icici court rejects icici bank chief\n",
      "추출 요약 : Retired Justice Srikrishna's enquiry panel has found that ex-CEO Chanda Kochhar violated ICICI Bank's code of conduct.\n",
      "--------------------------------------------------\n",
      "\n",
      "\n",
      "원문 : Ex-India cricketer Jacob Martin has been shifted to general ward from the ICU after being on a ventilator for nearly a month following a road accident, wherein he severely injured his lungs. Martin's wife Khyati mentioned there are chances that Jacob will be in hospital for two more months. BCCI, CSK and various cricketers provided financial assistance for Martin's treatment.\n",
      "실제 요약 : Ex-cricketer Martin out of ICU after being on ventilator for a month\n",
      "추상 요약 :  former captain captain hospitalised after being hospitalised\n",
      "추출 요약 : Ex-India cricketer Jacob Martin has been shifted to general ward from the ICU after being on a ventilator for nearly a month following a road accident, wherein he severely injured his lungs.\n",
      "--------------------------------------------------\n",
      "\n",
      "\n",
      "원문 : Sri Lanka all-rounder Thisara Perera has written to Sri Lanka Cricket CEO Ashley de Silva, asking the board to intervene after ODI captain Lasith Malinga's wife Tanya targeted him on Facebook. Tanya accused Perera of meeting country's Sports Minister to secure his place in the team. \"We've become laughing stock of whole country...because of one person's personal vendetta,\" Perera wrote.\n",
      "실제 요약 : Malinga's wife targets Perera on Facebook, he seeks board's help\n",
      "추상 요약 :  malinga to sri lanka odi series with sri lanka\n",
      "추출 요약 : Tanya accused Perera of meeting country's Sports Minister to secure his place in the team.\n",
      "--------------------------------------------------\n",
      "\n",
      "\n",
      "원문 : Goa CM and ex-Defence Minister Manohar Parrikar has written a letter to Congress President Rahul Gandhi over his claim that Parrikar told him he has nothing to do with new Rafale deal. Parrikar wrote, \"Kindly do not use your visit to an ailing person to feed political opportunism.\" In their five-minute meeting, they didn't discuss anything about Rafale, he added.\n",
      "실제 요약 : Don't use visit to ailing man for political gains: Goa CM to Rahul\n",
      "추상 요약 :  rahul goa cm goa cm goa cm on rahul gandhi row\n",
      "추출 요약 : \n",
      "--------------------------------------------------\n",
      "\n",
      "\n",
      "원문 : Prime Minister Narendra Modi stopped his speech at the inauguration of the new terminal building at Surat airport after observing that a cameraman had fainted. PM Modi then asked his officers to urgently arrange for an ambulance for the cameraman. \"It's good that PM was paying attention to his surroundings during his speech,\" the cameraman later said from a hospital. \n",
      "실제 요약 : PM Modi stops speech after cameraman faints, asks officers to help\n",
      "추상 요약 :  pm modi asks pm modi to stop his own clothes\n",
      "추출 요약 : PM Modi then asked his officers to urgently arrange for an ambulance for the cameraman.\n",
      "--------------------------------------------------\n",
      "\n",
      "\n",
      "원문 : A couple got divorced minutes after their wedding ceremony got over in Gujarat's Gondal as a disagreement broke out and relatives from both sides started throwing dishes at each other during lunch. The advocates representing both sides arrived at the marriage hall and got the couple divorced within minutes. The couple even reportedly returned the gifts exchanged during the ceremony.\n",
      "실제 요약 : Couple divorces minutes after marriage as families fight over lunch\n",
      "추상 요약 :  couple marries couple after fight with cake in up\n",
      "추출 요약 : A couple got divorced minutes after their wedding ceremony got over in Gujarat's Gondal as a disagreement broke out and relatives from both sides started throwing dishes at each other during lunch.\n",
      "--------------------------------------------------\n",
      "\n",
      "\n",
      "원문 : Gujarat Education Minister Bhupendrasinh Chudasma has written a congratulatory message to a yoga ashram run by rape-convict Asaram's organisation for observing February 14 as \"Matru-Pitru Pujan Divas\" (Mother-Father worship day). After the Congress termed the letter as \"unfortunate\", saying it \"shows the nexus between BJP and godman\", Chudasma clarified, \"All I have done is sent best wishes.\" \n",
      "실제 요약 : Minister praises rape-convict Asaram over Matru-Pitru Divas\n",
      "추상 요약 :  no of my daughter daughter for yrs in jail\n",
      "추출 요약 : \n",
      "--------------------------------------------------\n",
      "\n",
      "\n",
      "원문 : Venezuelan President NicolÃÂ¡s Maduro has claimed that his American counterpart Donald Trump ordered the Colombian government and the Colombian mafia to kill him. \"If something happens to me, Trump and Colombian President IvÃÂ¡n MÃÂ¡rquez will bear responsibility,\" he added. The US has blamed Maduro for the economic crisis in Venezuela and recognised opposition leader Juan GuaidÃÂ³ as interim President.\n",
      "실제 요약 : Trump ordered to kill me: Venezuela President Maduro\n",
      "추상 요약 :  trump calls for us president assad\n",
      "추출 요약 : Venezuelan President NicolÃÂ¡s Maduro has claimed that his American counterpart Donald Trump ordered the Colombian government and the Colombian mafia to kill him.\n",
      "--------------------------------------------------\n",
      "\n",
      "\n",
      "원문 : Eight Asian billionaires aged 90 or above on the Bloomberg Billionaires Index of world's 500 richest people have a combined net worth of $125 billion. The richest among them is Hong Kong's Li Ka Shing with a net worth of $30.5 billion. India's 90-year-old Pallonji Mistry, who controls 18.3% of Tata Sons through Shapoorji Pallonji Group, is worth $20.1 billion.\n",
      "실제 요약 : 8 Asian billionaires aged over 90, including Mistry, control $125bn\n",
      "추상 요약 :  walmart richest man in china th th list of bn\n",
      "추출 요약 : The richest among them is Hong Kong's Li Ka Shing with a net worth of $30.5 billion.\n",
      "--------------------------------------------------\n",
      "\n",
      "\n",
      "원문 : Tamil Nadu food safety officials on Wednesday raided and seized 1,000 kgs of banned plastic items from Hotel Saravana Bhavan in Chennai's Vadapalani. Officials began a surprise check in the branch at 8 am. The state government had banned single-use plastics from January 1 and said the banned items should be handed over at the offices of the city corporation.\n",
      "실제 요약 : 1,000 kg banned plastic seized from Saravana Bhavan in Chennai\n",
      "추상 요약 :  tamil nadu bans plastic from plastic ban\n",
      "추출 요약 : Tamil Nadu food safety officials on Wednesday raided and seized 1,000 kgs of banned plastic items from Hotel Saravana Bhavan in Chennai's Vadapalani.\n",
      "--------------------------------------------------\n",
      "\n",
      "\n",
      "원문 : Actress Shamita Shetty was verbally abused and her driver was slapped in an incident of road rage in Mumbai on Tuesday, as per reports. The incident reportedly took place after a motorist who was accompanied by two friends, rammed his vehicle into Shamita's car. The men allegedly manhandled and threatened Shamita's driver when he stepped out to inspect the damage. \n",
      "실제 요약 : Shamita Shetty abused, driver slapped after accident: Report\n",
      "추상 요약 :  shilpa shetty to pay over for assaulting car\n",
      "추출 요약 : Actress Shamita Shetty was verbally abused and her driver was slapped in an incident of road rage in Mumbai on Tuesday, as per reports.\n",
      "--------------------------------------------------\n",
      "\n",
      "\n",
      "원문 : Actress Vaani Kapoor said that trolling has become a norm on social media, adding, \"There's no one who hasn't got trolled on social media.\" \"Everybody is out there to pull the other person down but it'll only bother [you] if you let it bother you,\" Vaani added. She further said, social media offers a platform \"where people enjoy belittling everybody\". \n",
      "실제 요약 : Trolling has become the norm on social media: Vaani\n",
      "추상 요약 :  am not single person in my account is my account kareena\n",
      "추출 요약 : \n",
      "--------------------------------------------------\n",
      "\n",
      "\n",
      "원문 : Actress Sushmita Sen took to Instagram to share a joke on the subject of marriage. \"Whoever invented marriage was creepy as hell. Like I love you so much IÃ¢ÂÂm gonna get the government involved so you canÃ¢ÂÂt leave,\" Sushmita's post read. \"This is an insult to [the] beauty of marriage,\" an Instagram user commented on her post.\n",
      "실제 요약 : Whoever invented marriage was creepy as hell: Sushmita posts joke\n"
     ]
    },
    {
     "name": "stdout",
     "output_type": "stream",
     "text": [
      "추상 요약 :  am not joke on being same as marriage\n",
      "추출 요약 : \"This is an insult to [the] beauty of marriage,\" an Instagram user commented on her post.\n",
      "--------------------------------------------------\n",
      "\n",
      "\n",
      "원문 : Television actor Karanvir Bohra, who flew to Russia on Tuesday to attend a film festival, has been detained in Moscow due to passport damage. \"They [are] contemplating to deport me back to India,\" the actor wrote on Twitter. The Indian embassy in Russia's capital responded to his tweet and said that they were looking into the issue. \n",
      "실제 요약 : Actor Karanvir Bohra detained in Russia over passport damage\n",
      "추상 요약 :  actor russia to face over women in russia\n",
      "추출 요약 : Television actor Karanvir Bohra, who flew to Russia on Tuesday to attend a film festival, has been detained in Moscow due to passport damage.\n",
      "--------------------------------------------------\n",
      "\n",
      "\n",
      "원문 : While speaking about winning awards for his films, Shah Rukh Khan said, \"If I don't get an award, that award is at a loss.\" \"Sometimes, the prestige of an award increases when I receive it,\" the actor jokingly added. Shah Rukh further said that he was \"extremely ambitious\" but in a \"fair manner\". \n",
      "실제 요약 : If I don't get an award, that award is at loss: SRK\n",
      "추상 요약 :  women have award for women award awards to women win\n",
      "추출 요약 : \n",
      "--------------------------------------------------\n",
      "\n",
      "\n",
      "원문 : Actress Patralekhaa will make her debut in the Kannada film industry with the action-comedy film 'Where is my Kannadaka?' \"I can definitely say that itÃ¢ÂÂs a kind of role that I havenÃ¢ÂÂt portrayed on screen so far and that makes it special for me,\" the actress said in a statement. Shooting for the film will reportedly begin in April.\n",
      "실제 요약 : Actress Patralekhaa to make her Kannada film debut \n",
      "추상 요약 :  not to make debut film in wood film\n",
      "추출 요약 : \n",
      "--------------------------------------------------\n",
      "\n",
      "\n",
      "원문 : Gmail on Tuesday faced a global outage, which also affected India, wherein certain users complained they faced a '404 error' message while trying to sign-in to their accounts. The error message read: \"The requested URL was not found on this server. That's all we know.\" Google responded saying \"problem with Gmail should be resolved (now). We apologise for the inconvenience\".\n",
      "실제 요약 : Gmail faces temporary global outage, users face '404 error'\n",
      "추상 요약 :  users access to share whatsapp data with breach\n",
      "추출 요약 : Gmail on Tuesday faced a global outage, which also affected India, wherein certain users complained they faced a '404 error' message while trying to sign-in to their accounts.\n",
      "--------------------------------------------------\n",
      "\n",
      "\n",
      "원문 : Shiv Sena chief Uddhav Thackeray has asked the BJP to decide about the alliance with the Sena within 15 days and said the BJP should make a concrete proposal on the alliance. Thackeray added that only if the BJP agrees to Sena's terms and conditions, the party will agree for an alliance. Sena is free to fight independently, he said. \n",
      "실제 요약 : Decide about an alliance within 15 days: Uddhav to BJP\n",
      "추상 요약 :  bjp will not be part of alliance with shiv sena\n",
      "추출 요약 : Shiv Sena chief Uddhav Thackeray has asked the BJP to decide about the alliance with the Sena within 15 days and said the BJP should make a concrete proposal on the alliance.\n",
      "--------------------------------------------------\n",
      "\n",
      "\n",
      "원문 : BJP President Amit Shah on Wednesday took a dig at the Opposition's proposed grand alliance saying if the \"mahagathbandhan comes to power, each opposition leader will be a Prime Minister every day of the week\". He added, \"[The] country will go on...holiday on Sunday\". He said the Opposition is thinking about leading the country but does not have a leader.\n",
      "실제 요약 : Grand alliance, if wins, will see a new PM every day: Shah\n",
      "추상 요약 :  pm modi will be in grand alliance with amit shah\n",
      "추출 요약 : He said the Opposition is thinking about leading the country but does not have a leader.\n",
      "--------------------------------------------------\n",
      "\n",
      "\n",
      "원문 : Prime Minister Narendra Modi on Wednesday said his government's demonetisation decision made houses affordable for the aspiring youth. He added decisions like demonetisation and RERA have put a check on black money that used to be \"parked in the real estate sector\". He said 'UDAN' (Ude Desh ka Aam Nagrik) scheme has boosted the development of the country's aviation sector.\n",
      "실제 요약 : Demonetisation made homes affordable for youth: PM Modi\n",
      "추상 요약 :  demonetisation has become demonetisation in yrs pm modi\n",
      "추출 요약 : He added decisions like demonetisation and RERA have put a check on black money that used to be \"parked in the real estate sector\".\n",
      "--------------------------------------------------\n",
      "\n",
      "\n"
     ]
    }
   ],
   "source": [
    "for i in range(80, 100):\n",
    "    print(\"원문 :\", data_01['text'][i])\n",
    "    print(\"실제 요약 :\", data_01['headlines'][i])\n",
    "    print(\"추상 요약 :\", textSummary(data_01['text'][i]))\n",
    "    print(\"추출 요약 :\", summarize(data_01['text'][i], ratio=0.4))\n",
    "    print('-'*50)\n",
    "    print('\\n')"
   ]
  },
  {
   "cell_type": "markdown",
   "id": "b03c600e",
   "metadata": {},
   "source": [
    " - 추출 요약이 되는 것을 확인할 수 있다.\n",
    " \n",
    " - ratio를 0.2 or 0.3으로 하게 되면 추출 요약이 비어 있으므로 0.4 이상으로 작업\n",
    " \n",
    " "
   ]
  },
  {
   "cell_type": "markdown",
   "id": "65ad3665",
   "metadata": {},
   "source": [
    "---\n",
    "\n",
    "# 8. 회고\n",
    "\n",
    "- 최대한 노드를 보지 않고 해보려고 노력하였으나 nlp를 많이 해본 것이 아니기에 노드의 도움을 많이 받았던 것 같다.\n",
    "\n",
    "\n",
    "\n",
    "- 노드에서 최대한 뺄 것은 빼 보았는데 몇가지 잘 안되는게 있었어서 애를 먹었던 것 같다.\n",
    "\n",
    "\n",
    "\n",
    "- 추상적 요약은 확실히 실제 요약보다 더 많은 단어를 통해 요약을 하는 것을 보였고 더 짧게 요약한 경우도 있었다.\n",
    " - 하지만 너무 짧게 요약을해 정확하게 요약을 못하는 경우가 있었고,\n",
    " - 중복인 단어가 많이 나와 혼동을 주는 경우 또한 있었다.\n",
    " \n",
    " \n",
    " \n",
    "- 추출적 요약은 원문하고 비교 했을 때 몇가지 단어 만을 제외하고 거의 요약을 하지 못하였다.\n",
    "- Ratio의 값에 따라 아예 요약을 못하는 경우 또한 있었다.\n",
    " - 하지만 좀 더 원문에 맞는 요약을 해 보기가 좋은 경우가 있었다.\n",
    " \n",
    " \n",
    " \n",
    " - 추출적 요약과 추상적 요약을 적절하게 활용해 요약을 진행하는 것이 좋아보인다."
   ]
  }
 ],
 "metadata": {
  "kernelspec": {
   "display_name": "Python 3 (ipykernel)",
   "language": "python",
   "name": "python3"
  },
  "language_info": {
   "codemirror_mode": {
    "name": "ipython",
    "version": 3
   },
   "file_extension": ".py",
   "mimetype": "text/x-python",
   "name": "python",
   "nbconvert_exporter": "python",
   "pygments_lexer": "ipython3",
   "version": "3.9.7"
  }
 },
 "nbformat": 4,
 "nbformat_minor": 5
}
