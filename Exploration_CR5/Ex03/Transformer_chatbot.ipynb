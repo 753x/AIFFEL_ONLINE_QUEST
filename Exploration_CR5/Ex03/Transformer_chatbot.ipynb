{
 "cells": [
  {
   "cell_type": "markdown",
   "id": "d0e5998a",
   "metadata": {},
   "source": [
    "# 트랜스포머로 만드는 챗봇(한국어 버전)\n",
    "\n",
    "\n",
    "\n",
    "\n",
    "\n",
    "## 목차\n",
    "\n",
    "## 1. Set-up\n",
    "\n",
    "\n",
    "- 패키지들을 import하는 작업\n",
    "\n",
    "\n",
    "## 2. 구현 및 시각화\n",
    "\n",
    "\n",
    "- Positional 행렬 구현 및 시각화\n",
    "\n",
    "\n",
    "- Scaled Dot Product Attention 함수 구현\n",
    "\n",
    "\n",
    "- Multi Head Attention 구현\n",
    "\n",
    "\n",
    "- Masking 구현\n",
    "\n",
    "\n",
    "- 인코더 및 디코더 층 설계\n",
    "\n",
    "\n",
    "\n",
    "## 3. 데이터 로드\n",
    "\n",
    "\n",
    "\n",
    "## 4. 데이터 전처리\n",
    "\n",
    "### 4-1. 병렬 데이터 전처리\n",
    "\n",
    "\n",
    "- 단어장 및 교사강요 사용\n",
    "\n",
    "\n",
    "## 5. 모델 정의 및 학습\n",
    "\n",
    "\n",
    "\n",
    "## 6. 모델 훈련 및 테스트\n",
    "\n",
    "\n",
    "\n",
    "## 7. 회고\n",
    "\n",
    "---\n"
   ]
  },
  {
   "cell_type": "markdown",
   "id": "3ca33e9e",
   "metadata": {},
   "source": [
    "# 1. Set-up"
   ]
  },
  {
   "cell_type": "code",
   "execution_count": 1,
   "id": "bc6313bb",
   "metadata": {},
   "outputs": [],
   "source": [
    "import tensorflow as tf\n",
    "import tensorflow_datasets as tfds\n",
    "import os\n",
    "import re\n",
    "import numpy as np\n",
    "import matplotlib.pyplot as plt\n",
    "import pandas as pd"
   ]
  },
  {
   "cell_type": "markdown",
   "id": "6505a66e",
   "metadata": {},
   "source": [
    "# 2. 구현 및 시각화\n",
    "\n",
    "## 트랜스포머란?\n",
    "\n",
    "- 기존의 순환 신경망(RNN)이나 합성곱 신경망(CNN)을 사용하지 않고, 어텐션 메커니즘만을 사용하여 병렬 처리를 통해 높은 성능과 효율성을 달성함\n",
    "\n",
    "## 포지셔널 행렬\n",
    "\n",
    "- 트랜스포머 모델에서 입력 시퀀스의 단어들이 문장 내에서 어떤 위치에 있는지를 모델에게 알려주기 위해 사용됨 트랜스포머는 단어의 순서 정보를 내재적으로 포함하지 않기 때문에, 이를 통해 각 단어의 위치 정보를 주입해주어야 함 포지셔널 인코딩은 고유한 위치에 대해 고유한 인코딩을 생성하여, 각 단어의 상대적, 절대적 위치 정보를 담게 되며, 이는 임베딩 벡터와 합쳐져 모델의 입력으로 사용함"
   ]
  },
  {
   "cell_type": "markdown",
   "id": "88140dfe",
   "metadata": {},
   "source": [
    "### 포지셔널 행렬 구현 및 시각화"
   ]
  },
  {
   "cell_type": "code",
   "execution_count": 2,
   "id": "bd6b575b",
   "metadata": {},
   "outputs": [],
   "source": [
    "# 포지셔널 인코딩 레이어\n",
    "class PositionalEncoding(tf.keras.layers.Layer):\n",
    "\n",
    "  def __init__(self, position, d_model):\n",
    "    super(PositionalEncoding, self).__init__()\n",
    "    self.pos_encoding = self.positional_encoding(position, d_model)\n",
    "\n",
    "  def get_angles(self, position, i, d_model):\n",
    "    angles = 1 / tf.pow(10000, (2 * (i // 2)) / tf.cast(d_model, tf.float32))\n",
    "    return position * angles\n",
    "\n",
    "  def positional_encoding(self, position, d_model):\n",
    "    # 각도 배열 생성\n",
    "    angle_rads = self.get_angles(\n",
    "        position=tf.range(position, dtype=tf.float32)[:, tf.newaxis],\n",
    "        i=tf.range(d_model, dtype=tf.float32)[tf.newaxis, :],\n",
    "        d_model=d_model)\n",
    "\n",
    "    # 배열의 짝수 인덱스에는 sin 함수 적용\n",
    "    sines = tf.math.sin(angle_rads[:, 0::2])\n",
    "    # 배열의 홀수 인덱스에는 cosine 함수 적용\n",
    "    cosines = tf.math.cos(angle_rads[:, 1::2])\n",
    "\n",
    "    # sin과 cosine이 교차되도록 재배열\n",
    "    pos_encoding = tf.stack([sines, cosines], axis=0)\n",
    "    pos_encoding = tf.transpose(pos_encoding,[1, 2, 0])\n",
    "    pos_encoding = tf.reshape(pos_encoding, [position, d_model])\n",
    "\n",
    "    pos_encoding = pos_encoding[tf.newaxis, ...]\n",
    "    return tf.cast(pos_encoding, tf.float32)\n",
    "\n",
    "  def call(self, inputs):\n",
    "    return inputs + self.pos_encoding[:, :tf.shape(inputs)[1], :]"
   ]
  },
  {
   "cell_type": "markdown",
   "id": "99b53303",
   "metadata": {},
   "source": [
    "### 시각화"
   ]
  },
  {
   "cell_type": "code",
   "execution_count": 3,
   "id": "84285aed",
   "metadata": {},
   "outputs": [
    {
     "data": {
      "image/png": "[encoded data removed]",
      "text/plain": [
       "<Figure size 432x288 with 2 Axes>"
      ]
     },
     "metadata": {
      "needs_background": "light"
     },
     "output_type": "display_data"
    }
   ],
   "source": [
    "sample_pos_encoding = PositionalEncoding(30,256)\n",
    "\n",
    "plt.pcolormesh(sample_pos_encoding.pos_encoding.numpy()[0], cmap='RdBu')\n",
    "plt.xlabel('Depth')\n",
    "plt.xlim((0, 256))\n",
    "plt.ylabel('Position')\n",
    "plt.colorbar()\n",
    "plt.show()"
   ]
  },
  {
   "cell_type": "markdown",
   "id": "4a55b42c",
   "metadata": {},
   "source": [
    "#### 최대 문장의 길이 : 30 \n",
    "#### 임베딩 벡터의 차원 : 256\n",
    "\n",
    "- PositionalEncoding(30,256)\n",
    "\n",
    "---"
   ]
  },
  {
   "cell_type": "markdown",
   "id": "c3b2c86e",
   "metadata": {},
   "source": [
    "## Scaled Dot Product Attention 함수\n",
    "\n",
    "- 스케일드 닷 프로덕트 어텐션 함수는 트랜스포머 모델에서 쿼리(Query), 키(Key), 밸류(Value)를 이용하여 입력 시퀀스 내 단어들 간의 상호 관련성을 평가함 이 함수는 쿼리와 키의 닷 프로덕트(dot product)를 계산한 뒤, 키의 차원수의 제곱근으로 스케일링(scale)을 하여 어텐션 스코어를 얻고, 이 스코어를 소프트맥스(softmax) 함수에 통과시켜 어텐션 가중치를 구함"
   ]
  },
  {
   "cell_type": "markdown",
   "id": "4f5c6d65",
   "metadata": {},
   "source": [
    "### Scaled Dot Product Attention 함수 구현"
   ]
  },
  {
   "cell_type": "code",
   "execution_count": 4,
   "id": "26a1fc7e",
   "metadata": {},
   "outputs": [],
   "source": [
    "# 스케일드 닷 프로덕트 어텐션 함수\n",
    "def scaled_dot_product_attention(query, key, value, mask):\n",
    "  # 어텐션 가중치는 Q와 K의 닷 프로덕트\n",
    "  matmul_qk = tf.matmul(query, key, transpose_b=True)\n",
    "\n",
    "  # 가중치를 정규화\n",
    "  depth = tf.cast(tf.shape(key)[-1], tf.float32)\n",
    "  logits = matmul_qk / tf.math.sqrt(depth)\n",
    "\n",
    "  # 패딩에 마스크 추가\n",
    "  if mask is not None:\n",
    "    logits += (mask * -1e9)\n",
    "\n",
    "  # softmax적용\n",
    "  attention_weights = tf.nn.softmax(logits, axis=-1)\n",
    "\n",
    "  # 최종 어텐션은 가중치와 V의 닷 프로덕트\n",
    "  output = tf.matmul(attention_weights, value)\n",
    "  return output"
   ]
  },
  {
   "cell_type": "markdown",
   "id": "7934b944",
   "metadata": {},
   "source": [
    "## Multi Head Attention 함수\n",
    "\n",
    "- 멀티 헤드 어텐션은 트랜스포머 모델에서 주요 구성 요소로, 단일 어텐션 함수를 여러 번 병렬로 수행함으로써 다양한 특징과 정보를 동시에 캡처함 이 구조는 모델이 동일한 문장에 대해 다른 위치에서의 정보를 동시에 고려할 수 있게 하여, 성능 향상을 도모함 멀티 헤드 어텐션의 결과는 각 헤드에서 얻어진 어텐션 값들을 연결(concatenation)한 후에 선형 변환을 수행하여 얻어짐"
   ]
  },
  {
   "cell_type": "markdown",
   "id": "a889f615",
   "metadata": {},
   "source": [
    "### Multi Head Attention 함수 구현"
   ]
  },
  {
   "cell_type": "code",
   "execution_count": 5,
   "id": "c98f211d",
   "metadata": {},
   "outputs": [],
   "source": [
    "class MultiHeadAttention(tf.keras.layers.Layer):\n",
    "\n",
    "  def __init__(self, d_model, num_heads, name=\"multi_head_attention\"):\n",
    "    super(MultiHeadAttention, self).__init__(name=name)\n",
    "    self.num_heads = num_heads\n",
    "    self.d_model = d_model\n",
    "\n",
    "    assert d_model % self.num_heads == 0\n",
    "\n",
    "    self.depth = d_model // self.num_heads\n",
    "\n",
    "    self.query_dense = tf.keras.layers.Dense(units=d_model)\n",
    "    self.key_dense = tf.keras.layers.Dense(units=d_model)\n",
    "    self.value_dense = tf.keras.layers.Dense(units=d_model)\n",
    "\n",
    "    self.dense = tf.keras.layers.Dense(units=d_model)\n",
    "\n",
    "  def split_heads(self, inputs, batch_size):\n",
    "    inputs = tf.reshape(\n",
    "        inputs, shape=(batch_size, -1, self.num_heads, self.depth))\n",
    "    return tf.transpose(inputs, perm=[0, 2, 1, 3])\n",
    "\n",
    "  def call(self, inputs):\n",
    "    query, key, value, mask = inputs['query'], inputs['key'], inputs[\n",
    "        'value'], inputs['mask']\n",
    "    batch_size = tf.shape(query)[0]\n",
    "\n",
    "    # Q, K, V에 각각 Dense를 적용합니다\n",
    "    query = self.query_dense(query)\n",
    "    key = self.key_dense(key)\n",
    "    value = self.value_dense(value)\n",
    "\n",
    "    # 병렬 연산을 위한 머리를 여러 개 만듭니다\n",
    "    query = self.split_heads(query, batch_size)\n",
    "    key = self.split_heads(key, batch_size)\n",
    "    value = self.split_heads(value, batch_size)\n",
    "\n",
    "    # 스케일드 닷 프로덕트 어텐션 함수\n",
    "    scaled_attention = scaled_dot_product_attention(query, key, value, mask)\n",
    "\n",
    "    scaled_attention = tf.transpose(scaled_attention, perm=[0, 2, 1, 3])\n",
    "\n",
    "    # 어텐션 연산 후에 각 결과를 다시 연결(concatenate)합니다\n",
    "    concat_attention = tf.reshape(scaled_attention,\n",
    "                                  (batch_size, -1, self.d_model))\n",
    "\n",
    "    # 최종 결과에도 Dense를 한 번 더 적용합니다\n",
    "    outputs = self.dense(concat_attention)\n",
    "\n",
    "    return outputs"
   ]
  },
  {
   "cell_type": "markdown",
   "id": "840b0fde",
   "metadata": {},
   "source": [
    "## 마스킹\n",
    "\n",
    "- 특정 값들을 가려서 실제 연산에 영향을 미치지 않도록 하는 기법\n",
    "\n",
    "\n",
    "### 패딩 마스킹\n",
    "\n",
    "\n",
    "- 패딩 토큰(padding token)이 어텐션 메커니즘에서 제외되도록 하는 것으로, 입력 시퀀스의 실제 길이를 고려함\n",
    "\n",
    "\n",
    "### 룩 어헤드 마스킹\n",
    "\n",
    "\n",
    "- 미래 토큰을 참조하지 못하게 하여, 순차적으로 단어를 생성하는 과정에서 정보의 유출을 방지함\n",
    "\n",
    "---"
   ]
  },
  {
   "cell_type": "code",
   "execution_count": 6,
   "id": "fe28b7d9",
   "metadata": {},
   "outputs": [],
   "source": [
    "# 패딩 마스킹 구현\n",
    "\n",
    "def create_padding_mask(x):\n",
    "  mask = tf.cast(tf.math.equal(x, 0), tf.float32)\n",
    "  # (batch_size, 1, 1, sequence length)\n",
    "  return mask[:, tf.newaxis, tf.newaxis, :]"
   ]
  },
  {
   "cell_type": "code",
   "execution_count": 7,
   "id": "e73c31f8",
   "metadata": {},
   "outputs": [],
   "source": [
    "# 룩 어헤드 마스킹 구현\n",
    "\n",
    "def create_look_ahead_mask(x):\n",
    "  seq_len = tf.shape(x)[1]\n",
    "  look_ahead_mask = 1 - tf.linalg.band_part(tf.ones((seq_len, seq_len)), -1, 0)\n",
    "  padding_mask = create_padding_mask(x)\n",
    "  return tf.maximum(look_ahead_mask, padding_mask)"
   ]
  },
  {
   "cell_type": "markdown",
   "id": "439c40d2",
   "metadata": {},
   "source": [
    "## 인코더 층 설계\n",
    "\n",
    "- 셀프 어텐션\n",
    "\n",
    "\n",
    "- 피드 포워드 신경망"
   ]
  },
  {
   "cell_type": "code",
   "execution_count": 8,
   "id": "69800722",
   "metadata": {},
   "outputs": [],
   "source": [
    "# 인코더 하나의 레이어를 함수로 구현.\n",
    "# 이 하나의 레이어 안에는 두 개의 서브 레이어가 존재합니다.\n",
    "def encoder_layer(units, d_model, num_heads, dropout, name=\"encoder_layer\"):\n",
    "  inputs = tf.keras.Input(shape=(None, d_model), name=\"inputs\")\n",
    "\n",
    "  # 패딩 마스크 사용\n",
    "  padding_mask = tf.keras.Input(shape=(1, 1, None), name=\"padding_mask\")\n",
    "\n",
    "  # 첫 번째 서브 레이어 : 멀티 헤드 어텐션 수행 (셀프 어텐션)\n",
    "  attention = MultiHeadAttention(\n",
    "      d_model, num_heads, name=\"attention\")({\n",
    "          'query': inputs,\n",
    "          'key': inputs,\n",
    "          'value': inputs,\n",
    "          'mask': padding_mask\n",
    "      })\n",
    "\n",
    "  # 어텐션의 결과는 Dropout과 Layer Normalization이라는 훈련을 돕는 테크닉을 수행\n",
    "  attention = tf.keras.layers.Dropout(rate=dropout)(attention)\n",
    "  attention = tf.keras.layers.LayerNormalization(\n",
    "      epsilon=1e-6)(inputs + attention)\n",
    "\n",
    "  # 두 번째 서브 레이어 : 2개의 완전연결층\n",
    "  outputs = tf.keras.layers.Dense(units=units, activation='relu')(attention)\n",
    "  outputs = tf.keras.layers.Dense(units=d_model)(outputs)\n",
    "\n",
    "  # 완전연결층의 결과는 Dropout과 LayerNormalization이라는 훈련을 돕는 테크닉을 수행\n",
    "  outputs = tf.keras.layers.Dropout(rate=dropout)(outputs)\n",
    "  outputs = tf.keras.layers.LayerNormalization(\n",
    "      epsilon=1e-6)(attention + outputs)\n",
    "\n",
    "  return tf.keras.Model(\n",
    "      inputs=[inputs, padding_mask], outputs=outputs, name=name)"
   ]
  },
  {
   "cell_type": "markdown",
   "id": "43600c69",
   "metadata": {},
   "source": [
    "### 인코더 층을 쌓아 인코더 만들기\n",
    "\n",
    "- 임베딩 층(Embedding layer) 과 포지셔널 인코딩(Positional Encoding) 을 연결하고 원하는 만큼 인코더 층을 쌓음"
   ]
  },
  {
   "cell_type": "code",
   "execution_count": 9,
   "id": "b009922e",
   "metadata": {},
   "outputs": [],
   "source": [
    "def encoder(vocab_size,\n",
    "            num_layers,\n",
    "            units,\n",
    "            d_model,\n",
    "            num_heads,\n",
    "            dropout,\n",
    "            name=\"encoder\"):\n",
    "  inputs = tf.keras.Input(shape=(None,), name=\"inputs\")\n",
    "\n",
    "  # 패딩 마스크 사용\n",
    "  padding_mask = tf.keras.Input(shape=(1, 1, None), name=\"padding_mask\")\n",
    "\n",
    "  # 임베딩 레이어\n",
    "  embeddings = tf.keras.layers.Embedding(vocab_size, d_model)(inputs)\n",
    "  embeddings *= tf.math.sqrt(tf.cast(d_model, tf.float32))\n",
    "\n",
    "  # 포지셔널 인코딩\n",
    "  embeddings = PositionalEncoding(vocab_size, d_model)(embeddings)\n",
    "\n",
    "  outputs = tf.keras.layers.Dropout(rate=dropout)(embeddings)\n",
    "\n",
    "  # num_layers만큼 쌓아올린 인코더의 층.\n",
    "  for i in range(num_layers):\n",
    "    outputs = encoder_layer(\n",
    "        units=units,\n",
    "        d_model=d_model,\n",
    "        num_heads=num_heads,\n",
    "        dropout=dropout,\n",
    "        name=\"encoder_layer_{}\".format(i),\n",
    "    )([outputs, padding_mask])\n",
    "\n",
    "  return tf.keras.Model(\n",
    "      inputs=[inputs, padding_mask], outputs=outputs, name=name)"
   ]
  },
  {
   "cell_type": "markdown",
   "id": "a69ed4b4",
   "metadata": {},
   "source": [
    "## 디코더 층 설계"
   ]
  },
  {
   "cell_type": "code",
   "execution_count": 10,
   "id": "52167c8d",
   "metadata": {},
   "outputs": [],
   "source": [
    "# 디코더 하나의 레이어를 함수로 구현.\n",
    "# 이 하나의 레이어 안에는 세 개의 서브 레이어가 존재합니다.\n",
    "def decoder_layer(units, d_model, num_heads, dropout, name=\"decoder_layer\"):\n",
    "  inputs = tf.keras.Input(shape=(None, d_model), name=\"inputs\")\n",
    "  enc_outputs = tf.keras.Input(shape=(None, d_model), name=\"encoder_outputs\")\n",
    "  look_ahead_mask = tf.keras.Input(\n",
    "      shape=(1, None, None), name=\"look_ahead_mask\")\n",
    "  padding_mask = tf.keras.Input(shape=(1, 1, None), name='padding_mask')\n",
    "\n",
    "  # 첫 번째 서브 레이어 : 멀티 헤드 어텐션 수행 (셀프 어텐션)\n",
    "  attention1 = MultiHeadAttention(\n",
    "      d_model, num_heads, name=\"attention_1\")(inputs={\n",
    "          'query': inputs,\n",
    "          'key': inputs,\n",
    "          'value': inputs,\n",
    "          'mask': look_ahead_mask\n",
    "      })\n",
    "\n",
    "  # 멀티 헤드 어텐션의 결과는 LayerNormalization이라는 훈련을 돕는 테크닉을 수행\n",
    "  attention1 = tf.keras.layers.LayerNormalization(\n",
    "      epsilon=1e-6)(attention1 + inputs)\n",
    "\n",
    "  # 두 번째 서브 레이어 : 마스크드 멀티 헤드 어텐션 수행 (인코더-디코더 어텐션)\n",
    "  attention2 = MultiHeadAttention(\n",
    "      d_model, num_heads, name=\"attention_2\")(inputs={\n",
    "          'query': attention1,\n",
    "          'key': enc_outputs,\n",
    "          'value': enc_outputs,\n",
    "          'mask': padding_mask\n",
    "      })\n",
    "\n",
    "  # 마스크드 멀티 헤드 어텐션의 결과는\n",
    "  # Dropout과 LayerNormalization이라는 훈련을 돕는 테크닉을 수행\n",
    "  attention2 = tf.keras.layers.Dropout(rate=dropout)(attention2)\n",
    "  attention2 = tf.keras.layers.LayerNormalization(\n",
    "      epsilon=1e-6)(attention2 + attention1)\n",
    "\n",
    "  # 세 번째 서브 레이어 : 2개의 완전연결층\n",
    "  outputs = tf.keras.layers.Dense(units=units, activation='relu')(attention2)\n",
    "  outputs = tf.keras.layers.Dense(units=d_model)(outputs)\n",
    "\n",
    "  # 완전연결층의 결과는 Dropout과 LayerNormalization 수행\n",
    "  outputs = tf.keras.layers.Dropout(rate=dropout)(outputs)\n",
    "  outputs = tf.keras.layers.LayerNormalization(\n",
    "      epsilon=1e-6)(outputs + attention2)\n",
    "\n",
    "  return tf.keras.Model(\n",
    "      inputs=[inputs, enc_outputs, look_ahead_mask, padding_mask],\n",
    "      outputs=outputs,\n",
    "      name=name)"
   ]
  },
  {
   "cell_type": "markdown",
   "id": "1b6f863c",
   "metadata": {},
   "source": [
    "### 디코더 층을 쌓아 디코더 만들기\n",
    "\n",
    "\n",
    "- 임베딩 층(Embedding layer) 과 포지셔널 인코딩(Positional Encoding) 을 연결하고 원하는 만큼 디코더 층을 쌓아 트랜스포머의 디코더가 완성됩니다.\n",
    "\n",
    "\n",
    "- 인코더와 마찬가지로 num_layers 개수의 디코더 층을 쌓음"
   ]
  },
  {
   "cell_type": "code",
   "execution_count": 11,
   "id": "a5b035fc",
   "metadata": {},
   "outputs": [],
   "source": [
    "def decoder(vocab_size,\n",
    "            num_layers,\n",
    "            units,\n",
    "            d_model,\n",
    "            num_heads,\n",
    "            dropout,\n",
    "            name='decoder'):\n",
    "  inputs = tf.keras.Input(shape=(None,), name='inputs')\n",
    "  enc_outputs = tf.keras.Input(shape=(None, d_model), name='encoder_outputs')\n",
    "  look_ahead_mask = tf.keras.Input(\n",
    "      shape=(1, None, None), name='look_ahead_mask')\n",
    "\n",
    "  # 패딩 마스크\n",
    "  padding_mask = tf.keras.Input(shape=(1, 1, None), name='padding_mask')\n",
    "\n",
    "  # 임베딩 레이어\n",
    "  embeddings = tf.keras.layers.Embedding(vocab_size, d_model)(inputs)\n",
    "  embeddings *= tf.math.sqrt(tf.cast(d_model, tf.float32))\n",
    "\n",
    "  # 포지셔널 인코딩\n",
    "  embeddings = PositionalEncoding(vocab_size, d_model)(embeddings)\n",
    "\n",
    "  # Dropout이라는 훈련을 돕는 테크닉을 수행\n",
    "  outputs = tf.keras.layers.Dropout(rate=dropout)(embeddings)\n",
    "\n",
    "  for i in range(num_layers):\n",
    "    outputs = decoder_layer(\n",
    "        units=units,\n",
    "        d_model=d_model,\n",
    "        num_heads=num_heads,\n",
    "        dropout=dropout,\n",
    "        name='decoder_layer_{}'.format(i),\n",
    "    )(inputs=[outputs, enc_outputs, look_ahead_mask, padding_mask])\n",
    "\n",
    "  return tf.keras.Model(\n",
    "      inputs=[inputs, enc_outputs, look_ahead_mask, padding_mask],\n",
    "      outputs=outputs,\n",
    "      name=name)"
   ]
  },
  {
   "cell_type": "markdown",
   "id": "4214da8f",
   "metadata": {},
   "source": [
    "# 3. 데이터 로드\n",
    "\n",
    "- 본격적인 대화형 챗봇 구현\n",
    "\n",
    "---\n",
    "\n",
    "### 데이터는 송영숙님의 챗봇 데이터 사용"
   ]
  },
  {
   "cell_type": "code",
   "execution_count": 12,
   "id": "73c2e0c1",
   "metadata": {},
   "outputs": [],
   "source": [
    "chatbot_data = pd.read_csv('./transformer_chatbot/data/ChatbotData .csv')"
   ]
  },
  {
   "cell_type": "markdown",
   "id": "2bf73b77",
   "metadata": {},
   "source": [
    "### 데이터 확인"
   ]
  },
  {
   "cell_type": "code",
   "execution_count": 13,
   "id": "96d061e9",
   "metadata": {},
   "outputs": [
    {
     "data": {
      "text/html": [
       "<div>\n",
       "<style scoped>\n",
       "    .dataframe tbody tr th:only-of-type {\n",
       "        vertical-align: middle;\n",
       "    }\n",
       "\n",
       "    .dataframe tbody tr th {\n",
       "        vertical-align: top;\n",
       "    }\n",
       "\n",
       "    .dataframe thead th {\n",
       "        text-align: right;\n",
       "    }\n",
       "</style>\n",
       "<table border=\"1\" class=\"dataframe\">\n",
       "  <thead>\n",
       "    <tr style=\"text-align: right;\">\n",
       "      <th></th>\n",
       "      <th>Q</th>\n",
       "      <th>A</th>\n",
       "      <th>label</th>\n",
       "    </tr>\n",
       "  </thead>\n",
       "  <tbody>\n",
       "    <tr>\n",
       "      <th>0</th>\n",
       "      <td>12시 땡!</td>\n",
       "      <td>하루가 또 가네요.</td>\n",
       "      <td>0</td>\n",
       "    </tr>\n",
       "    <tr>\n",
       "      <th>1</th>\n",
       "      <td>1지망 학교 떨어졌어</td>\n",
       "      <td>위로해 드립니다.</td>\n",
       "      <td>0</td>\n",
       "    </tr>\n",
       "    <tr>\n",
       "      <th>2</th>\n",
       "      <td>3박4일 놀러가고 싶다</td>\n",
       "      <td>여행은 언제나 좋죠.</td>\n",
       "      <td>0</td>\n",
       "    </tr>\n",
       "    <tr>\n",
       "      <th>3</th>\n",
       "      <td>3박4일 정도 놀러가고 싶다</td>\n",
       "      <td>여행은 언제나 좋죠.</td>\n",
       "      <td>0</td>\n",
       "    </tr>\n",
       "    <tr>\n",
       "      <th>4</th>\n",
       "      <td>PPL 심하네</td>\n",
       "      <td>눈살이 찌푸려지죠.</td>\n",
       "      <td>0</td>\n",
       "    </tr>\n",
       "    <tr>\n",
       "      <th>...</th>\n",
       "      <td>...</td>\n",
       "      <td>...</td>\n",
       "      <td>...</td>\n",
       "    </tr>\n",
       "    <tr>\n",
       "      <th>11818</th>\n",
       "      <td>훔쳐보는 것도 눈치 보임.</td>\n",
       "      <td>티가 나니까 눈치가 보이는 거죠!</td>\n",
       "      <td>2</td>\n",
       "    </tr>\n",
       "    <tr>\n",
       "      <th>11819</th>\n",
       "      <td>훔쳐보는 것도 눈치 보임.</td>\n",
       "      <td>훔쳐보는 거 티나나봐요.</td>\n",
       "      <td>2</td>\n",
       "    </tr>\n",
       "    <tr>\n",
       "      <th>11820</th>\n",
       "      <td>흑기사 해주는 짝남.</td>\n",
       "      <td>설렜겠어요.</td>\n",
       "      <td>2</td>\n",
       "    </tr>\n",
       "    <tr>\n",
       "      <th>11821</th>\n",
       "      <td>힘든 연애 좋은 연애라는게 무슨 차이일까?</td>\n",
       "      <td>잘 헤어질 수 있는 사이 여부인 거 같아요.</td>\n",
       "      <td>2</td>\n",
       "    </tr>\n",
       "    <tr>\n",
       "      <th>11822</th>\n",
       "      <td>힘들어서 결혼할까봐</td>\n",
       "      <td>도피성 결혼은 하지 않길 바라요.</td>\n",
       "      <td>2</td>\n",
       "    </tr>\n",
       "  </tbody>\n",
       "</table>\n",
       "<p>11823 rows × 3 columns</p>\n",
       "</div>"
      ],
      "text/plain": [
       "                             Q                         A  label\n",
       "0                       12시 땡!                하루가 또 가네요.      0\n",
       "1                  1지망 학교 떨어졌어                 위로해 드립니다.      0\n",
       "2                 3박4일 놀러가고 싶다               여행은 언제나 좋죠.      0\n",
       "3              3박4일 정도 놀러가고 싶다               여행은 언제나 좋죠.      0\n",
       "4                      PPL 심하네                눈살이 찌푸려지죠.      0\n",
       "...                        ...                       ...    ...\n",
       "11818           훔쳐보는 것도 눈치 보임.        티가 나니까 눈치가 보이는 거죠!      2\n",
       "11819           훔쳐보는 것도 눈치 보임.             훔쳐보는 거 티나나봐요.      2\n",
       "11820              흑기사 해주는 짝남.                    설렜겠어요.      2\n",
       "11821  힘든 연애 좋은 연애라는게 무슨 차이일까?  잘 헤어질 수 있는 사이 여부인 거 같아요.      2\n",
       "11822               힘들어서 결혼할까봐        도피성 결혼은 하지 않길 바라요.      2\n",
       "\n",
       "[11823 rows x 3 columns]"
      ]
     },
     "execution_count": 13,
     "metadata": {},
     "output_type": "execute_result"
    }
   ],
   "source": [
    "chatbot_data"
   ]
  },
  {
   "cell_type": "markdown",
   "id": "b0f06872",
   "metadata": {},
   "source": [
    "### 데이터 개수 확인"
   ]
  },
  {
   "cell_type": "code",
   "execution_count": 14,
   "id": "b8ae5f4c",
   "metadata": {},
   "outputs": [
    {
     "name": "stdout",
     "output_type": "stream",
     "text": [
      "챗봇 샘플 개수 : 11823\n"
     ]
    }
   ],
   "source": [
    "print('챗봇 샘플 개수 :', len(chatbot_data))"
   ]
  },
  {
   "cell_type": "markdown",
   "id": "435e9e28",
   "metadata": {},
   "source": [
    "# 4. 데이터 전처리"
   ]
  },
  {
   "cell_type": "code",
   "execution_count": 15,
   "id": "6f864fb1",
   "metadata": {},
   "outputs": [],
   "source": [
    "def preprocess_sentence(sentence):\n",
    "\n",
    "    # 1. 문장 내의 구두점(?, ., !, ,) 주변에 공백 추가\n",
    "    sentence = re.sub(r\"([?.!,])\", r\" \\1 \", sentence)\n",
    "\n",
    "    # 2. 중복된 공백을 단일 공백으로 대체\n",
    "    sentence = re.sub(r'[\" \"]+', \" \", sentence)\n",
    "\n",
    "    # 3. 문장의 양쪽 공백 제거 (다시 한 번)\n",
    "    sentence = sentence.strip()\n",
    "\n",
    "    return sentence"
   ]
  },
  {
   "cell_type": "code",
   "execution_count": 16,
   "id": "1e1dab31",
   "metadata": {},
   "outputs": [],
   "source": [
    "def load_conversations(questions, answers):\n",
    "    # 입력과 출력을 저장할 빈 리스트 생성\n",
    "    inputs, outputs = [], []\n",
    "\n",
    "    # 주어진 질문과 답변 리스트를 순회하면서 처리\n",
    "    for question, answer in zip(questions, answers):\n",
    "        # 각 질문과 답변에 대해 텍스트 전처리 함수를 호출하여 처리\n",
    "        inputs.append(preprocess_sentence(question))  # 질문 전처리 후 입력 리스트에 추가\n",
    "        outputs.append(preprocess_sentence(answer))   # 답변 전처리 후 출력 리스트에 추가\n",
    "\n",
    "    # 처리된 입력과 출력 리스트 반환\n",
    "    return inputs, outputs"
   ]
  },
  {
   "cell_type": "markdown",
   "id": "dfec6116",
   "metadata": {},
   "source": [
    "### 데이터 전처리 확인"
   ]
  },
  {
   "cell_type": "code",
   "execution_count": 17,
   "id": "d2de8a8b",
   "metadata": {},
   "outputs": [
    {
     "name": "stdout",
     "output_type": "stream",
     "text": [
      "전체 샘플 수 : 11823\n",
      "전체 샘플 수 : 11823\n"
     ]
    }
   ],
   "source": [
    "# 데이터를 로드하고 전처리하여 질문을 questions, 답변을 answers에 저장합니다.\n",
    "questions, answers = load_conversations(chatbot_data['Q'], chatbot_data['A'])\n",
    "print('전체 샘플 수 :', len(questions))\n",
    "print('전체 샘플 수 :', len(answers))"
   ]
  },
  {
   "cell_type": "code",
   "execution_count": 21,
   "id": "6ba4a602",
   "metadata": {},
   "outputs": [
    {
     "name": "stdout",
     "output_type": "stream",
     "text": [
      "전처리 후의 1번째 질문 샘플: 12시 땡 !\n",
      "전처리 후의 1번째 답변 샘플: 하루가 또 가네요 .\n"
     ]
    }
   ],
   "source": [
    "print('전처리 후의 1번째 질문 샘플: {}'.format(questions[0]))\n",
    "print('전처리 후의 1번째 답변 샘플: {}'.format(answers[0]))"
   ]
  },
  {
   "cell_type": "code",
   "execution_count": 25,
   "id": "88c753f5",
   "metadata": {
    "scrolled": true
   },
   "outputs": [
    {
     "name": "stdout",
     "output_type": "stream",
     "text": [
      "전처리 후의 11822번째 질문 샘플: 힘든 연애 좋은 연애라는게 무슨 차이일까 ?\n",
      "전처리 후의 11822번째 답변 샘플: 잘 헤어질 수 있는 사이 여부인 거 같아요 .\n"
     ]
    }
   ],
   "source": [
    "print('전처리 후의 11822번째 질문 샘플: {}'.format(questions[11821]))\n",
    "print('전처리 후의 11822번째 답변 샘플: {}'.format(answers[11821]))"
   ]
  },
  {
   "cell_type": "markdown",
   "id": "95d48922",
   "metadata": {},
   "source": [
    "# 4-1. 병렬 데이터 전처리\n",
    "\n",
    "\n",
    "### 단어장 만들기"
   ]
  },
  {
   "cell_type": "code",
   "execution_count": 26,
   "id": "f0b9e8ef",
   "metadata": {},
   "outputs": [],
   "source": [
    "# 질문과 답변 데이터셋에 대해서 Vocabulary 생성\n",
    "tokenizer = tfds.deprecated.text.SubwordTextEncoder.build_from_corpus(questions + answers, target_vocab_size=2**13)"
   ]
  },
  {
   "cell_type": "markdown",
   "id": "8939c258",
   "metadata": {},
   "source": [
    " - 디코더의 문장 생성 과정에서 사용할 '시작 토큰'과 '종료 토큰'에 대해서도 임의로 단어장에 추가하여서 정수를 부여해 줌"
   ]
  },
  {
   "cell_type": "code",
   "execution_count": 27,
   "id": "c9f25625",
   "metadata": {},
   "outputs": [],
   "source": [
    "# 시작 토큰과 종료 토큰에 고유한 정수를 부여합니다.\n",
    "START_TOKEN, END_TOKEN = [tokenizer.vocab_size], [tokenizer.vocab_size + 1]"
   ]
  },
  {
   "cell_type": "code",
   "execution_count": 28,
   "id": "dc123b52",
   "metadata": {},
   "outputs": [
    {
     "name": "stdout",
     "output_type": "stream",
     "text": [
      "START_TOKEN의 번호 : [8173]\n",
      "END_TOKEN의 번호 : [8174]\n"
     ]
    }
   ],
   "source": [
    "print('START_TOKEN의 번호 :' ,[tokenizer.vocab_size])\n",
    "print('END_TOKEN의 번호 :' ,[tokenizer.vocab_size + 1])"
   ]
  },
  {
   "cell_type": "code",
   "execution_count": 29,
   "id": "1dc6a605",
   "metadata": {},
   "outputs": [
    {
     "name": "stdout",
     "output_type": "stream",
     "text": [
      "8175\n"
     ]
    }
   ],
   "source": [
    "# 시작 토큰과 종료 토큰을 고려하여 +2를 하여 단어장의 크기를 산정합니다.\n",
    "VOCAB_SIZE = tokenizer.vocab_size + 2\n",
    "print(VOCAB_SIZE)"
   ]
  },
  {
   "cell_type": "markdown",
   "id": "83dcf561",
   "metadata": {},
   "source": [
    "### 각 단어를 고유한 정수로 인코딩(Integer encoding) & 패딩(Padding)"
   ]
  },
  {
   "cell_type": "code",
   "execution_count": 31,
   "id": "60431776",
   "metadata": {},
   "outputs": [
    {
     "name": "stdout",
     "output_type": "stream",
     "text": [
      "정수 인코딩 후의 1번째 질문 샘플: [7912, 4204, 3056, 41]\n",
      "정수 인코딩 후의 1번째 답변 샘플: [3841, 74, 7891, 1]\n"
     ]
    }
   ],
   "source": [
    "# 임의의 22번째 샘플에 대해서 정수 인코딩 작업을 수행.\n",
    "# 각 토큰을 고유한 정수로 변환\n",
    "print('정수 인코딩 후의 1번째 질문 샘플: {}'.format(tokenizer.encode(questions[0])))\n",
    "print('정수 인코딩 후의 1번째 답변 샘플: {}'.format(tokenizer.encode(answers[0])))"
   ]
  },
  {
   "cell_type": "markdown",
   "id": "dc8e0ceb",
   "metadata": {},
   "source": [
    "- 각 단어에 고유한 정수가 부여된 Vocabulary를 기준으로 단어 시퀀스가 정수 시퀀스로 인코딩된 결과를 확인할 수 있음"
   ]
  },
  {
   "cell_type": "markdown",
   "id": "ac548198",
   "metadata": {},
   "source": [
    "### 이와 동시에 문장의 최대 길이를 정하고, 해당 길이로 패딩(padding) 함"
   ]
  },
  {
   "cell_type": "code",
   "execution_count": 34,
   "id": "a4228190",
   "metadata": {},
   "outputs": [],
   "source": [
    "# 샘플의 최대 허용 길이 또는 패딩 후의 최종 길이\n",
    "MAX_LENGTH = 40\n",
    "\n",
    "# 정수 인코딩, 최대 길이를 초과하는 샘플 제거, 패딩\n",
    "def tokenize_and_filter(inputs, outputs):\n",
    "  tokenized_inputs, tokenized_outputs = [], []\n",
    "\n",
    "  for (sentence1, sentence2) in zip(inputs, outputs):\n",
    "    # 정수 인코딩 과정에서 시작 토큰과 종료 토큰을 추가\n",
    "    sentence1 = START_TOKEN + tokenizer.encode(sentence1) + END_TOKEN\n",
    "    sentence2 = START_TOKEN + tokenizer.encode(sentence2) + END_TOKEN\n",
    "\n",
    "    # 최대 길이 40 이하인 경우에만 데이터셋으로 허용\n",
    "    if len(sentence1) <= MAX_LENGTH and len(sentence2) <= MAX_LENGTH:\n",
    "      tokenized_inputs.append(sentence1)\n",
    "      tokenized_outputs.append(sentence2)\n",
    "\n",
    "  # 최대 길이 40으로 모든 데이터셋을 패딩\n",
    "  tokenized_inputs = tf.keras.preprocessing.sequence.pad_sequences(\n",
    "      tokenized_inputs, maxlen=MAX_LENGTH, padding='post')\n",
    "  tokenized_outputs = tf.keras.preprocessing.sequence.pad_sequences(\n",
    "      tokenized_outputs, maxlen=MAX_LENGTH, padding='post')\n",
    "\n",
    "  return tokenized_inputs, tokenized_outputs"
   ]
  },
  {
   "cell_type": "markdown",
   "id": "017c6205",
   "metadata": {},
   "source": [
    "### 단어장의 크기와 샘플의 개수를 확인"
   ]
  },
  {
   "cell_type": "code",
   "execution_count": 35,
   "id": "89e282c0",
   "metadata": {},
   "outputs": [
    {
     "name": "stdout",
     "output_type": "stream",
     "text": [
      "단어장의 크기 : 8175\n",
      "필터링 후의 질문 샘플 개수: 11823\n",
      "필터링 후의 답변 샘플 개수: 11823\n"
     ]
    }
   ],
   "source": [
    "questions, answers = tokenize_and_filter(questions, answers)\n",
    "print('단어장의 크기 :',(VOCAB_SIZE))\n",
    "print('필터링 후의 질문 샘플 개수: {}'.format(len(questions)))\n",
    "print('필터링 후의 답변 샘플 개수: {}'.format(len(answers)))"
   ]
  },
  {
   "cell_type": "markdown",
   "id": "384bccba",
   "metadata": {},
   "source": [
    "---\n",
    "\n",
    "### 교사강요(Teacher Forcing) 사용\n",
    "\n",
    "- 교사 강요(teacher forcing)란, 테스트 과정에서 t 시점의 출력이 t+1 시점의 입력으로 사용되는 RNN 모델을 훈련시킬 때 사용하는 훈련 기법\n",
    "\n",
    "\n",
    "- 교사 강요를 사용하여 RNN을 좀 더 빠르고 효과적으로 훈련시킬 수 있음"
   ]
  },
  {
   "cell_type": "code",
   "execution_count": 36,
   "id": "51fe357e",
   "metadata": {},
   "outputs": [],
   "source": [
    "BATCH_SIZE = 64\n",
    "BUFFER_SIZE = 20000\n",
    "\n",
    "# 디코더는 이전의 target을 다음의 input으로 사용합니다.\n",
    "# 이에 따라 outputs에서는 START_TOKEN을 제거하겠습니다.\n",
    "dataset = tf.data.Dataset.from_tensor_slices((\n",
    "    {\n",
    "        'inputs': questions,\n",
    "        'dec_inputs': answers[:, :-1]\n",
    "    },\n",
    "    {\n",
    "        'outputs': answers[:, 1:]\n",
    "    },\n",
    "))\n",
    "\n",
    "dataset = dataset.cache()\n",
    "dataset = dataset.shuffle(BUFFER_SIZE)\n",
    "dataset = dataset.batch(BATCH_SIZE)\n",
    "dataset = dataset.prefetch(tf.data.experimental.AUTOTUNE)"
   ]
  },
  {
   "cell_type": "markdown",
   "id": "653b1a31",
   "metadata": {},
   "source": [
    "# 5. 모델 정의 및 학습"
   ]
  },
  {
   "cell_type": "markdown",
   "id": "15d9927b",
   "metadata": {},
   "source": [
    "### 정의 해놓은 함수들을 사용해 트랜스포머 함수 정의"
   ]
  },
  {
   "cell_type": "code",
   "execution_count": 37,
   "id": "cd53f4f2",
   "metadata": {},
   "outputs": [],
   "source": [
    "def transformer(vocab_size,\n",
    "                num_layers,\n",
    "                units,\n",
    "                d_model,\n",
    "                num_heads,\n",
    "                dropout,\n",
    "                name=\"transformer\"):\n",
    "  inputs = tf.keras.Input(shape=(None,), name=\"inputs\")\n",
    "  dec_inputs = tf.keras.Input(shape=(None,), name=\"dec_inputs\")\n",
    "\n",
    "  # 인코더에서 패딩을 위한 마스크\n",
    "  enc_padding_mask = tf.keras.layers.Lambda(\n",
    "      create_padding_mask, output_shape=(1, 1, None),\n",
    "      name='enc_padding_mask')(inputs)\n",
    "\n",
    "  # 디코더에서 미래의 토큰을 마스크 하기 위해서 사용합니다.\n",
    "  # 내부적으로 패딩 마스크도 포함되어져 있습니다.\n",
    "  look_ahead_mask = tf.keras.layers.Lambda(\n",
    "      create_look_ahead_mask,\n",
    "      output_shape=(1, None, None),\n",
    "      name='look_ahead_mask')(dec_inputs)\n",
    "\n",
    "  # 두 번째 어텐션 블록에서 인코더의 벡터들을 마스킹\n",
    "  # 디코더에서 패딩을 위한 마스크\n",
    "  dec_padding_mask = tf.keras.layers.Lambda(\n",
    "      create_padding_mask, output_shape=(1, 1, None),\n",
    "      name='dec_padding_mask')(inputs)\n",
    "\n",
    "  # 인코더\n",
    "  enc_outputs = encoder(\n",
    "      vocab_size=vocab_size,\n",
    "      num_layers=num_layers,\n",
    "      units=units,\n",
    "      d_model=d_model,\n",
    "      num_heads=num_heads,\n",
    "      dropout=dropout,\n",
    "  )(inputs=[inputs, enc_padding_mask])\n",
    "\n",
    "  # 디코더\n",
    "  dec_outputs = decoder(\n",
    "      vocab_size=vocab_size,\n",
    "      num_layers=num_layers,\n",
    "      units=units,\n",
    "      d_model=d_model,\n",
    "      num_heads=num_heads,\n",
    "      dropout=dropout,\n",
    "  )(inputs=[dec_inputs, enc_outputs, look_ahead_mask, dec_padding_mask])\n",
    "\n",
    "  # 완전연결층\n",
    "  outputs = tf.keras.layers.Dense(units=vocab_size, name=\"outputs\")(dec_outputs)\n",
    "\n",
    "  return tf.keras.Model(inputs=[inputs, dec_inputs], outputs=outputs, name=name)"
   ]
  },
  {
   "cell_type": "markdown",
   "id": "e2faaaed",
   "metadata": {},
   "source": [
    "### 모델 생성"
   ]
  },
  {
   "cell_type": "code",
   "execution_count": 38,
   "id": "6fe4b0a8",
   "metadata": {},
   "outputs": [
    {
     "name": "stdout",
     "output_type": "stream",
     "text": [
      "Model: \"transformer\"\n",
      "__________________________________________________________________________________________________\n",
      "Layer (type)                    Output Shape         Param #     Connected to                     \n",
      "==================================================================================================\n",
      "inputs (InputLayer)             [(None, None)]       0                                            \n",
      "__________________________________________________________________________________________________\n",
      "dec_inputs (InputLayer)         [(None, None)]       0                                            \n",
      "__________________________________________________________________________________________________\n",
      "enc_padding_mask (Lambda)       (None, 1, 1, None)   0           inputs[0][0]                     \n",
      "__________________________________________________________________________________________________\n",
      "encoder (Functional)            (None, None, 256)    3674112     inputs[0][0]                     \n",
      "                                                                 enc_padding_mask[0][0]           \n",
      "__________________________________________________________________________________________________\n",
      "look_ahead_mask (Lambda)        (None, 1, None, None 0           dec_inputs[0][0]                 \n",
      "__________________________________________________________________________________________________\n",
      "dec_padding_mask (Lambda)       (None, 1, 1, None)   0           inputs[0][0]                     \n",
      "__________________________________________________________________________________________________\n",
      "decoder (Functional)            (None, None, 256)    4465152     dec_inputs[0][0]                 \n",
      "                                                                 encoder[0][0]                    \n",
      "                                                                 look_ahead_mask[0][0]            \n",
      "                                                                 dec_padding_mask[0][0]           \n",
      "__________________________________________________________________________________________________\n",
      "outputs (Dense)                 (None, None, 8175)   2100975     decoder[0][0]                    \n",
      "==================================================================================================\n",
      "Total params: 10,240,239\n",
      "Trainable params: 10,240,239\n",
      "Non-trainable params: 0\n",
      "__________________________________________________________________________________________________\n"
     ]
    }
   ],
   "source": [
    "tf.keras.backend.clear_session()\n",
    "\n",
    "# 하이퍼파라미터\n",
    "NUM_LAYERS = 3 # 인코더와 디코더의 층의 개수\n",
    "D_MODEL = 256 # 인코더와 디코더 내부의 입, 출력의 고정 차원\n",
    "NUM_HEADS = 8 # 멀티 헤드 어텐션에서의 헤드 수\n",
    "UNITS = 512 # 피드 포워드 신경망의 은닉층의 크기\n",
    "DROPOUT = 0.1 # 드롭아웃의 비율\n",
    "\n",
    "model = transformer(\n",
    "    vocab_size=VOCAB_SIZE,\n",
    "    num_layers=NUM_LAYERS,\n",
    "    units=UNITS,\n",
    "    d_model=D_MODEL,\n",
    "    num_heads=NUM_HEADS,\n",
    "    dropout=DROPOUT)\n",
    "\n",
    "model.summary()"
   ]
  },
  {
   "cell_type": "markdown",
   "id": "8670e1fe",
   "metadata": {},
   "source": [
    "### 손실 함수\n",
    "\n",
    "- 레이블인 시퀀스에 패딩이 되어 있으므로, loss를 계산할 때 패딩 마스크를 적용해야 함"
   ]
  },
  {
   "cell_type": "code",
   "execution_count": 39,
   "id": "b0f0dbbd",
   "metadata": {},
   "outputs": [],
   "source": [
    "def loss_function(y_true, y_pred):\n",
    "  y_true = tf.reshape(y_true, shape=(-1, MAX_LENGTH - 1))\n",
    "\n",
    "  loss = tf.keras.losses.SparseCategoricalCrossentropy(\n",
    "      from_logits=True, reduction='none')(y_true, y_pred)\n",
    "\n",
    "  mask = tf.cast(tf.not_equal(y_true, 0), tf.float32)\n",
    "  loss = tf.multiply(loss, mask)\n",
    "\n",
    "  return tf.reduce_mean(loss)"
   ]
  },
  {
   "cell_type": "markdown",
   "id": "1fb585dd",
   "metadata": {},
   "source": [
    "### 커스텀 학습률 정의\n",
    "\n",
    "- 최근에는 모델학습 초기에 learning rate를 급격히 높였다가, 이후 train step이 진행됨에 따라 서서히 낮추어 가면서 안정적으로 수렴하게 하는 고급 기법을 널리 사용\n",
    "\n",
    "\n",
    "- 이런 방법을 커스텀 학습률 스케줄링(Custom Learning rate Scheduling)이라 함"
   ]
  },
  {
   "cell_type": "code",
   "execution_count": 40,
   "id": "8d8e953f",
   "metadata": {},
   "outputs": [],
   "source": [
    "class CustomSchedule(tf.keras.optimizers.schedules.LearningRateSchedule):\n",
    "\n",
    "  def __init__(self, d_model, warmup_steps=4000):\n",
    "    super(CustomSchedule, self).__init__()\n",
    "\n",
    "    self.d_model = d_model\n",
    "    self.d_model = tf.cast(self.d_model, tf.float32)\n",
    "\n",
    "    self.warmup_steps = warmup_steps\n",
    "\n",
    "  def __call__(self, step):\n",
    "    arg1 = tf.math.rsqrt(step)\n",
    "    arg2 = step * (self.warmup_steps**-1.5)\n",
    "\n",
    "    return tf.math.rsqrt(self.d_model) * tf.math.minimum(arg1, arg2)"
   ]
  },
  {
   "cell_type": "markdown",
   "id": "789c52c3",
   "metadata": {},
   "source": [
    "### 시각화"
   ]
  },
  {
   "cell_type": "code",
   "execution_count": 41,
   "id": "1d088188",
   "metadata": {},
   "outputs": [
    {
     "data": {
      "text/plain": [
       "Text(0.5, 0, 'Train Step')"
      ]
     },
     "execution_count": 41,
     "metadata": {},
     "output_type": "execute_result"
    },
    {
     "data": {
      "image/png": "[encoded data removed]",
      "text/plain": [
       "<Figure size 432x288 with 1 Axes>"
      ]
     },
     "metadata": {
      "needs_background": "light"
     },
     "output_type": "display_data"
    }
   ],
   "source": [
    "sample_learning_rate = CustomSchedule(d_model=128)\n",
    "\n",
    "plt.plot(sample_learning_rate(tf.range(200000, dtype=tf.float32)))\n",
    "plt.ylabel(\"Learning Rate\")\n",
    "plt.xlabel(\"Train Step\")"
   ]
  },
  {
   "cell_type": "markdown",
   "id": "58373d7d",
   "metadata": {},
   "source": [
    "### 모델 컴파일\n",
    "\n",
    "- 정의해놓은 학습률 사용\n",
    "\n",
    "\n",
    "- 옵티마이저는 아담을 사용\n",
    "\n",
    "\n",
    "- 정확도는 sparse_categorical_accuracy 사용"
   ]
  },
  {
   "cell_type": "code",
   "execution_count": 42,
   "id": "36a974bb",
   "metadata": {},
   "outputs": [],
   "source": [
    "learning_rate = CustomSchedule(D_MODEL)\n",
    "\n",
    "optimizer = tf.keras.optimizers.Adam(\n",
    "    learning_rate, beta_1=0.9, beta_2=0.98, epsilon=1e-9)\n",
    "\n",
    "def accuracy(y_true, y_pred):\n",
    "  y_true = tf.reshape(y_true, shape=(-1, MAX_LENGTH - 1))\n",
    "  return tf.keras.metrics.sparse_categorical_accuracy(y_true, y_pred)\n",
    "\n",
    "model.compile(optimizer=optimizer, loss=loss_function, metrics=[accuracy])"
   ]
  },
  {
   "cell_type": "markdown",
   "id": "7f57de1b",
   "metadata": {},
   "source": [
    "# 6. 모델 훈련 및 테스트"
   ]
  },
  {
   "cell_type": "code",
   "execution_count": 43,
   "id": "d8adf665",
   "metadata": {},
   "outputs": [
    {
     "name": "stdout",
     "output_type": "stream",
     "text": [
      "Epoch 1/25\n",
      "185/185 [==============================] - 22s 69ms/step - loss: 1.4458 - accuracy: 0.0223\n",
      "Epoch 2/25\n",
      "185/185 [==============================] - 13s 70ms/step - loss: 1.1702 - accuracy: 0.0495\n",
      "Epoch 3/25\n",
      "185/185 [==============================] - 13s 70ms/step - loss: 1.0069 - accuracy: 0.0506\n",
      "Epoch 4/25\n",
      "185/185 [==============================] - 13s 71ms/step - loss: 0.9374 - accuracy: 0.0539\n",
      "Epoch 5/25\n",
      "185/185 [==============================] - 13s 71ms/step - loss: 0.8834 - accuracy: 0.0568\n",
      "Epoch 6/25\n",
      "185/185 [==============================] - 13s 71ms/step - loss: 0.8282 - accuracy: 0.0604\n",
      "Epoch 7/25\n",
      "185/185 [==============================] - 13s 71ms/step - loss: 0.7666 - accuracy: 0.0653\n",
      "Epoch 8/25\n",
      "185/185 [==============================] - 13s 71ms/step - loss: 0.6991 - accuracy: 0.0719\n",
      "Epoch 9/25\n",
      "185/185 [==============================] - 13s 71ms/step - loss: 0.6267 - accuracy: 0.0799\n",
      "Epoch 10/25\n",
      "185/185 [==============================] - 13s 71ms/step - loss: 0.5507 - accuracy: 0.0885\n",
      "Epoch 11/25\n",
      "185/185 [==============================] - 13s 71ms/step - loss: 0.4747 - accuracy: 0.0982\n",
      "Epoch 12/25\n",
      "185/185 [==============================] - 13s 71ms/step - loss: 0.3994 - accuracy: 0.1077\n",
      "Epoch 13/25\n",
      "185/185 [==============================] - 13s 71ms/step - loss: 0.3292 - accuracy: 0.1173\n",
      "Epoch 14/25\n",
      "185/185 [==============================] - 13s 71ms/step - loss: 0.2648 - accuracy: 0.1260\n",
      "Epoch 15/25\n",
      "185/185 [==============================] - 13s 71ms/step - loss: 0.2085 - accuracy: 0.1344\n",
      "Epoch 16/25\n",
      "185/185 [==============================] - 13s 71ms/step - loss: 0.1629 - accuracy: 0.1421\n",
      "Epoch 17/25\n",
      "185/185 [==============================] - 13s 71ms/step - loss: 0.1256 - accuracy: 0.1488\n",
      "Epoch 18/25\n",
      "185/185 [==============================] - 13s 71ms/step - loss: 0.0987 - accuracy: 0.1533\n",
      "Epoch 19/25\n",
      "185/185 [==============================] - 13s 71ms/step - loss: 0.0826 - accuracy: 0.1561\n",
      "Epoch 20/25\n",
      "185/185 [==============================] - 13s 71ms/step - loss: 0.0712 - accuracy: 0.1581\n",
      "Epoch 21/25\n",
      "185/185 [==============================] - 13s 71ms/step - loss: 0.0648 - accuracy: 0.1594\n",
      "Epoch 22/25\n",
      "185/185 [==============================] - 13s 71ms/step - loss: 0.0612 - accuracy: 0.1598\n",
      "Epoch 23/25\n",
      "185/185 [==============================] - 13s 71ms/step - loss: 0.0544 - accuracy: 0.1616\n",
      "Epoch 24/25\n",
      "185/185 [==============================] - 13s 70ms/step - loss: 0.0468 - accuracy: 0.1632\n",
      "Epoch 25/25\n",
      "185/185 [==============================] - 13s 71ms/step - loss: 0.0407 - accuracy: 0.1648\n"
     ]
    },
    {
     "data": {
      "text/plain": [
       "<keras.callbacks.History at 0x7f8db2ee9190>"
      ]
     },
     "execution_count": 43,
     "metadata": {},
     "output_type": "execute_result"
    }
   ],
   "source": [
    "EPOCHS = 25\n",
    "model.fit(dataset, epochs=EPOCHS, verbose=1)"
   ]
  },
  {
   "cell_type": "markdown",
   "id": "fa81ce75",
   "metadata": {},
   "source": [
    "### 정확도가 16% 정도 나오는 것을 확인 할 수 있다.\n",
    "\n",
    "### CV의 관한 정확도에 비하면 처참해 보이는 결과 인데 일단 테스트를 먼저 진행해보자\n",
    "\n",
    "---"
   ]
  },
  {
   "cell_type": "markdown",
   "id": "4458ed08",
   "metadata": {},
   "source": [
    "### 테스트\n",
    "\n",
    "예측(inference) 단계는 기본적으로 다음과 같은 과정을 거친다..\n",
    "\n",
    "- 새로운 입력 문장에 대해서는 훈련 때와 동일한 전처리를 거친다.\n",
    "\n",
    "\n",
    "- 입력 문장을 토크나이징하고, START_TOKEN과 END_TOKEN을 추가한다.\n",
    "\n",
    "\n",
    "- 패딩 마스킹과 룩 어헤드 마스킹을 계산한다.\n",
    "\n",
    "\n",
    "- 디코더는 입력 시퀀스로부터 다음 단어를 예측한다\n",
    "\n",
    "\n",
    "- 디코더는 예측된 다음 단어를 기존의 입력 시퀀스에 추가하여 새로운 입력으로 사용한다.\n",
    "\n",
    "\n",
    "- END_TOKEN이 예측되거나 문장의 최대 길이에 도달하면 디코더는 동작을 멈춘다."
   ]
  },
  {
   "cell_type": "markdown",
   "id": "d0a252ee",
   "metadata": {},
   "source": [
    "### 위 과정을 담은 decoder_inference() 함수 정의"
   ]
  },
  {
   "cell_type": "code",
   "execution_count": 44,
   "id": "dde2cefa",
   "metadata": {},
   "outputs": [],
   "source": [
    "def decoder_inference(sentence):\n",
    "  sentence = preprocess_sentence(sentence)\n",
    "\n",
    "  # 입력된 문장을 정수 인코딩 후, 시작 토큰과 종료 토큰을 앞뒤로 추가.\n",
    "  # ex) Where have you been? → [[8331   86   30    5 1059    7 8332]]\n",
    "  sentence = tf.expand_dims(\n",
    "      START_TOKEN + tokenizer.encode(sentence) + END_TOKEN, axis=0)\n",
    "\n",
    "  # 디코더의 현재까지의 예측한 출력 시퀀스가 지속적으로 저장되는 변수.\n",
    "  # 처음에는 예측한 내용이 없음으로 시작 토큰만 별도 저장. ex) 8331\n",
    "  output_sequence = tf.expand_dims(START_TOKEN, 0)\n",
    "\n",
    "  # 디코더의 인퍼런스 단계\n",
    "  for i in range(MAX_LENGTH):\n",
    "    # 디코더는 최대 MAX_LENGTH의 길이만큼 다음 단어 예측을 반복합니다.\n",
    "    predictions = model(inputs=[sentence, output_sequence], training=False)\n",
    "    predictions = predictions[:, -1:, :]\n",
    "\n",
    "    # 현재 예측한 단어의 정수\n",
    "    predicted_id = tf.cast(tf.argmax(predictions, axis=-1), tf.int32)\n",
    "\n",
    "    # 만약 현재 예측한 단어가 종료 토큰이라면 for문을 종료\n",
    "    if tf.equal(predicted_id, END_TOKEN[0]):\n",
    "      break\n",
    "\n",
    "    # 예측한 단어들은 지속적으로 output_sequence에 추가됩니다.\n",
    "    # 이 output_sequence는 다시 디코더의 입력이 됩니다.\n",
    "    output_sequence = tf.concat([output_sequence, predicted_id], axis=-1)\n",
    "\n",
    "  return tf.squeeze(output_sequence, axis=0)"
   ]
  },
  {
   "cell_type": "markdown",
   "id": "89f391cf",
   "metadata": {},
   "source": [
    "### 챗봇의 대답을 얻는 함수 정의"
   ]
  },
  {
   "cell_type": "code",
   "execution_count": 45,
   "id": "08d021aa",
   "metadata": {},
   "outputs": [],
   "source": [
    "def sentence_generation(sentence):\n",
    "  # 입력 문장에 대해서 디코더를 동작 시켜 예측된 정수 시퀀스를 리턴받습니다.\n",
    "  prediction = decoder_inference(sentence)\n",
    "\n",
    "  # 정수 시퀀스를 다시 텍스트 시퀀스로 변환합니다.\n",
    "  predicted_sentence = tokenizer.decode(\n",
    "      [i for i in prediction if i < tokenizer.vocab_size])\n",
    "\n",
    "  print('입력 : {}'.format(sentence))\n",
    "  print('출력 : {}'.format(predicted_sentence))\n",
    "\n",
    "  return predicted_sentence"
   ]
  },
  {
   "cell_type": "markdown",
   "id": "feec822f",
   "metadata": {},
   "source": [
    "### 대답 출력"
   ]
  },
  {
   "cell_type": "code",
   "execution_count": 46,
   "id": "804dc7e6",
   "metadata": {},
   "outputs": [
    {
     "name": "stdout",
     "output_type": "stream",
     "text": [
      "입력 : 배고프다\n",
      "출력 : 저도 밥 먹고 싶어요\n"
     ]
    },
    {
     "data": {
      "text/plain": [
       "'저도 밥 먹고 싶어요'"
      ]
     },
     "execution_count": 46,
     "metadata": {},
     "output_type": "execute_result"
    }
   ],
   "source": [
    "sentence_generation('배고프다')"
   ]
  },
  {
   "cell_type": "code",
   "execution_count": 47,
   "id": "32135bd7",
   "metadata": {},
   "outputs": [
    {
     "name": "stdout",
     "output_type": "stream",
     "text": [
      "입력 : 이 영화 재밌어?\n",
      "출력 : 최신 영화 추천해드립니다 .\n"
     ]
    },
    {
     "data": {
      "text/plain": [
       "'최신 영화 추천해드립니다 .'"
      ]
     },
     "execution_count": 47,
     "metadata": {},
     "output_type": "execute_result"
    }
   ],
   "source": [
    "sentence_generation('이 영화 재밌어?')"
   ]
  },
  {
   "cell_type": "code",
   "execution_count": 48,
   "id": "52cffbed",
   "metadata": {},
   "outputs": [
    {
     "name": "stdout",
     "output_type": "stream",
     "text": [
      "입력 : 넌 누구니\n",
      "출력 : 저는 위로봇입니다 .\n"
     ]
    },
    {
     "data": {
      "text/plain": [
       "'저는 위로봇입니다 .'"
      ]
     },
     "execution_count": 48,
     "metadata": {},
     "output_type": "execute_result"
    }
   ],
   "source": [
    "sentence_generation('넌 누구니')"
   ]
  },
  {
   "cell_type": "code",
   "execution_count": 49,
   "id": "4887aec6",
   "metadata": {},
   "outputs": [
    {
     "name": "stdout",
     "output_type": "stream",
     "text": [
      "입력 : 남자친구 있니?\n",
      "출력 : 안 사면 그만큼 모으시는거예요 .\n"
     ]
    },
    {
     "data": {
      "text/plain": [
       "'안 사면 그만큼 모으시는거예요 .'"
      ]
     },
     "execution_count": 49,
     "metadata": {},
     "output_type": "execute_result"
    }
   ],
   "source": [
    "sentence_generation('남자친구 있니?')"
   ]
  },
  {
   "cell_type": "markdown",
   "id": "d78c3300",
   "metadata": {},
   "source": [
    "#### 대답을 보면 대답하기 쉬운 질문은 자연스러운 대답을 하게 되지만 대답하기 난해한 질문을 하게 되면 좋지 못한 대답을 듣게 된다.\n",
    "\n",
    "#### 정확도가 너무 낮기 때문에 그럴 수도 있다는 판단으로 파라미터 조정 및 인코더와 디코더의 층 수를 높인 후 학습 시키고 다시 한 번 같은 질문으로 도전해보자\n",
    "\n",
    "---"
   ]
  },
  {
   "cell_type": "markdown",
   "id": "40883b5e",
   "metadata": {},
   "source": [
    "## 파라미터 조정 및 층 수 조정"
   ]
  },
  {
   "cell_type": "code",
   "execution_count": 50,
   "id": "03cc2aa1",
   "metadata": {},
   "outputs": [
    {
     "name": "stdout",
     "output_type": "stream",
     "text": [
      "Model: \"transformer\"\n",
      "__________________________________________________________________________________________________\n",
      "Layer (type)                    Output Shape         Param #     Connected to                     \n",
      "==================================================================================================\n",
      "inputs (InputLayer)             [(None, None)]       0                                            \n",
      "__________________________________________________________________________________________________\n",
      "dec_inputs (InputLayer)         [(None, None)]       0                                            \n",
      "__________________________________________________________________________________________________\n",
      "enc_padding_mask (Lambda)       (None, 1, 1, None)   0           inputs[0][0]                     \n",
      "__________________________________________________________________________________________________\n",
      "encoder (Functional)            (None, None, 256)    5255424     inputs[0][0]                     \n",
      "                                                                 enc_padding_mask[0][0]           \n",
      "__________________________________________________________________________________________________\n",
      "look_ahead_mask (Lambda)        (None, 1, None, None 0           dec_inputs[0][0]                 \n",
      "__________________________________________________________________________________________________\n",
      "dec_padding_mask (Lambda)       (None, 1, 1, None)   0           inputs[0][0]                     \n",
      "__________________________________________________________________________________________________\n",
      "decoder (Functional)            (None, None, 256)    6837504     dec_inputs[0][0]                 \n",
      "                                                                 encoder[0][0]                    \n",
      "                                                                 look_ahead_mask[0][0]            \n",
      "                                                                 dec_padding_mask[0][0]           \n",
      "__________________________________________________________________________________________________\n",
      "outputs (Dense)                 (None, None, 8175)   2100975     decoder[0][0]                    \n",
      "==================================================================================================\n",
      "Total params: 14,193,903\n",
      "Trainable params: 14,193,903\n",
      "Non-trainable params: 0\n",
      "__________________________________________________________________________________________________\n"
     ]
    }
   ],
   "source": [
    "tf.keras.backend.clear_session()\n",
    "\n",
    "# 하이퍼파라미터\n",
    "NUM_LAYERS = 6 # 인코더와 디코더의 층의 개수\n",
    "D_MODEL = 256 # 인코더와 디코더 내부의 입, 출력의 고정 차원\n",
    "NUM_HEADS = 8 # 멀티 헤드 어텐션에서의 헤드 수\n",
    "UNITS = 512 # 피드 포워드 신경망의 은닉층의 크기\n",
    "DROPOUT = 0.1 # 드롭아웃의 비율\n",
    "\n",
    "model = transformer(\n",
    "    vocab_size=VOCAB_SIZE,\n",
    "    num_layers=NUM_LAYERS,\n",
    "    units=UNITS,\n",
    "    d_model=D_MODEL,\n",
    "    num_heads=NUM_HEADS,\n",
    "    dropout=DROPOUT)\n",
    "\n",
    "model.summary()"
   ]
  },
  {
   "cell_type": "markdown",
   "id": "71434cc2",
   "metadata": {},
   "source": [
    "### 데이터 셋이 상대적으로 작은 편이기에 학습률에서 warmup_steps을 4000에서 2000으로 조정해 학습률을 빠르게 증가시켜 초기에 모델이 수렴할 수 있게 함"
   ]
  },
  {
   "cell_type": "code",
   "execution_count": 52,
   "id": "b26fe5db",
   "metadata": {},
   "outputs": [],
   "source": [
    "class CustomSchedule(tf.keras.optimizers.schedules.LearningRateSchedule):\n",
    "\n",
    "  def __init__(self, d_model, warmup_steps=2000):\n",
    "    super(CustomSchedule, self).__init__()\n",
    "\n",
    "    self.d_model = d_model\n",
    "    self.d_model = tf.cast(self.d_model, tf.float32)\n",
    "\n",
    "    self.warmup_steps = warmup_steps\n",
    "\n",
    "  def __call__(self, step):\n",
    "    arg1 = tf.math.rsqrt(step)\n",
    "    arg2 = step * (self.warmup_steps**-1.5)\n",
    "\n",
    "    return tf.math.rsqrt(self.d_model) * tf.math.minimum(arg1, arg2)"
   ]
  },
  {
   "cell_type": "markdown",
   "id": "6f9da71b",
   "metadata": {},
   "source": [
    "### 시각화"
   ]
  },
  {
   "cell_type": "code",
   "execution_count": 53,
   "id": "e4ef45e9",
   "metadata": {},
   "outputs": [
    {
     "data": {
      "text/plain": [
       "Text(0.5, 0, 'Train Step')"
      ]
     },
     "execution_count": 53,
     "metadata": {},
     "output_type": "execute_result"
    },
    {
     "data": {
      "image/png": "[encoded data removed]",
      "text/plain": [
       "<Figure size 432x288 with 1 Axes>"
      ]
     },
     "metadata": {
      "needs_background": "light"
     },
     "output_type": "display_data"
    }
   ],
   "source": [
    "sample_learning_rate = CustomSchedule(d_model=128)\n",
    "\n",
    "plt.plot(sample_learning_rate(tf.range(200000, dtype=tf.float32)))\n",
    "plt.ylabel(\"Learning Rate\")\n",
    "plt.xlabel(\"Train Step\")"
   ]
  },
  {
   "cell_type": "code",
   "execution_count": 54,
   "id": "3ee8cf58",
   "metadata": {},
   "outputs": [],
   "source": [
    "learning_rate = CustomSchedule(D_MODEL)\n",
    "\n",
    "optimizer = tf.keras.optimizers.Adam(\n",
    "    learning_rate, beta_1=0.9, beta_2=0.98, epsilon=1e-9)\n",
    "\n",
    "def accuracy(y_true, y_pred):\n",
    "  y_true = tf.reshape(y_true, shape=(-1, MAX_LENGTH - 1))\n",
    "  return tf.keras.metrics.sparse_categorical_accuracy(y_true, y_pred)\n",
    "\n",
    "model.compile(optimizer=optimizer, loss=loss_function, metrics=[accuracy])"
   ]
  },
  {
   "cell_type": "code",
   "execution_count": 55,
   "id": "e2f06f4f",
   "metadata": {},
   "outputs": [
    {
     "name": "stdout",
     "output_type": "stream",
     "text": [
      "Epoch 1/40\n",
      "185/185 [==============================] - 38s 116ms/step - loss: 1.3674 - accuracy: 0.0273\n",
      "Epoch 2/40\n",
      "185/185 [==============================] - 22s 117ms/step - loss: 1.0344 - accuracy: 0.0501\n",
      "Epoch 3/40\n",
      "185/185 [==============================] - 22s 118ms/step - loss: 0.9420 - accuracy: 0.0527\n",
      "Epoch 4/40\n",
      "185/185 [==============================] - 22s 119ms/step - loss: 0.9009 - accuracy: 0.0548\n",
      "Epoch 5/40\n",
      "185/185 [==============================] - 22s 119ms/step - loss: 0.8635 - accuracy: 0.0568\n",
      "Epoch 6/40\n",
      "185/185 [==============================] - 22s 119ms/step - loss: 0.8306 - accuracy: 0.0582\n",
      "Epoch 7/40\n",
      "185/185 [==============================] - 22s 119ms/step - loss: 0.7983 - accuracy: 0.0598\n",
      "Epoch 8/40\n",
      "185/185 [==============================] - 22s 119ms/step - loss: 0.7670 - accuracy: 0.0613\n",
      "Epoch 9/40\n",
      "185/185 [==============================] - 22s 119ms/step - loss: 0.7374 - accuracy: 0.0629\n",
      "Epoch 10/40\n",
      "185/185 [==============================] - 22s 119ms/step - loss: 0.7122 - accuracy: 0.0642\n",
      "Epoch 11/40\n",
      "185/185 [==============================] - 22s 118ms/step - loss: 0.6865 - accuracy: 0.0658\n",
      "Epoch 12/40\n",
      "185/185 [==============================] - 22s 119ms/step - loss: 0.6545 - accuracy: 0.0682\n",
      "Epoch 13/40\n",
      "185/185 [==============================] - 22s 119ms/step - loss: 0.6177 - accuracy: 0.0715\n",
      "Epoch 14/40\n",
      "185/185 [==============================] - 22s 118ms/step - loss: 0.5805 - accuracy: 0.0752\n",
      "Epoch 15/40\n",
      "185/185 [==============================] - 22s 119ms/step - loss: 0.5467 - accuracy: 0.0793\n",
      "Epoch 16/40\n",
      "185/185 [==============================] - 22s 118ms/step - loss: 0.5158 - accuracy: 0.0829\n",
      "Epoch 17/40\n",
      "185/185 [==============================] - 22s 118ms/step - loss: 0.4867 - accuracy: 0.0869\n",
      "Epoch 18/40\n",
      "185/185 [==============================] - 22s 118ms/step - loss: 0.4614 - accuracy: 0.0906\n",
      "Epoch 19/40\n",
      "185/185 [==============================] - 22s 118ms/step - loss: 0.4365 - accuracy: 0.0945\n",
      "Epoch 20/40\n",
      "185/185 [==============================] - 22s 118ms/step - loss: 0.4145 - accuracy: 0.0976\n",
      "Epoch 21/40\n",
      "185/185 [==============================] - 22s 118ms/step - loss: 0.3963 - accuracy: 0.1006\n",
      "Epoch 22/40\n",
      "185/185 [==============================] - 22s 118ms/step - loss: 0.3783 - accuracy: 0.1035\n",
      "Epoch 23/40\n",
      "185/185 [==============================] - 22s 118ms/step - loss: 0.3633 - accuracy: 0.1060\n",
      "Epoch 24/40\n",
      "185/185 [==============================] - 22s 118ms/step - loss: 0.3510 - accuracy: 0.1086\n",
      "Epoch 25/40\n",
      "185/185 [==============================] - 22s 118ms/step - loss: 0.3372 - accuracy: 0.1108\n",
      "Epoch 26/40\n",
      "185/185 [==============================] - 22s 119ms/step - loss: 0.3286 - accuracy: 0.1122\n",
      "Epoch 27/40\n",
      "185/185 [==============================] - 22s 120ms/step - loss: 0.3175 - accuracy: 0.1147\n",
      "Epoch 28/40\n",
      "185/185 [==============================] - 22s 118ms/step - loss: 0.3083 - accuracy: 0.1164\n",
      "Epoch 29/40\n",
      "185/185 [==============================] - 22s 118ms/step - loss: 0.3013 - accuracy: 0.1177\n",
      "Epoch 30/40\n",
      "185/185 [==============================] - 22s 118ms/step - loss: 0.2953 - accuracy: 0.1194\n",
      "Epoch 31/40\n",
      "185/185 [==============================] - 22s 118ms/step - loss: 0.2883 - accuracy: 0.1206\n",
      "Epoch 32/40\n",
      "185/185 [==============================] - 22s 118ms/step - loss: 0.2852 - accuracy: 0.1213\n",
      "Epoch 33/40\n",
      "185/185 [==============================] - 22s 118ms/step - loss: 0.2893 - accuracy: 0.1214\n",
      "Epoch 34/40\n",
      "185/185 [==============================] - 22s 118ms/step - loss: 0.2780 - accuracy: 0.1230\n",
      "Epoch 35/40\n",
      "185/185 [==============================] - 22s 118ms/step - loss: 0.2722 - accuracy: 0.1246\n",
      "Epoch 36/40\n",
      "185/185 [==============================] - 22s 118ms/step - loss: 0.2679 - accuracy: 0.1251\n",
      "Epoch 37/40\n",
      "185/185 [==============================] - 22s 118ms/step - loss: 0.2648 - accuracy: 0.1259\n",
      "Epoch 38/40\n",
      "185/185 [==============================] - 22s 118ms/step - loss: 0.2604 - accuracy: 0.1266\n",
      "Epoch 39/40\n",
      "185/185 [==============================] - 22s 119ms/step - loss: 0.2564 - accuracy: 0.1275\n",
      "Epoch 40/40\n",
      "185/185 [==============================] - 22s 118ms/step - loss: 0.2551 - accuracy: 0.1282\n"
     ]
    },
    {
     "data": {
      "text/plain": [
       "<keras.callbacks.History at 0x7f8cc8424700>"
      ]
     },
     "execution_count": 55,
     "metadata": {},
     "output_type": "execute_result"
    }
   ],
   "source": [
    "# 에폭을 40으로 변경\n",
    "\n",
    "EPOCHS = 40\n",
    "model.fit(dataset, epochs=EPOCHS, verbose=1)"
   ]
  },
  {
   "cell_type": "markdown",
   "id": "d287cda8",
   "metadata": {},
   "source": [
    "### 층의 개수를 논문에서 나와있는 6으로 주었더니 오히려 정확도가 12%로 감소하는 모습을 보여줬다.\n",
    "\n",
    "### 또한 loss도 0.2551로 높았기 때문에 좋은 결과를 내지 못했다.\n",
    "\n",
    "### 우리의 데이터 셋이 11,823개로 상대적으로 작기 때문에 층 수를 줄이고 복잡도를 늘린 후 조정을 한번 만 더 해본 후에 테스트를 해보기로 하자\n",
    "\n",
    "---"
   ]
  },
  {
   "cell_type": "markdown",
   "id": "b69c7163",
   "metadata": {},
   "source": [
    "## 파라미터 조정 및 층 수 조정(2)"
   ]
  },
  {
   "cell_type": "code",
   "execution_count": 56,
   "id": "eaf5a103",
   "metadata": {},
   "outputs": [
    {
     "name": "stdout",
     "output_type": "stream",
     "text": [
      "Model: \"transformer\"\n",
      "__________________________________________________________________________________________________\n",
      "Layer (type)                    Output Shape         Param #     Connected to                     \n",
      "==================================================================================================\n",
      "inputs (InputLayer)             [(None, None)]       0                                            \n",
      "__________________________________________________________________________________________________\n",
      "dec_inputs (InputLayer)         [(None, None)]       0                                            \n",
      "__________________________________________________________________________________________________\n",
      "enc_padding_mask (Lambda)       (None, 1, 1, None)   0           inputs[0][0]                     \n",
      "__________________________________________________________________________________________________\n",
      "encoder (Functional)            (None, None, 512)    7341568     inputs[0][0]                     \n",
      "                                                                 enc_padding_mask[0][0]           \n",
      "__________________________________________________________________________________________________\n",
      "look_ahead_mask (Lambda)        (None, 1, None, None 0           dec_inputs[0][0]                 \n",
      "__________________________________________________________________________________________________\n",
      "dec_padding_mask (Lambda)       (None, 1, 1, None)   0           inputs[0][0]                     \n",
      "__________________________________________________________________________________________________\n",
      "decoder (Functional)            (None, None, 512)    9444864     dec_inputs[0][0]                 \n",
      "                                                                 encoder[0][0]                    \n",
      "                                                                 look_ahead_mask[0][0]            \n",
      "                                                                 dec_padding_mask[0][0]           \n",
      "__________________________________________________________________________________________________\n",
      "outputs (Dense)                 (None, None, 8175)   4193775     decoder[0][0]                    \n",
      "==================================================================================================\n",
      "Total params: 20,980,207\n",
      "Trainable params: 20,980,207\n",
      "Non-trainable params: 0\n",
      "__________________________________________________________________________________________________\n"
     ]
    }
   ],
   "source": [
    "tf.keras.backend.clear_session()\n",
    "\n",
    "# 하이퍼파라미터\n",
    "NUM_LAYERS = 2 # 인코더와 디코더의 층의 개수\n",
    "D_MODEL = 512 # 인코더와 디코더 내부의 입, 출력의 고정 차원\n",
    "NUM_HEADS = 16 # 멀티 헤드 어텐션에서의 헤드 수\n",
    "UNITS = 512 # 피드 포워드 신경망의 은닉층의 크기\n",
    "DROPOUT = 0.3 # 드롭아웃의 비율\n",
    "\n",
    "model = transformer(\n",
    "    vocab_size=VOCAB_SIZE,\n",
    "    num_layers=NUM_LAYERS,\n",
    "    units=UNITS,\n",
    "    d_model=D_MODEL,\n",
    "    num_heads=NUM_HEADS,\n",
    "    dropout=DROPOUT)\n",
    "\n",
    "model.summary()"
   ]
  },
  {
   "cell_type": "code",
   "execution_count": 57,
   "id": "11fbf6a5",
   "metadata": {},
   "outputs": [],
   "source": [
    "class CustomSchedule(tf.keras.optimizers.schedules.LearningRateSchedule):\n",
    "\n",
    "  def __init__(self, d_model, warmup_steps=2000):\n",
    "    super(CustomSchedule, self).__init__()\n",
    "\n",
    "    self.d_model = d_model\n",
    "    self.d_model = tf.cast(self.d_model, tf.float32)\n",
    "\n",
    "    self.warmup_steps = warmup_steps\n",
    "\n",
    "  def __call__(self, step):\n",
    "    arg1 = tf.math.rsqrt(step)\n",
    "    arg2 = step * (self.warmup_steps**-1.5)\n",
    "\n",
    "    return tf.math.rsqrt(self.d_model) * tf.math.minimum(arg1, arg2)"
   ]
  },
  {
   "cell_type": "code",
   "execution_count": 58,
   "id": "78d8da93",
   "metadata": {},
   "outputs": [],
   "source": [
    "learning_rate = CustomSchedule(D_MODEL)\n",
    "\n",
    "optimizer = tf.keras.optimizers.Adam(\n",
    "    learning_rate, beta_1=0.9, beta_2=0.98, epsilon=1e-9)\n",
    "\n",
    "def accuracy(y_true, y_pred):\n",
    "  y_true = tf.reshape(y_true, shape=(-1, MAX_LENGTH - 1))\n",
    "  return tf.keras.metrics.sparse_categorical_accuracy(y_true, y_pred)\n",
    "\n",
    "model.compile(optimizer=optimizer, loss=loss_function, metrics=[accuracy])"
   ]
  },
  {
   "cell_type": "code",
   "execution_count": 59,
   "id": "c0b2d6fb",
   "metadata": {},
   "outputs": [
    {
     "name": "stdout",
     "output_type": "stream",
     "text": [
      "Epoch 1/40\n",
      "185/185 [==============================] - 24s 97ms/step - loss: 1.2806 - accuracy: 0.0368\n",
      "Epoch 2/40\n",
      "185/185 [==============================] - 18s 99ms/step - loss: 1.0029 - accuracy: 0.0507\n",
      "Epoch 3/40\n",
      "185/185 [==============================] - 19s 101ms/step - loss: 0.9222 - accuracy: 0.0548\n",
      "Epoch 4/40\n",
      "185/185 [==============================] - 19s 101ms/step - loss: 0.8478 - accuracy: 0.0592\n",
      "Epoch 5/40\n",
      "185/185 [==============================] - 19s 101ms/step - loss: 0.7589 - accuracy: 0.0656\n",
      "Epoch 6/40\n",
      "185/185 [==============================] - 19s 101ms/step - loss: 0.6606 - accuracy: 0.0748\n",
      "Epoch 7/40\n",
      "185/185 [==============================] - 19s 101ms/step - loss: 0.5623 - accuracy: 0.0849\n",
      "Epoch 8/40\n",
      "185/185 [==============================] - 19s 101ms/step - loss: 0.4753 - accuracy: 0.0953\n",
      "Epoch 9/40\n",
      "185/185 [==============================] - 19s 101ms/step - loss: 0.4028 - accuracy: 0.1043\n",
      "Epoch 10/40\n",
      "185/185 [==============================] - 19s 101ms/step - loss: 0.3458 - accuracy: 0.1116\n",
      "Epoch 11/40\n",
      "185/185 [==============================] - 19s 101ms/step - loss: 0.3004 - accuracy: 0.1176\n",
      "Epoch 12/40\n",
      "185/185 [==============================] - 19s 101ms/step - loss: 0.2557 - accuracy: 0.1247\n",
      "Epoch 13/40\n",
      "185/185 [==============================] - 19s 101ms/step - loss: 0.2108 - accuracy: 0.1314\n",
      "Epoch 14/40\n",
      "185/185 [==============================] - 19s 101ms/step - loss: 0.1778 - accuracy: 0.1365\n",
      "Epoch 15/40\n",
      "185/185 [==============================] - 19s 101ms/step - loss: 0.1492 - accuracy: 0.1414\n",
      "Epoch 16/40\n",
      "185/185 [==============================] - 19s 101ms/step - loss: 0.1259 - accuracy: 0.1457\n",
      "Epoch 17/40\n",
      "185/185 [==============================] - 19s 101ms/step - loss: 0.1073 - accuracy: 0.1491\n",
      "Epoch 18/40\n",
      "185/185 [==============================] - 19s 101ms/step - loss: 0.0917 - accuracy: 0.1523\n",
      "Epoch 19/40\n",
      "185/185 [==============================] - 19s 101ms/step - loss: 0.0791 - accuracy: 0.1552\n",
      "Epoch 20/40\n",
      "185/185 [==============================] - 19s 101ms/step - loss: 0.0706 - accuracy: 0.1571\n",
      "Epoch 21/40\n",
      "185/185 [==============================] - 19s 101ms/step - loss: 0.0623 - accuracy: 0.1589\n",
      "Epoch 22/40\n",
      "185/185 [==============================] - 19s 101ms/step - loss: 0.0558 - accuracy: 0.1605\n",
      "Epoch 23/40\n",
      "185/185 [==============================] - 19s 101ms/step - loss: 0.0498 - accuracy: 0.1622\n",
      "Epoch 24/40\n",
      "185/185 [==============================] - 19s 101ms/step - loss: 0.0456 - accuracy: 0.1629\n",
      "Epoch 25/40\n",
      "185/185 [==============================] - 19s 101ms/step - loss: 0.0417 - accuracy: 0.1641\n",
      "Epoch 26/40\n",
      "185/185 [==============================] - 19s 101ms/step - loss: 0.0384 - accuracy: 0.1650\n",
      "Epoch 27/40\n",
      "185/185 [==============================] - 19s 101ms/step - loss: 0.0355 - accuracy: 0.1658\n",
      "Epoch 28/40\n",
      "185/185 [==============================] - 19s 101ms/step - loss: 0.0331 - accuracy: 0.1664\n",
      "Epoch 29/40\n",
      "185/185 [==============================] - 19s 101ms/step - loss: 0.0308 - accuracy: 0.1669\n",
      "Epoch 30/40\n",
      "185/185 [==============================] - 19s 101ms/step - loss: 0.0288 - accuracy: 0.1676\n",
      "Epoch 31/40\n",
      "185/185 [==============================] - 19s 101ms/step - loss: 0.0274 - accuracy: 0.1677\n",
      "Epoch 32/40\n",
      "185/185 [==============================] - 19s 101ms/step - loss: 0.0255 - accuracy: 0.1683\n",
      "Epoch 33/40\n",
      "185/185 [==============================] - 19s 101ms/step - loss: 0.0239 - accuracy: 0.1688\n",
      "Epoch 34/40\n",
      "185/185 [==============================] - 19s 101ms/step - loss: 0.0223 - accuracy: 0.1691\n",
      "Epoch 35/40\n",
      "185/185 [==============================] - 19s 101ms/step - loss: 0.0221 - accuracy: 0.1693\n",
      "Epoch 36/40\n",
      "185/185 [==============================] - 19s 101ms/step - loss: 0.0208 - accuracy: 0.1696\n",
      "Epoch 37/40\n",
      "185/185 [==============================] - 19s 101ms/step - loss: 0.0200 - accuracy: 0.1698\n",
      "Epoch 38/40\n",
      "185/185 [==============================] - 19s 101ms/step - loss: 0.0188 - accuracy: 0.1702\n",
      "Epoch 39/40\n",
      "185/185 [==============================] - 19s 101ms/step - loss: 0.0182 - accuracy: 0.1704\n",
      "Epoch 40/40\n",
      "185/185 [==============================] - 19s 101ms/step - loss: 0.0176 - accuracy: 0.1705\n"
     ]
    },
    {
     "data": {
      "text/plain": [
       "<keras.callbacks.History at 0x7f8cc3ffd820>"
      ]
     },
     "execution_count": 59,
     "metadata": {},
     "output_type": "execute_result"
    }
   ],
   "source": [
    "EPOCHS = 40\n",
    "model.fit(dataset, epochs=EPOCHS, verbose=1)"
   ]
  },
  {
   "cell_type": "markdown",
   "id": "2394700a",
   "metadata": {},
   "source": [
    "### 층의 개수를 2로 해주고 복잡도를 늘려줬더니 정확도는 17%로 처음보다 약 1%증가했다. 이것으로 층 수와 복잡도는 그렇게 큰 차이는 보여주지 못한다는 것을 보여줬고 특히 처음은 에폭을 25로 했기 때문에 똑같은 40으로 하게되면 차이가 날 것 같지는 않다.\n",
    "\n",
    "### 그나마 loss는 처음에는 0.04였지만 조정 후엔 0.01로 줄어들었기 때문에 유의미한 결과라고 생각한다.\n",
    "\n",
    "### 테스트를 하는 것이 큰 의미가 있어 보이지 않지만 한번 테스트 해 보도록 하자\n",
    "\n",
    "---"
   ]
  },
  {
   "cell_type": "markdown",
   "id": "b9759ccb",
   "metadata": {},
   "source": [
    "### 테스트"
   ]
  },
  {
   "cell_type": "code",
   "execution_count": 60,
   "id": "787b18d5",
   "metadata": {},
   "outputs": [],
   "source": [
    "def decoder_inference(sentence):\n",
    "  sentence = preprocess_sentence(sentence)\n",
    "\n",
    "  # 입력된 문장을 정수 인코딩 후, 시작 토큰과 종료 토큰을 앞뒤로 추가.\n",
    "  # ex) Where have you been? → [[8331   86   30    5 1059    7 8332]]\n",
    "  sentence = tf.expand_dims(\n",
    "      START_TOKEN + tokenizer.encode(sentence) + END_TOKEN, axis=0)\n",
    "\n",
    "  # 디코더의 현재까지의 예측한 출력 시퀀스가 지속적으로 저장되는 변수.\n",
    "  # 처음에는 예측한 내용이 없음으로 시작 토큰만 별도 저장. ex) 8331\n",
    "  output_sequence = tf.expand_dims(START_TOKEN, 0)\n",
    "\n",
    "  # 디코더의 인퍼런스 단계\n",
    "  for i in range(MAX_LENGTH):\n",
    "    # 디코더는 최대 MAX_LENGTH의 길이만큼 다음 단어 예측을 반복합니다.\n",
    "    predictions = model(inputs=[sentence, output_sequence], training=False)\n",
    "    predictions = predictions[:, -1:, :]\n",
    "\n",
    "    # 현재 예측한 단어의 정수\n",
    "    predicted_id = tf.cast(tf.argmax(predictions, axis=-1), tf.int32)\n",
    "\n",
    "    # 만약 현재 예측한 단어가 종료 토큰이라면 for문을 종료\n",
    "    if tf.equal(predicted_id, END_TOKEN[0]):\n",
    "      break\n",
    "\n",
    "    # 예측한 단어들은 지속적으로 output_sequence에 추가됩니다.\n",
    "    # 이 output_sequence는 다시 디코더의 입력이 됩니다.\n",
    "    output_sequence = tf.concat([output_sequence, predicted_id], axis=-1)\n",
    "\n",
    "  return tf.squeeze(output_sequence, axis=0)"
   ]
  },
  {
   "cell_type": "code",
   "execution_count": 61,
   "id": "49f81a3a",
   "metadata": {},
   "outputs": [],
   "source": [
    "def sentence_generation(sentence):\n",
    "  # 입력 문장에 대해서 디코더를 동작 시켜 예측된 정수 시퀀스를 리턴받습니다.\n",
    "  prediction = decoder_inference(sentence)\n",
    "\n",
    "  # 정수 시퀀스를 다시 텍스트 시퀀스로 변환합니다.\n",
    "  predicted_sentence = tokenizer.decode(\n",
    "      [i for i in prediction if i < tokenizer.vocab_size])\n",
    "\n",
    "  print('입력 : {}'.format(sentence))\n",
    "  print('출력 : {}'.format(predicted_sentence))\n",
    "\n",
    "  return predicted_sentence"
   ]
  },
  {
   "cell_type": "markdown",
   "id": "ee0841e6",
   "metadata": {},
   "source": [
    "### 대답 출력(같은 질문)"
   ]
  },
  {
   "cell_type": "code",
   "execution_count": 62,
   "id": "f56ed527",
   "metadata": {},
   "outputs": [
    {
     "name": "stdout",
     "output_type": "stream",
     "text": [
      "입력 : 배고프다\n",
      "출력 : 저도 밥 먹고 싶어요\n"
     ]
    },
    {
     "data": {
      "text/plain": [
       "'저도 밥 먹고 싶어요'"
      ]
     },
     "execution_count": 62,
     "metadata": {},
     "output_type": "execute_result"
    }
   ],
   "source": [
    "sentence_generation('배고프다')"
   ]
  },
  {
   "cell_type": "code",
   "execution_count": 63,
   "id": "cae891f6",
   "metadata": {},
   "outputs": [
    {
     "name": "stdout",
     "output_type": "stream",
     "text": [
      "입력 : 이 영화 재밌어?\n",
      "출력 : 아름다운 곳이죠 .\n"
     ]
    },
    {
     "data": {
      "text/plain": [
       "'아름다운 곳이죠 .'"
      ]
     },
     "execution_count": 63,
     "metadata": {},
     "output_type": "execute_result"
    }
   ],
   "source": [
    "sentence_generation('이 영화 재밌어?')"
   ]
  },
  {
   "cell_type": "code",
   "execution_count": 64,
   "id": "b500504d",
   "metadata": {},
   "outputs": [
    {
     "name": "stdout",
     "output_type": "stream",
     "text": [
      "입력 : 넌 누구니\n",
      "출력 : 저는 위로봇입니다 .\n"
     ]
    },
    {
     "data": {
      "text/plain": [
       "'저는 위로봇입니다 .'"
      ]
     },
     "execution_count": 64,
     "metadata": {},
     "output_type": "execute_result"
    }
   ],
   "source": [
    "sentence_generation('넌 누구니')"
   ]
  },
  {
   "cell_type": "code",
   "execution_count": 65,
   "id": "ebdba95a",
   "metadata": {},
   "outputs": [
    {
     "name": "stdout",
     "output_type": "stream",
     "text": [
      "입력 : 남자친구 있니\n",
      "출력 : 잘 지내고 있어요 .\n"
     ]
    },
    {
     "data": {
      "text/plain": [
       "'잘 지내고 있어요 .'"
      ]
     },
     "execution_count": 65,
     "metadata": {},
     "output_type": "execute_result"
    }
   ],
   "source": [
    "sentence_generation('남자친구 있니')"
   ]
  },
  {
   "cell_type": "code",
   "execution_count": 66,
   "id": "a5747835",
   "metadata": {},
   "outputs": [
    {
     "name": "stdout",
     "output_type": "stream",
     "text": [
      "입력 : 재미없어\n",
      "출력 : 기우제를 지내봅시다 !\n"
     ]
    },
    {
     "data": {
      "text/plain": [
       "'기우제를 지내봅시다 !'"
      ]
     },
     "execution_count": 66,
     "metadata": {},
     "output_type": "execute_result"
    }
   ],
   "source": [
    "sentence_generation('재미없어')"
   ]
  },
  {
   "cell_type": "code",
   "execution_count": 67,
   "id": "71489e28",
   "metadata": {},
   "outputs": [
    {
     "name": "stdout",
     "output_type": "stream",
     "text": [
      "입력 : 5 + 3 는?\n",
      "출력 : 누구든 사람에 따라 다르겠지요 .\n"
     ]
    },
    {
     "data": {
      "text/plain": [
       "'누구든 사람에 따라 다르겠지요 .'"
      ]
     },
     "execution_count": 67,
     "metadata": {},
     "output_type": "execute_result"
    }
   ],
   "source": [
    "sentence_generation('5 + 3 는?')"
   ]
  },
  {
   "cell_type": "markdown",
   "id": "0357263d",
   "metadata": {},
   "source": [
    "# 7. 회고"
   ]
  },
  {
   "cell_type": "markdown",
   "id": "90b2d6e0",
   "metadata": {},
   "source": [
    "### 일단 NLP는 확실히 뭔가 어렵다는 것을 다시 한번 깨닫게 되었다.\n",
    "\n",
    "### CV와 달리 정확도가 많이 떨어지는 거 같아서 그렇게 큰 성취감이 느껴지진 않았고 파라미터와 조정을 했지만 오히려 떨어져서 신기했다.\n",
    "\n",
    "### 마지막 테스트에서 뭔가 좀 달라질 거라 생각은 안했지만 오히려 대답이 더 이상해져서 정확도가 유의미하게 좋아지지 않는 이상은 비슷하거나 안좋아질 수 있다는 것을 알게 되었다.\n",
    "\n",
    "\n",
    "### 기회가 된다면 더 많은 조정과 학습을 시켜 정확도 50% 이상으로 만들어보고 싶다."
   ]
  }
 ],
 "metadata": {
  "kernelspec": {
   "display_name": "Python 3 (ipykernel)",
   "language": "python",
   "name": "python3"
  },
  "language_info": {
   "codemirror_mode": {
    "name": "ipython",
    "version": 3
   },
   "file_extension": ".py",
   "mimetype": "text/x-python",
   "name": "python",
   "nbconvert_exporter": "python",
   "pygments_lexer": "ipython3",
   "version": "3.9.7"
  }
 },
 "nbformat": 4,
 "nbformat_minor": 5
}
