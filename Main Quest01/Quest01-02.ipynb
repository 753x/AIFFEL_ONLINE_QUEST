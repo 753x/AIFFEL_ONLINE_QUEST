{
  "nbformat": 4,
  "nbformat_minor": 0,
  "metadata": {
    "colab": {
      "provenance": [],
      "authorship_tag": "ABX9TyMJKPldtnGpDE0rwiklEi/5",
      "include_colab_link": true
    },
    "kernelspec": {
      "name": "python3",
      "display_name": "Python 3"
    },
    "language_info": {
      "name": "python"
    }
  },
  "cells": [
    {
      "cell_type": "markdown",
      "metadata": {
        "id": "view-in-github",
        "colab_type": "text"
      },
      "source": [
        "<a href=\"https://colab.research.google.com/github/753x/AIFFEL_ONLINE_QUEST/blob/master/Main%20Quest01/Quest01-02.ipynb\" target=\"_parent\"><img src=\"https://colab.research.google.com/assets/colab-badge.svg\" alt=\"Open In Colab\"/></a>"
      ]
    },
    {
      "cell_type": "code",
      "execution_count": 1,
      "metadata": {
        "colab": {
          "base_uri": "https://localhost:8080/"
        },
        "id": "ChMTDp0Uglig",
        "outputId": "6af81b69-abc0-418d-add3-4889746e8053"
      },
      "outputs": [
        {
          "output_type": "stream",
          "name": "stdout",
          "text": [
            "{'김건': '2326201', '김경민': '2326202', '김소연': '2326203', '김영신': '2326204', '박근수': '2326205', '박영수': '2326206', '박영준': '2326207', '서원영': '2326208', '신지만': '2326209', '심지안': '2326210', '이규상': '2326211', '이윤상': '2326212', '이진영': '2326213', '임현석': '2326214', '전요한': '2326215', '전재영': '2326216', '조대희': '2326217'}\n",
            "\n",
            "김경민님이 명단에서 삭제되었습니다.\n",
            "갱신된 명단 :  {'김건': 0, '김소연': 0, '김영신': 0, '박근수': 0, '박영수': 0, '박영준': 0, '서원영': 0, '신지만': 0, '심지안': 0, '이규상': 0, '이윤상': 0, '이진영': 0, '임현석': 0, '전요한': 0, '전재영': 0, '조대희': 0}\n",
            "\n",
            "김영신님이 명단에서 삭제되었습니다.\n",
            "갱신된 명단 :  {'김건': 0, '김소연': 0, '박근수': 0, '박영수': 0, '박영준': 0, '서원영': 0, '신지만': 0, '심지안': 0, '이규상': 0, '이윤상': 0, '이진영': 0, '임현석': 0, '전요한': 0, '전재영': 0, '조대희': 0}\n",
            "\n"
          ]
        }
      ],
      "source": [
        "import random as r     #r로 random 모듈을 가져옴\n",
        "import csv             #csv 모듈을 가져옴\n",
        "\n",
        "core_list = {'김건' : 0, '김경민' : 0, '김소연' : 0, '김영신' : 0, '박근수' : 0,\n",
        "             '박영수' : 0, '박영준' : 0, '서원영' : 0, '신지만' : 0, '심지안' : 0,\n",
        "              '이규상' : 0, '이윤상' : 0, '이진영' : 0, '임현석' : 0, '전요한' : 0,\n",
        "               '전재영' : 0, '조대희' : 0 }\n",
        "class Aiffel:\n",
        "    id_num = 0    # 클래스 변수 id_num을 정의하고 초기값을 0으로 설정\n",
        "\n",
        "    def __init__(self, name, year, batch, major, core_list):\n",
        "        self.name = name\n",
        "        self.year = year\n",
        "        self.batch = batch\n",
        "        self.major = major\n",
        "        self.core_list = core_list\n",
        "        self.student_id = self.generate_student_id()\n",
        "        Aiffel.id_num += 1\n",
        "        self.total_score = 0\n",
        "        self.total_penalty = 0\n",
        "\n",
        "    def generate_student_id(self):\n",
        "        year = str(self.year)[-2:]   #year 변수에 연도의 마지막 두 자리를 저장\n",
        "        batch = str(self.batch).zfill(2)  # batch변수에 batch 값을 문자열로 변환하고 왼쪽에 0을 채워 2 자리로 만듬\n",
        "        if self.major == '리서치':\n",
        "            major = '1'\n",
        "        elif self.major == '코어':\n",
        "            major = '2'\n",
        "        else:\n",
        "            major = '0'\n",
        "\n",
        "        index_str = self.generate_index_number()\n",
        "\n",
        "        student_id = year + batch + major + index_str\n",
        "        return student_id\n",
        "\n",
        "    # 인덱스 번호를 생성하는데 사용되는 메소드\n",
        "    def generate_index_number(self):\n",
        "        sort_core_list = sorted(self.core_list.keys())\n",
        "        index = sort_core_list.index(self.name) + 1\n",
        "        index_str = str(index).zfill(2)\n",
        "        return index_str\n",
        "\n",
        "    @classmethod\n",
        "    def get_id_num(cls):\n",
        "        return cls.id_num\n",
        "\n",
        "    def score(self, point):\n",
        "        if point < 1 or point > 3:\n",
        "            print('점수는 +1점 부터 +3점 까지만 가능합니다.')\n",
        "        else:\n",
        "            self.core_list[self.name] += point\n",
        "            self.total_score += point\n",
        "            print(f'{self.name} 학생의 점수가 +{point}점 올랐습니다.')\n",
        "\n",
        "    def penalty(self, point):\n",
        "        self.core_list[self.name] -= point\n",
        "        self.total_penalty += point\n",
        "        print(f'{self.name} 학생의 점수가 -{point}점 감소했습니다.')\n",
        "\n",
        "    def display_info(self):\n",
        "        with open('new_core_list.csv', mode = 'w', encoding = 'UTF-8') as file:\n",
        "            writer = csv.writer(file)\n",
        "            writer.writerow([f'이름: {self.name}'])\n",
        "            writer.writerow([f'학번: {self.student_id}'])\n",
        "            writer.writerow([f'과정 종류: {self.major}'])\n",
        "            writer.writerow([f'퀘스트 점수 총점: {self.core_list[self.name]}'])\n",
        "            writer.writerow([f'퀘스트 입력 총점: {self.total_score}'])\n",
        "            writer.writerow([f'퀘스트 penalty 총합: {self.total_penalty}'])\n",
        "\n",
        "    @classmethod\n",
        "    def delete_student(cls, name, core_list):\n",
        "        if name in core_list:\n",
        "            del core_list[name]\n",
        "            print(f'{name}님이 명단에서 삭제되었습니다.')\n",
        "            print('갱신된 명단 : ', core_list)\n",
        "        else:\n",
        "            print(f'{name}님은 명단에 없습니다.')\n",
        "\n",
        "\n",
        "\n",
        "student1 = {}\n",
        "for name in core_list:\n",
        "    student = Aiffel(name, 2023, 26, '코어', core_list)\n",
        "    student_id = student.generate_student_id()\n",
        "    student1[name] = student_id\n",
        "print(student1)\n",
        "print()\n",
        "\n",
        "student = Aiffel('김건', 2023, 26, '코어', core_list)\n",
        "student.delete_student('김경민', core_list)\n",
        "print()\n",
        "student.delete_student('김영신', core_list)\n",
        "print()"
      ]
    }
  ]
}