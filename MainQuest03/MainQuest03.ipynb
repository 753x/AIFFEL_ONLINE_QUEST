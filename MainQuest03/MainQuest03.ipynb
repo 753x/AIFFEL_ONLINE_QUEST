{
 "cells": [
  {
   "cell_type": "markdown",
   "id": "7c1226e6",
   "metadata": {},
   "source": [
    "# **가위바위보 분류기 만들기**"
   ]
  },
  {
   "cell_type": "markdown",
   "id": "d731cd69",
   "metadata": {},
   "source": [
    "## 0. 설계\n",
    "\n",
    "**1. MNIST 손글씨 분류기를 본 따 가위바위보 분류기를 만들어 보려고 한다.**\n",
    "\n",
    " *  데이터가 없기 때문에 나의 손을 이용해서 데이터를 만들고 팀원들의 데이터도 가져와  데이터셋을 구성한다.\n",
    " *  총 3개의 데이터셋이 필요함(가위,바위,보)\n",
    " *  테스트용 데이터도 가져온 다음 정확도를 측정\n",
    "\n",
    "**2. 데이터 전처리**\n",
    "\n",
    " *  데이터를 보고 이상치에 대한 처리를 진행한다.\n",
    " *  불필요한 데이터를 삭제하고 필요 데이터가 있다면 추가해준다.\n",
    "\n",
    "**3. 모델링과 하이퍼 파라미터 튜닝**\n",
    "\n",
    " * Conv와 Pooling,Dense 값을 줘서 모델링 한 후 파라미터 값을 조정함\n",
    " * 정확도를 측정하여 추가 파라미터 값 조정\n",
    "\n"
   ]
  },
  {
   "cell_type": "markdown",
   "id": "4dd119db",
   "metadata": {},
   "source": [
    "## 1.데이터를 불러 온후, resize"
   ]
  },
  {
   "cell_type": "code",
   "execution_count": 2,
   "id": "f077c203",
   "metadata": {},
   "outputs": [
    {
     "name": "stdout",
     "output_type": "stream",
     "text": [
      "PIL 라이브러리 import 완료!\n"
     ]
    }
   ],
   "source": [
    "#PIL 라이브러리 불러오기\n",
    "from PIL import Image\n",
    "import os, glob\n",
    "\n",
    "print(\"PIL 라이브러리 import 완료!\")"
   ]
  },
  {
   "cell_type": "markdown",
   "id": "5b0a5c2f",
   "metadata": {},
   "source": [
    "**처음 이미지가 244x244이기 때문에 28x28로 resize를 시켜준다**"
   ]
  },
  {
   "cell_type": "code",
   "execution_count": 3,
   "id": "aaf8cc70",
   "metadata": {},
   "outputs": [
    {
     "name": "stdout",
     "output_type": "stream",
     "text": [
      "100  images to be resized.\n",
      "100  images resized.\n",
      "가위 이미지 resize 완료!\n"
     ]
    }
   ],
   "source": [
    "#가위 이미지 사이즈 변경(28x28)\n",
    "def resize_images(img_path):\n",
    "    images=glob.glob(img_path + \"/*.jpg\")  \n",
    "    \n",
    "    print(len(images), \" images to be resized.\")\n",
    "\n",
    "  # 이미지를 불러와 파일마다 모두 28x28 사이즈로 바꾸어 저장\n",
    "    target_size=(28,28)\n",
    "    for img in images:\n",
    "        old_img=Image.open(img)\n",
    "        new_img=old_img.resize(target_size,Image.ANTIALIAS)\n",
    "        new_img.save(img, \"JPEG\")\n",
    "    \n",
    "    print(len(images), \" images resized.\")\n",
    "\n",
    "image_dir_path = os.getenv(\"HOME\") + \"/aiffel/rock_scissor_paper/scissor\"\n",
    "resize_images(image_dir_path)\n",
    "\n",
    "print(\"가위 이미지 resize 완료!\")"
   ]
  },
  {
   "cell_type": "code",
   "execution_count": 4,
   "id": "9232689d",
   "metadata": {},
   "outputs": [
    {
     "name": "stdout",
     "output_type": "stream",
     "text": [
      "100  images to be resized.\n",
      "100  images resized.\n"
     ]
    }
   ],
   "source": [
    "#바위 이미지 사이즈 변경(28x28)\n",
    "def resize_images(img_path):\n",
    "    images=glob.glob(img_path + \"/*.jpg\")  \n",
    "    \n",
    "    print(len(images), \" images to be resized.\")\n",
    "\n",
    "  # 이미지를 불러와 파일마다 모두 28x28 사이즈로 바꾸어 저장\n",
    "    target_size=(28,28)\n",
    "    for img in images:\n",
    "        old_img=Image.open(img)\n",
    "        new_img=old_img.resize(target_size,Image.ANTIALIAS)\n",
    "        new_img.save(img, \"JPEG\")\n",
    "    \n",
    "    print(len(images), \" images resized.\")\n",
    "\n",
    "image_dir_path = os.getenv(\"HOME\") + \"/aiffel/rock_scissor_paper/rock\"\n",
    "resize_images(image_dir_path)"
   ]
  },
  {
   "cell_type": "code",
   "execution_count": 5,
   "id": "d4510fd9",
   "metadata": {},
   "outputs": [
    {
     "name": "stdout",
     "output_type": "stream",
     "text": [
      "100  images to be resized.\n",
      "100  images resized.\n",
      "보 이미지 resize 완료!\n"
     ]
    }
   ],
   "source": [
    "#보 이미지 사이즈 변경(28x28)\n",
    "def resize_images(img_path):\n",
    "    images=glob.glob(img_path + \"/*.jpg\")  \n",
    "    \n",
    "    print(len(images), \" images to be resized.\")\n",
    "\n",
    "  # 이미지를 불러와 파일마다 모두 28x28 사이즈로 바꾸어 저장\n",
    "    target_size=(28,28)\n",
    "    for img in images:\n",
    "        old_img=Image.open(img)\n",
    "        new_img=old_img.resize(target_size,Image.ANTIALIAS)\n",
    "        new_img.save(img, \"JPEG\")\n",
    "    \n",
    "    print(len(images), \" images resized.\")\n",
    "\n",
    "image_dir_path = os.getenv(\"HOME\") + \"/aiffel/rock_scissor_paper/paper\"\n",
    "resize_images(image_dir_path)\n",
    "\n",
    "print(\"보 이미지 resize 완료!\")"
   ]
  },
  {
   "cell_type": "markdown",
   "id": "27a6043b",
   "metadata": {},
   "source": [
    "**데이터를 읽을 수 있는 load_data()함수로 데이터 불러오기**\n",
    "\n",
    "number_of_data : 데이터(이미지) 개수 총합\n",
    "\n",
    "color : RGB값(컬러기 때문에 3, 흑백이면 1)\n",
    "\n",
    "x_train_norm = x_train/255.0을 통해 정규화를 시켜줌 : 0~1 값"
   ]
  },
  {
   "cell_type": "code",
   "execution_count": 6,
   "id": "0c9fb13b",
   "metadata": {},
   "outputs": [
    {
     "name": "stdout",
     "output_type": "stream",
     "text": [
      "학습데이터(x_train)의 이미지 개수는 300 입니다.\n",
      "x_train shape: (300, 28, 28, 3)\n",
      "y_train shape: (300,)\n"
     ]
    }
   ],
   "source": [
    "#가위, 바위, 보 데이터를 읽을 수 있는 load_data() 함수로 데이터 불러오기\n",
    "import numpy as np\n",
    "\n",
    "def load_data(img_path, number_of_data=300):  # 가위바위보 이미지 개수 총합에 주의하세요.\n",
    "    #라벨링 -> 가위 : 0, 바위 : 1, 보 : 2\n",
    "    img_size=28\n",
    "    color=3\n",
    "    \n",
    "    #이미지 데이터와 라벨(가위 : 0, 바위 : 1, 보 : 2) 데이터를 담을 행렬(matrix) 영역을 생성합니다.\n",
    "    imgs=np.zeros(number_of_data*img_size*img_size*color,dtype=np.int32).reshape(number_of_data,img_size,img_size,color)\n",
    "    labels=np.zeros(number_of_data,dtype=np.int32)\n",
    "\n",
    "    idx=0\n",
    "    for file in glob.iglob(img_path+'/scissor/*.jpg'):\n",
    "        img = np.array(Image.open(file),dtype=np.int32)\n",
    "        imgs[idx,:,:,:]=img    # 데이터 영역에 이미지 행렬을 복사\n",
    "        labels[idx]=0   # 가위 : 0\n",
    "        idx=idx+1\n",
    "\n",
    "    for file in glob.iglob(img_path+'/rock/*.jpg'):\n",
    "        img = np.array(Image.open(file),dtype=np.int32)\n",
    "        imgs[idx,:,:,:]=img    # 데이터 영역에 이미지 행렬을 복사\n",
    "        labels[idx]=1   # 바위 : 1\n",
    "        idx=idx+1  \n",
    "    \n",
    "    for file in glob.iglob(img_path+'/paper/*.jpg'):\n",
    "        img = np.array(Image.open(file),dtype=np.int32)\n",
    "        imgs[idx,:,:,:]=img    # 데이터 영역에 이미지 행렬을 복사\n",
    "        labels[idx]=2   # 보 : 2\n",
    "        idx=idx+1\n",
    "        \n",
    "    print(\"학습데이터(x_train)의 이미지 개수는\", idx,\"입니다.\")\n",
    "    return imgs, labels\n",
    "\n",
    "image_dir_path = os.getenv(\"HOME\") + \"/aiffel/rock_scissor_paper\"\n",
    "(x_train, y_train)=load_data(image_dir_path)\n",
    "x_train_norm = x_train/255.0   # 입력은 0~1 사이의 값으로 정규화\n",
    "\n",
    "print(\"x_train shape: {}\".format(x_train.shape))\n",
    "print(\"y_train shape: {}\".format(y_train.shape))"
   ]
  },
  {
   "cell_type": "markdown",
   "id": "3250e868",
   "metadata": {},
   "source": [
    "### **인덱스가 0이기 때문에 가위에 대한 이미지가 도출**\n",
    "\n",
    "**index[0] : 가위, index[1]: 바위, index[2] : 보**"
   ]
  },
  {
   "cell_type": "code",
   "execution_count": 7,
   "id": "afcffba9",
   "metadata": {},
   "outputs": [
    {
     "name": "stdout",
     "output_type": "stream",
     "text": [
      "라벨:  0\n"
     ]
    },
    {
     "data": {
      "image/png": "[encoded data removed]",
      "text/plain": [
       "<Figure size 432x288 with 1 Axes>"
      ]
     },
     "metadata": {
      "needs_background": "light"
     },
     "output_type": "display_data"
    }
   ],
   "source": [
    "#이미지 불러오기\n",
    "import matplotlib.pyplot as plt\n",
    "\n",
    "plt.imshow(x_train[0])\n",
    "print('라벨: ', y_train[0])"
   ]
  },
  {
   "cell_type": "markdown",
   "id": "126adca3",
   "metadata": {},
   "source": [
    "## 2.네트워크 설계"
   ]
  },
  {
   "cell_type": "code",
   "execution_count": 8,
   "id": "896b6003",
   "metadata": {},
   "outputs": [
    {
     "name": "stdout",
     "output_type": "stream",
     "text": [
      "Model: \"sequential\"\n",
      "_________________________________________________________________\n",
      "Layer (type)                 Output Shape              Param #   \n",
      "=================================================================\n",
      "conv2d (Conv2D)              (None, 26, 26, 16)        448       \n",
      "_________________________________________________________________\n",
      "max_pooling2d (MaxPooling2D) (None, 13, 13, 16)        0         \n",
      "_________________________________________________________________\n",
      "conv2d_1 (Conv2D)            (None, 11, 11, 32)        4640      \n",
      "_________________________________________________________________\n",
      "max_pooling2d_1 (MaxPooling2 (None, 5, 5, 32)          0         \n",
      "_________________________________________________________________\n",
      "flatten (Flatten)            (None, 800)               0         \n",
      "_________________________________________________________________\n",
      "dense (Dense)                (None, 64)                51264     \n",
      "_________________________________________________________________\n",
      "dense_1 (Dense)              (None, 3)                 195       \n",
      "=================================================================\n",
      "Total params: 56,547\n",
      "Trainable params: 56,547\n",
      "Non-trainable params: 0\n",
      "_________________________________________________________________\n"
     ]
    }
   ],
   "source": [
    "import tensorflow as tf\n",
    "from tensorflow import keras\n",
    "import numpy as np\n",
    "\n",
    "n_channel_1 = 16\n",
    "n_channel_2 = 32\n",
    "n_dense = 64\n",
    "n_train_epoch = 10\n",
    "\n",
    "\n",
    "model = keras.models.Sequential()\n",
    "model.add(keras.layers.Conv2D(n_channel_1, (3, 3), activation = 'relu', input_shape=(28, 28, 3)))\n",
    "model.add(keras.layers.MaxPooling2D(2, 2))\n",
    "model.add(keras.layers.Conv2D(n_channel_2, (3, 3), activation = 'relu'))\n",
    "model.add(keras.layers.MaxPooling2D(2, 2))\n",
    "model.add(keras.layers.Flatten())\n",
    "model.add(keras.layers.Dense(n_dense, activation = 'relu')) \n",
    "model.add(keras.layers.Dense(3, activation = 'softmax')) #가위,바위,보 3개니까 3\n",
    "\n",
    "model.summary()"
   ]
  },
  {
   "cell_type": "markdown",
   "id": "8535e5a5",
   "metadata": {},
   "source": [
    "\n",
    "\n",
    "**n_channel_1** : 다양한 이미지의 특징을 살펴볼 수 있는 값\n",
    "\n",
    "**n_channel_2** : 다양한 이미지의 특징을 살펴볼 수 있는 값\n",
    "\n",
    "**n_dense** : 분류기 알고리즘의 복잡함을 나타내는 값(복잡한 문제일 수록 높이는게 좋음)\n",
    "\n",
    "**n_train_epoch** : 학습을 얼마나 반복할 건지\n",
    "\n",
    "\n",
    "**softmax의 3의 의미는 최종 분류기의 class 수로서 가위,바위,보 총 3개를 분류해야 하기에 3이라는 숫자를 씀**\n"
   ]
  },
  {
   "cell_type": "markdown",
   "id": "e07d3b24",
   "metadata": {},
   "source": [
    "## 3.네트워크 학습"
   ]
  },
  {
   "cell_type": "code",
   "execution_count": 9,
   "id": "283ccf2c",
   "metadata": {
    "scrolled": false
   },
   "outputs": [
    {
     "name": "stdout",
     "output_type": "stream",
     "text": [
      "Epoch 1/10\n",
      "10/10 [==============================] - 1s 20ms/step - loss: 1.0830 - accuracy: 0.3933\n",
      "Epoch 2/10\n",
      "10/10 [==============================] - 0s 20ms/step - loss: 0.9845 - accuracy: 0.6167\n",
      "Epoch 3/10\n",
      "10/10 [==============================] - 0s 21ms/step - loss: 0.8799 - accuracy: 0.6167\n",
      "Epoch 4/10\n",
      "10/10 [==============================] - 0s 21ms/step - loss: 0.7666 - accuracy: 0.7133\n",
      "Epoch 5/10\n",
      "10/10 [==============================] - 0s 21ms/step - loss: 0.6353 - accuracy: 0.7567\n",
      "Epoch 6/10\n",
      "10/10 [==============================] - 0s 20ms/step - loss: 0.5449 - accuracy: 0.8133\n",
      "Epoch 7/10\n",
      "10/10 [==============================] - 0s 19ms/step - loss: 0.4707 - accuracy: 0.8500\n",
      "Epoch 8/10\n",
      "10/10 [==============================] - 0s 20ms/step - loss: 0.3838 - accuracy: 0.8900\n",
      "Epoch 9/10\n",
      "10/10 [==============================] - 0s 20ms/step - loss: 0.3197 - accuracy: 0.9100\n",
      "Epoch 10/10\n",
      "10/10 [==============================] - 0s 20ms/step - loss: 0.3215 - accuracy: 0.8900\n"
     ]
    },
    {
     "data": {
      "text/plain": [
       "<keras.callbacks.History at 0x7ff0ec56c970>"
      ]
     },
     "execution_count": 9,
     "metadata": {},
     "output_type": "execute_result"
    }
   ],
   "source": [
    "model.compile(optimizer = 'adam', \n",
    "              loss = 'sparse_categorical_crossentropy', \n",
    "              metrics = ['accuracy'])\n",
    "\n",
    "model.fit(x_train_norm, y_train, epochs = n_train_epoch) #10번반복"
   ]
  },
  {
   "cell_type": "markdown",
   "id": "7fc8e3f6",
   "metadata": {},
   "source": [
    "## 4.성능 평가 테스트"
   ]
  },
  {
   "cell_type": "code",
   "execution_count": 10,
   "id": "dca1e301",
   "metadata": {},
   "outputs": [
    {
     "name": "stdout",
     "output_type": "stream",
     "text": [
      "100  images to be resized.\n",
      "100  images resized.\n",
      "가위 샘플 이미지 resize 완료!\n"
     ]
    }
   ],
   "source": [
    "#샘플 가위 이미지 사이즈 변경(28x28)\n",
    "image_dir_path = os.getenv(\"HOME\") + \"/aiffel/rock_scissor_paper/test/testset1/scissor\"\n",
    "resize_images(image_dir_path)  \n",
    "\n",
    "print(\"가위 샘플 이미지 resize 완료!\")"
   ]
  },
  {
   "cell_type": "code",
   "execution_count": 11,
   "id": "ecaf2484",
   "metadata": {},
   "outputs": [
    {
     "name": "stdout",
     "output_type": "stream",
     "text": [
      "100  images to be resized.\n",
      "100  images resized.\n",
      "보 샘플 이미지 resize 완료!\n"
     ]
    }
   ],
   "source": [
    "#샘플 보 이미지 사이즈 변경(28x28)\n",
    "image_dir_path = os.getenv(\"HOME\") + \"/aiffel/rock_scissor_paper/test/testset1/paper\"\n",
    "resize_images(image_dir_path)\n",
    "\n",
    "print(\"보 샘플 이미지 resize 완료!\")"
   ]
  },
  {
   "cell_type": "code",
   "execution_count": 12,
   "id": "a9307c6b",
   "metadata": {},
   "outputs": [
    {
     "name": "stdout",
     "output_type": "stream",
     "text": [
      "100  images to be resized.\n",
      "100  images resized.\n",
      "바위 샘플 이미지 resize 완료!\n"
     ]
    }
   ],
   "source": [
    "#샘플 바위 이미지 사이즈 변경(28x28)\n",
    "image_dir_path = os.getenv(\"HOME\") + \"/aiffel/rock_scissor_paper/test/testset1/rock\"\n",
    "resize_images(image_dir_path)\n",
    "\n",
    "print(\"바위 샘플 이미지 resize 완료!\")"
   ]
  },
  {
   "cell_type": "code",
   "execution_count": 13,
   "id": "4d8407b0",
   "metadata": {},
   "outputs": [
    {
     "name": "stdout",
     "output_type": "stream",
     "text": [
      "학습데이터(x_train)의 이미지 개수는 300 입니다.\n",
      "x_test shape: (300, 28, 28, 3)\n",
      "y_test shape: (300,)\n"
     ]
    }
   ],
   "source": [
    "#가위, 바위, 보 데이터를 읽을 수 있는 load_data() 함수로 데이터 불러오기\n",
    "image_dir_path = os.getenv(\"HOME\") + \"/aiffel/rock_scissor_paper/test/testset1\"\n",
    "(x_test, y_test)=load_data(image_dir_path, 300) #x_test,y_test만들기\n",
    "x_test_norm = x_test/255.0 \n",
    "\n",
    "print(\"x_test shape: {}\".format(x_test.shape))\n",
    "print(\"y_test shape: {}\".format(y_test.shape))"
   ]
  },
  {
   "cell_type": "code",
   "execution_count": 14,
   "id": "471ac7d3",
   "metadata": {},
   "outputs": [
    {
     "name": "stdout",
     "output_type": "stream",
     "text": [
      "라벨:  0\n"
     ]
    },
    {
     "data": {
      "image/png": "[encoded data removed]",
      "text/plain": [
       "<Figure size 432x288 with 1 Axes>"
      ]
     },
     "metadata": {
      "needs_background": "light"
     },
     "output_type": "display_data"
    }
   ],
   "source": [
    "#이미지 불러오기\n",
    "import matplotlib.pyplot as plt\n",
    "\n",
    "plt.imshow(x_test_norm[0])\n",
    "print('라벨: ', y_test[0])\n"
   ]
  },
  {
   "cell_type": "code",
   "execution_count": 15,
   "id": "b5403b77",
   "metadata": {},
   "outputs": [
    {
     "name": "stdout",
     "output_type": "stream",
     "text": [
      "10/10 - 0s - loss: 256.8306 - accuracy: 0.5133\n",
      "test_loss : 256.83062744140625\n",
      "test_accuracy : 0.5133333206176758\n"
     ]
    }
   ],
   "source": [
    "test_loss, test_accuracy = model.evaluate(x_test, y_test, verbose = 2)\n",
    "\n",
    "print(\"test_loss : {}\".format(test_loss))\n",
    "print(\"test_accuracy : {}\".format(test_accuracy))"
   ]
  },
  {
   "cell_type": "code",
   "execution_count": 16,
   "id": "f0ff25eb",
   "metadata": {},
   "outputs": [
    {
     "data": {
      "image/png": "[encoded data removed]",
      "text/plain": [
       "<Figure size 432x288 with 1 Axes>"
      ]
     },
     "metadata": {
      "needs_background": "light"
     },
     "output_type": "display_data"
    }
   ],
   "source": [
    "train_accuracy = []\n",
    "test_accuracy = []\n",
    "\n",
    "for epoch in range(n_train_epoch):\n",
    "    # 모델을 한 에폭동안 훈련\n",
    "    model.fit(x_train_norm, y_train, epochs=1, verbose=0)\n",
    "    \n",
    "    # 훈련 데이터와 테스트 데이터에 대해 모델을 평가하여 정확도 저장\n",
    "    train_loss, train_acc = model.evaluate(x_train_norm, y_train, verbose=0)\n",
    "    test_loss, test_acc = model.evaluate(x_test_norm, y_test, verbose=0)\n",
    "    \n",
    "    # 정확도 값을 리스트에 추가\n",
    "    train_accuracy.append(train_acc)\n",
    "    test_accuracy.append(test_acc)\n",
    "\n",
    "# 훈련 및 테스트 데이터에 대한 정확도를 에폭별로 시각화\n",
    "markers = {'train': 'o', 'test': 's'}\n",
    "x = np.arange(n_train_epoch)\n",
    "\n",
    "plt.plot(x, train_accuracy, marker='o', label='train', markevery=1)\n",
    "plt.plot(x, test_accuracy, marker='s', label='test', markevery=1)\n",
    "plt.xlabel(\"epochs\")\n",
    "plt.ylabel(\"accuracy\")\n",
    "plt.ylim(0, 1.0)\n",
    "plt.legend(loc='lower right')\n",
    "plt.show()"
   ]
  },
  {
   "cell_type": "markdown",
   "id": "95f37c5c",
   "metadata": {},
   "source": [
    "### **테스트 데이터로 성능 평가후 시각화를 시켜보니 처참한 결과가 나오게 되었다**\n",
    "\n",
    "### **train 데이터의 오버피팅으로 인해 test 데이터의 정확도가 50%안팎이 나오게 되었다.**\n",
    "\n",
    "**몇번 다시 돌려보면 최대 60%까지 뛰기도 하나 대부분 37%~45%이므로 파라미터 조정과 데이터를 추가 시키고 리사이즈의 크기를 키워 보기로 하자**"
   ]
  },
  {
   "cell_type": "markdown",
   "id": "cd443a45",
   "metadata": {},
   "source": [
    "## **1.데이터 불러오기, resize**"
   ]
  },
  {
   "cell_type": "code",
   "execution_count": 17,
   "id": "eda38175",
   "metadata": {},
   "outputs": [
    {
     "name": "stdout",
     "output_type": "stream",
     "text": [
      "PIL 라이브러리 import 완료!\n",
      "100  images to be resized.\n",
      "100  images resized.\n",
      "100  images to be resized.\n",
      "100  images resized.\n",
      "100  images to be resized.\n",
      "100  images resized.\n",
      "112  images to be resized.\n",
      "112  images resized.\n",
      "112  images to be resized.\n",
      "112  images resized.\n",
      "가위 이미지 resize 완료!\n",
      "100  images to be resized.\n",
      "100  images resized.\n",
      "100  images to be resized.\n",
      "100  images resized.\n",
      "100  images to be resized.\n",
      "100  images resized.\n",
      "101  images to be resized.\n",
      "101  images resized.\n",
      "118  images to be resized.\n",
      "118  images resized.\n",
      "바위 이미지 resize 완료!\n",
      "100  images to be resized.\n",
      "100  images resized.\n",
      "100  images to be resized.\n",
      "100  images resized.\n",
      "100  images to be resized.\n",
      "100  images resized.\n",
      "105  images to be resized.\n",
      "105  images resized.\n",
      "109  images to be resized.\n",
      "109  images resized.\n",
      "보 이미지 resize 완료!\n"
     ]
    }
   ],
   "source": [
    "#PIL 라이브러리 불러오기\n",
    "from PIL import Image\n",
    "import os, glob\n",
    "\n",
    "print(\"PIL 라이브러리 import 완료!\") \n",
    "\n",
    "def resize_images(img_path):\n",
    "    images=glob.glob(img_path + \"/*.jpg\")  \n",
    "    \n",
    "    print(len(images), \" images to be resized.\")\n",
    "\n",
    "  # 이미지를 불러와 파일마다 모두 122사이즈로 바꾸어 저장\n",
    "    target_size=(122,122)\n",
    "    for img in images:\n",
    "        old_img=Image.open(img)\n",
    "        new_img=old_img.resize(target_size,Image.ANTIALIAS)\n",
    "        new_img.save(img, \"JPEG\")\n",
    "    \n",
    "    print(len(images), \" images resized.\")\n",
    "    \n",
    "image_dir_path = os.getenv(\"HOME\") + \"/aiffel/rock_scissor_paper/scissor\"\n",
    "image_dir_path1 = os.getenv(\"HOME\") + \"/aiffel/rock_scissor_paper/scissor1\"\n",
    "image_dir_path2 = os.getenv(\"HOME\") + \"/aiffel/rock_scissor_paper/scissor2\"\n",
    "image_dir_path3 = os.getenv(\"HOME\") + \"/aiffel/rock_scissor_paper/scissor3\"\n",
    "image_dir_path4 = os.getenv(\"HOME\") + \"/aiffel/rock_scissor_paper/scissor4\"\n",
    "resize_images(image_dir_path)\n",
    "resize_images(image_dir_path1)\n",
    "resize_images(image_dir_path2)\n",
    "resize_images(image_dir_path3)\n",
    "resize_images(image_dir_path4)\n",
    "print(\"가위 이미지 resize 완료!\")\n",
    "\n",
    "image_dir_path = os.getenv(\"HOME\") + \"/aiffel/rock_scissor_paper/rock\"\n",
    "image_dir_path1 = os.getenv(\"HOME\") + \"/aiffel/rock_scissor_paper/rock1\"\n",
    "image_dir_path2 = os.getenv(\"HOME\") + \"/aiffel/rock_scissor_paper/rock2\"\n",
    "image_dir_path3 = os.getenv(\"HOME\") + \"/aiffel/rock_scissor_paper/rock3\"\n",
    "image_dir_path4 = os.getenv(\"HOME\") + \"/aiffel/rock_scissor_paper/rock4\"\n",
    "resize_images(image_dir_path)\n",
    "resize_images(image_dir_path1)\n",
    "resize_images(image_dir_path2)\n",
    "resize_images(image_dir_path3)\n",
    "resize_images(image_dir_path4)\n",
    "print(\"바위 이미지 resize 완료!\")\n",
    "\n",
    "image_dir_path = os.getenv(\"HOME\") + \"/aiffel/rock_scissor_paper/paper\"\n",
    "image_dir_path1 = os.getenv(\"HOME\") + \"/aiffel/rock_scissor_paper/paper1\"\n",
    "image_dir_path2 = os.getenv(\"HOME\") + \"/aiffel/rock_scissor_paper/paper2\"\n",
    "image_dir_path3 = os.getenv(\"HOME\") + \"/aiffel/rock_scissor_paper/paper3\"\n",
    "image_dir_path4 = os.getenv(\"HOME\") + \"/aiffel/rock_scissor_paper/paper4\"\n",
    "resize_images(image_dir_path)\n",
    "resize_images(image_dir_path1)\n",
    "resize_images(image_dir_path2)\n",
    "resize_images(image_dir_path3)\n",
    "resize_images(image_dir_path4)\n",
    "print(\"보 이미지 resize 완료!\")"
   ]
  },
  {
   "cell_type": "markdown",
   "id": "ef176828",
   "metadata": {},
   "source": [
    "### **이미지를 122x122로 리사이즈 시켰다**"
   ]
  },
  {
   "cell_type": "code",
   "execution_count": 18,
   "id": "b4f91d86",
   "metadata": {},
   "outputs": [
    {
     "name": "stdout",
     "output_type": "stream",
     "text": [
      "학습데이터(x_train)의 이미지 개수는 1557 입니다.\n",
      "x_train shape: (1557, 122, 122, 3)\n",
      "y_train shape: (1557,)\n"
     ]
    }
   ],
   "source": [
    "#가위, 바위, 보 데이터를 읽을 수 있는 load_data() 함수로 데이터 불러오기\n",
    "import numpy as np\n",
    "\n",
    "def load_data(img_path, number_of_data=1557):  # 가위바위보 이미지 개수 총합에 주의하세요.\n",
    "    #라벨링 -> 가위 : 0, 바위 : 1, 보 : 2\n",
    "    img_size=122\n",
    "    color=3\n",
    "    \n",
    "    #이미지 데이터와 라벨(가위 : 0, 바위 : 1, 보 : 2) 데이터를 담을 행렬(matrix) 영역을 생성합니다.\n",
    "    imgs=np.zeros(number_of_data*img_size*img_size*color,dtype=np.int32).reshape(number_of_data,img_size,img_size,color)\n",
    "    labels=np.zeros(number_of_data,dtype=np.int32)\n",
    "\n",
    "    idx=0\n",
    "    for file in glob.iglob(img_path+'/scissor/*.jpg'):\n",
    "        img = np.array(Image.open(file),dtype=np.int32)\n",
    "        imgs[idx,:,:,:]=img    # 데이터 영역에 이미지 행렬을 복사\n",
    "        labels[idx]=0   # 가위 : 0\n",
    "        idx=idx+1\n",
    "        \n",
    "    for file in glob.iglob(img_path+'/scissor1/*.jpg'):\n",
    "        img = np.array(Image.open(file),dtype=np.int32)\n",
    "        imgs[idx,:,:,:]=img    # 데이터 영역에 이미지 행렬을 복사\n",
    "        labels[idx]=0   # 가위 : 0\n",
    "        idx=idx+1\n",
    "        \n",
    "    for file in glob.iglob(img_path+'/scissor2/*.jpg'):\n",
    "        img = np.array(Image.open(file),dtype=np.int32)\n",
    "        imgs[idx,:,:,:]=img    # 데이터 영역에 이미지 행렬을 복사\n",
    "        labels[idx]=0   # 가위 : 0\n",
    "        idx=idx+1\n",
    "        \n",
    "    for file in glob.iglob(img_path+'/scissor3/*.jpg'):\n",
    "        img = np.array(Image.open(file),dtype=np.int32)\n",
    "        imgs[idx,:,:,:]=img    # 데이터 영역에 이미지 행렬을 복사\n",
    "        labels[idx]=0   # 가위 : 0\n",
    "        idx=idx+1 \n",
    "        \n",
    "    for file in glob.iglob(img_path+'/scissor4/*.jpg'):\n",
    "        img = np.array(Image.open(file),dtype=np.int32)\n",
    "        imgs[idx,:,:,:]=img    # 데이터 영역에 이미지 행렬을 복사\n",
    "        labels[idx]=0   # 가위 : 0\n",
    "        idx=idx+1\n",
    "\n",
    "    for file in glob.iglob(img_path+'/rock/*.jpg'):\n",
    "        img = np.array(Image.open(file),dtype=np.int32)\n",
    "        imgs[idx,:,:,:]=img    # 데이터 영역에 이미지 행렬을 복사\n",
    "        labels[idx]=1   # 바위 : 1\n",
    "        idx=idx+1  \n",
    "    \n",
    "    for file in glob.iglob(img_path+'/rock1/*.jpg'):\n",
    "        img = np.array(Image.open(file),dtype=np.int32)\n",
    "        imgs[idx,:,:,:]=img    # 데이터 영역에 이미지 행렬을 복사\n",
    "        labels[idx]=1   # 바위 : 1\n",
    "        idx=idx+1  \n",
    "        \n",
    "    for file in glob.iglob(img_path+'/rock2/*.jpg'):\n",
    "        img = np.array(Image.open(file),dtype=np.int32)\n",
    "        imgs[idx,:,:,:]=img    # 데이터 영역에 이미지 행렬을 복사\n",
    "        labels[idx]=1   # 바위 : 1\n",
    "        idx=idx+1  \n",
    "        \n",
    "    for file in glob.iglob(img_path+'/rock3/*.jpg'):\n",
    "        img = np.array(Image.open(file),dtype=np.int32)\n",
    "        imgs[idx,:,:,:]=img    # 데이터 영역에 이미지 행렬을 복사\n",
    "        labels[idx]=1   # 바위 : 1\n",
    "        idx=idx+1  \n",
    "    \n",
    "    for file in glob.iglob(img_path+'/rock4/*.jpg'):\n",
    "        img = np.array(Image.open(file),dtype=np.int32)\n",
    "        imgs[idx,:,:,:]=img    # 데이터 영역에 이미지 행렬을 복사\n",
    "        labels[idx]=1   # 바위 : 1\n",
    "        idx=idx+1 \n",
    "        \n",
    "    for file in glob.iglob(img_path+'/paper/*.jpg'):\n",
    "        img = np.array(Image.open(file),dtype=np.int32)\n",
    "        imgs[idx,:,:,:]=img    # 데이터 영역에 이미지 행렬을 복사\n",
    "        labels[idx]=2   # 보 : 2\n",
    "        idx=idx+1\n",
    "        \n",
    "    for file in glob.iglob(img_path+'/paper1/*.jpg'):\n",
    "        img = np.array(Image.open(file),dtype=np.int32)\n",
    "        imgs[idx,:,:,:]=img    # 데이터 영역에 이미지 행렬을 복사\n",
    "        labels[idx]=2   # 보 : 2\n",
    "        idx=idx+1\n",
    "        \n",
    "    for file in glob.iglob(img_path+'/paper2/*.jpg'):\n",
    "        img = np.array(Image.open(file),dtype=np.int32)\n",
    "        imgs[idx,:,:,:]=img    # 데이터 영역에 이미지 행렬을 복사\n",
    "        labels[idx]=2   # 보 : 2\n",
    "        idx=idx+1\n",
    "        \n",
    "    for file in glob.iglob(img_path+'/paper3/*.jpg'):\n",
    "        img = np.array(Image.open(file),dtype=np.int32)\n",
    "        imgs[idx,:,:,:]=img    # 데이터 영역에 이미지 행렬을 복사\n",
    "        labels[idx]=2   # 보 : 2\n",
    "        idx=idx+1\n",
    "        \n",
    "    for file in glob.iglob(img_path+'/paper4/*.jpg'):\n",
    "        img = np.array(Image.open(file),dtype=np.int32)\n",
    "        imgs[idx,:,:,:]=img    # 데이터 영역에 이미지 행렬을 복사\n",
    "        labels[idx]=2   # 보 : 2\n",
    "        idx=idx+1\n",
    "        \n",
    "    print(\"학습데이터(x_train)의 이미지 개수는\", idx,\"입니다.\")\n",
    "    return imgs, labels\n",
    "\n",
    "image_dir_path = os.getenv(\"HOME\") + \"/aiffel/rock_scissor_paper\"\n",
    "(x_train, y_train)=load_data(image_dir_path)\n",
    "x_train_norm = x_train/255.0   # 입력은 0~1 사이의 값으로 정규화\n",
    "\n",
    "print(\"x_train shape: {}\".format(x_train.shape))\n",
    "print(\"y_train shape: {}\".format(y_train.shape))"
   ]
  },
  {
   "cell_type": "markdown",
   "id": "911b5a97",
   "metadata": {},
   "source": [
    "### **또한 많은 데이터를 트레인에 집어넣어 오피피팅이 덜 날 수 있도록 하였다**"
   ]
  },
  {
   "cell_type": "code",
   "execution_count": 19,
   "id": "6d643ecf",
   "metadata": {},
   "outputs": [
    {
     "name": "stdout",
     "output_type": "stream",
     "text": [
      "라벨:  0\n"
     ]
    },
    {
     "data": {
      "image/png": "[encoded data removed]",
      "text/plain": [
       "<Figure size 432x288 with 1 Axes>"
      ]
     },
     "metadata": {
      "needs_background": "light"
     },
     "output_type": "display_data"
    }
   ],
   "source": [
    "#이미지 불러오기\n",
    "import matplotlib.pyplot as plt\n",
    "\n",
    "plt.imshow(x_train[0])\n",
    "print('라벨: ', y_train[0])"
   ]
  },
  {
   "cell_type": "markdown",
   "id": "fa7a6b60",
   "metadata": {},
   "source": [
    "## **2.네트워크 설계**"
   ]
  },
  {
   "cell_type": "code",
   "execution_count": 20,
   "id": "1af38732",
   "metadata": {},
   "outputs": [
    {
     "name": "stdout",
     "output_type": "stream",
     "text": [
      "Model: \"sequential_1\"\n",
      "_________________________________________________________________\n",
      "Layer (type)                 Output Shape              Param #   \n",
      "=================================================================\n",
      "conv2d_2 (Conv2D)            (None, 120, 120, 16)      448       \n",
      "_________________________________________________________________\n",
      "max_pooling2d_2 (MaxPooling2 (None, 60, 60, 16)        0         \n",
      "_________________________________________________________________\n",
      "conv2d_3 (Conv2D)            (None, 58, 58, 32)        4640      \n",
      "_________________________________________________________________\n",
      "max_pooling2d_3 (MaxPooling2 (None, 29, 29, 32)        0         \n",
      "_________________________________________________________________\n",
      "flatten_1 (Flatten)          (None, 26912)             0         \n",
      "_________________________________________________________________\n",
      "dense_2 (Dense)              (None, 32)                861216    \n",
      "_________________________________________________________________\n",
      "dense_3 (Dense)              (None, 3)                 99        \n",
      "=================================================================\n",
      "Total params: 866,403\n",
      "Trainable params: 866,403\n",
      "Non-trainable params: 0\n",
      "_________________________________________________________________\n"
     ]
    }
   ],
   "source": [
    "n_channel_1 = 16\n",
    "n_channel_2 = 32\n",
    "n_dense = 32\n",
    "n_train_epoch = 10\n",
    "\n",
    "\n",
    "model = keras.models.Sequential()\n",
    "model.add(keras.layers.Conv2D(n_channel_1, (3, 3), activation = 'relu', input_shape=(122, 122, 3)))\n",
    "model.add(keras.layers.MaxPooling2D(2, 2))\n",
    "model.add(keras.layers.Conv2D(n_channel_2, (3, 3), activation = 'relu'))\n",
    "model.add(keras.layers.MaxPooling2D(2, 2))\n",
    "model.add(keras.layers.Flatten())\n",
    "model.add(keras.layers.Dense(n_dense, activation = 'relu')) \n",
    "model.add(keras.layers.Dense(3, activation = 'softmax')) #가위,바위,보 3개니까 3\n",
    "\n",
    "model.summary()"
   ]
  },
  {
   "cell_type": "markdown",
   "id": "b5207599",
   "metadata": {},
   "source": [
    "**입력을 28x28에서 122x122로 바꿔주었다.**"
   ]
  },
  {
   "cell_type": "markdown",
   "id": "9db5680b",
   "metadata": {},
   "source": [
    "## **3.네트워크 학습**"
   ]
  },
  {
   "cell_type": "code",
   "execution_count": 21,
   "id": "467bc52a",
   "metadata": {},
   "outputs": [
    {
     "name": "stdout",
     "output_type": "stream",
     "text": [
      "Epoch 1/10\n",
      "49/49 [==============================] - 22s 448ms/step - loss: 1.0233 - accuracy: 0.5466\n",
      "Epoch 2/10\n",
      "49/49 [==============================] - 22s 450ms/step - loss: 0.4623 - accuracy: 0.8035\n",
      "Epoch 3/10\n",
      "49/49 [==============================] - 22s 454ms/step - loss: 0.2642 - accuracy: 0.9075\n",
      "Epoch 4/10\n",
      "49/49 [==============================] - 22s 456ms/step - loss: 0.1527 - accuracy: 0.9570\n",
      "Epoch 5/10\n",
      "49/49 [==============================] - 22s 454ms/step - loss: 0.0863 - accuracy: 0.9788\n",
      "Epoch 6/10\n",
      "49/49 [==============================] - 22s 457ms/step - loss: 0.0613 - accuracy: 0.9852\n",
      "Epoch 7/10\n",
      "49/49 [==============================] - 22s 455ms/step - loss: 0.0418 - accuracy: 0.9917\n",
      "Epoch 8/10\n",
      "49/49 [==============================] - 22s 453ms/step - loss: 0.0221 - accuracy: 0.9968\n",
      "Epoch 9/10\n",
      "49/49 [==============================] - 22s 456ms/step - loss: 0.0212 - accuracy: 0.9968\n",
      "Epoch 10/10\n",
      "49/49 [==============================] - 22s 454ms/step - loss: 0.0093 - accuracy: 1.0000\n"
     ]
    },
    {
     "data": {
      "text/plain": [
       "<keras.callbacks.History at 0x7ff14ba15460>"
      ]
     },
     "execution_count": 21,
     "metadata": {},
     "output_type": "execute_result"
    }
   ],
   "source": [
    "model.compile(optimizer = 'adam', \n",
    "              loss = 'sparse_categorical_crossentropy', \n",
    "              metrics = ['accuracy'])\n",
    "\n",
    "model.fit(x_train_norm, y_train, epochs = n_train_epoch ) #10번반복"
   ]
  },
  {
   "cell_type": "markdown",
   "id": "5001ebf0",
   "metadata": {},
   "source": [
    "## **4.성능 평가 테스트**"
   ]
  },
  {
   "cell_type": "code",
   "execution_count": 22,
   "id": "497815e1",
   "metadata": {},
   "outputs": [
    {
     "name": "stdout",
     "output_type": "stream",
     "text": [
      "100  images to be resized.\n",
      "100  images resized.\n",
      "가위 샘플 이미지 resize 완료!\n"
     ]
    }
   ],
   "source": [
    "#샘플 가위 이미지 사이즈 변경(28x28)\n",
    "image_dir_path = os.getenv(\"HOME\") + \"/aiffel/rock_scissor_paper/test/testset1/scissor\"\n",
    "resize_images(image_dir_path)  \n",
    "\n",
    "print(\"가위 샘플 이미지 resize 완료!\")"
   ]
  },
  {
   "cell_type": "code",
   "execution_count": 23,
   "id": "4ffe4df2",
   "metadata": {},
   "outputs": [
    {
     "name": "stdout",
     "output_type": "stream",
     "text": [
      "100  images to be resized.\n",
      "100  images resized.\n",
      "바위 샘플 이미지 resize 완료!\n"
     ]
    }
   ],
   "source": [
    "#샘플 가위 이미지 사이즈 변경(28x28)\n",
    "image_dir_path = os.getenv(\"HOME\") + \"/aiffel/rock_scissor_paper/test/testset1/rock\"\n",
    "resize_images(image_dir_path)  \n",
    "\n",
    "print(\"바위 샘플 이미지 resize 완료!\")"
   ]
  },
  {
   "cell_type": "code",
   "execution_count": 24,
   "id": "a2cb2e56",
   "metadata": {},
   "outputs": [
    {
     "name": "stdout",
     "output_type": "stream",
     "text": [
      "100  images to be resized.\n",
      "100  images resized.\n",
      "보 샘플 이미지 resize 완료!\n"
     ]
    }
   ],
   "source": [
    "#샘플 가위 이미지 사이즈 변경(28x28)\n",
    "image_dir_path = os.getenv(\"HOME\") + \"/aiffel/rock_scissor_paper/test/testset1/paper\"\n",
    "resize_images(image_dir_path)  \n",
    "\n",
    "print(\"보 샘플 이미지 resize 완료!\")"
   ]
  },
  {
   "cell_type": "code",
   "execution_count": 25,
   "id": "87e06de7",
   "metadata": {},
   "outputs": [
    {
     "name": "stdout",
     "output_type": "stream",
     "text": [
      "학습데이터(x_train)의 이미지 개수는 300 입니다.\n",
      "x_test shape: (300, 122, 122, 3)\n",
      "y_test shape: (300,)\n"
     ]
    }
   ],
   "source": [
    "image_dir_path = os.getenv(\"HOME\") + \"/aiffel/rock_scissor_paper/test/testset1\"\n",
    "(x_test, y_test)=load_data(image_dir_path, 300) #x_test,y_test만들기\n",
    "x_test_norm = x_test/255.0 \n",
    "\n",
    "print(\"x_test shape: {}\".format(x_test.shape))\n",
    "print(\"y_test shape: {}\".format(y_test.shape))"
   ]
  },
  {
   "cell_type": "code",
   "execution_count": 26,
   "id": "e59dccc5",
   "metadata": {},
   "outputs": [
    {
     "name": "stdout",
     "output_type": "stream",
     "text": [
      "라벨:  0\n"
     ]
    },
    {
     "data": {
      "image/png": "[encoded data removed]",
      "text/plain": [
       "<Figure size 432x288 with 1 Axes>"
      ]
     },
     "metadata": {
      "needs_background": "light"
     },
     "output_type": "display_data"
    }
   ],
   "source": [
    "import matplotlib.pyplot as plt\n",
    "\n",
    "plt.imshow(x_test_norm[0])\n",
    "print('라벨: ', y_test[0])"
   ]
  },
  {
   "cell_type": "code",
   "execution_count": 27,
   "id": "7b74dce4",
   "metadata": {},
   "outputs": [
    {
     "name": "stdout",
     "output_type": "stream",
     "text": [
      "10/10 - 1s - loss: 154.1827 - accuracy: 0.7400\n",
      "test_loss : 154.18267822265625\n",
      "test_accuracy : 0.7400000095367432\n"
     ]
    }
   ],
   "source": [
    "test_loss, test_accuracy = model.evaluate(x_test, y_test, verbose = 2)\n",
    "\n",
    "print(\"test_loss : {}\".format(test_loss))\n",
    "print(\"test_accuracy : {}\".format(test_accuracy))"
   ]
  },
  {
   "cell_type": "markdown",
   "id": "a16da0ad",
   "metadata": {},
   "source": [
    "**resize를 올리고 데이터를 약 1200개 정도 올렸더니 정확도가 74%로 많이 오른 것을 볼 수 있다**\n",
    "\n",
    "**시각화를 하려고 했지만 계속해서 커널이 죽는 바람에 시각화를 시키지 못했다.**"
   ]
  },
  {
   "cell_type": "markdown",
   "id": "bf460593",
   "metadata": {},
   "source": [
    "# 3.회고"
   ]
  },
  {
   "cell_type": "markdown",
   "id": "bcde1659",
   "metadata": {},
   "source": [
    "일단 처음으로 딥러닝을 접해보게 되었는데 생각보다 정확도 높이는 것이 정말 어렵다는 것을 알게 되었다.\n",
    "\n",
    "일단 트레인 데이터가 많이 없던 것도 한몫을 하겠지만 정말 많이 설정을 바꾸고 돌리지 않는다면 웬만하면 정확도가 오르지 않는것을 보고 정말 어렵겠다고 생각했던 것 같다.\n",
    "\n",
    "시간이 더 있었다면 계속해서 돌려보며 정확도를 높였겠지만 오늘 조퇴를 해야하기에 다 조절하지 못하고 가 아쉽다는 생각이 들었고 그래도 내 힘으로 딥러닝 프로젝트를 해봤다는 것에 재밌다는 생각 또한 들었다."
   ]
  },
  {
   "cell_type": "code",
   "execution_count": null,
   "id": "bf0f4630",
   "metadata": {},
   "outputs": [],
   "source": []
  }
 ],
 "metadata": {
  "kernelspec": {
   "display_name": "Python 3 (ipykernel)",
   "language": "python",
   "name": "python3"
  },
  "language_info": {
   "codemirror_mode": {
    "name": "ipython",
    "version": 3
   },
   "file_extension": ".py",
   "mimetype": "text/x-python",
   "name": "python",
   "nbconvert_exporter": "python",
   "pygments_lexer": "ipython3",
   "version": "3.9.7"
  }
 },
 "nbformat": 4,
 "nbformat_minor": 5
}
