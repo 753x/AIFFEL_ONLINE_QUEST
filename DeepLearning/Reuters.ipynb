{
  "nbformat": 4,
  "nbformat_minor": 0,
  "metadata": {
    "colab": {
      "provenance": [],
      "authorship_tag": "ABX9TyOVSb+qdeFfxlT8dC4Lf8g5",
      "include_colab_link": true
    },
    "kernelspec": {
      "name": "python3",
      "display_name": "Python 3"
    },
    "language_info": {
      "name": "python"
    }
  },
  "cells": [
    {
      "cell_type": "markdown",
      "metadata": {
        "id": "view-in-github",
        "colab_type": "text"
      },
      "source": [
        "<a href=\"https://colab.research.google.com/github/753x/AIFFEL_ONLINE_QUEST/blob/master/DeepLearning/Reuters.ipynb\" target=\"_parent\"><img src=\"https://colab.research.google.com/assets/colab-badge.svg\" alt=\"Open In Colab\"/></a>"
      ]
    },
    {
      "cell_type": "markdown",
      "source": [
        "# **데이터 로드 및 전처리**"
      ],
      "metadata": {
        "id": "UUK94Z4BZf-r"
      }
    },
    {
      "cell_type": "code",
      "execution_count": 1,
      "metadata": {
        "id": "bjfPC2TuSMB1"
      },
      "outputs": [],
      "source": [
        "import numpy as np\n",
        "import matplotlib.pyplot as plt\n",
        "from sklearn.model_selection import train_test_split\n",
        "from tensorflow.keras.datasets import reuters\n",
        "from tensorflow.keras.utils import to_categorical\n",
        "\n",
        "from tensorflow.keras import models, layers\n",
        "from tensorflow.keras import callbacks\n",
        "from tensorflow.keras import utils\n",
        "from keras.datasets import reuters"
      ]
    },
    {
      "cell_type": "code",
      "source": [
        "# 문제 2-1: reuters 데이터셋을 로드하고, 훈련 데이터셋에서 25%를 검증 데이터셋으로 분리합니다.\n",
        "(train_data, train_labels), (test_data, test_labels) = reuters.load_data(num_words=10000)\n",
        "\n",
        "train_data, val_data, train_labels, val_labels = train_test_split(train_data, train_labels, test_size=0.25, random_state=42)\n",
        "\n",
        "# 훈련, 검증, 테스트 데이터와 레이블 종류가 몇 개인지 출력합니다.\n",
        "print(len(train_data))\n",
        "print(len(val_data))\n",
        "print(len(test_data))\n",
        "print(len(set(train_labels)))"
      ],
      "metadata": {
        "colab": {
          "base_uri": "https://localhost:8080/"
        },
        "id": "uqQWjpGoZjge",
        "outputId": "0591bd27-7a3b-4113-8625-9cbecce5358c"
      },
      "execution_count": 2,
      "outputs": [
        {
          "output_type": "stream",
          "name": "stdout",
          "text": [
            "Downloading data from https://storage.googleapis.com/tensorflow/tf-keras-datasets/reuters.npz\n",
            "2110848/2110848 [==============================] - 0s 0us/step\n",
            "6736\n",
            "2246\n",
            "2246\n",
            "46\n"
          ]
        }
      ]
    },
    {
      "cell_type": "code",
      "source": [
        "# 문제 2-2: 텍스트 데이터의 전처리를 위해서 각 데이터셋마다 원-핫 인코딩을 수행합니다.\n",
        "def one_hot_encoding(data, dim=10000):\n",
        "    results = np.zeros((len(data), dim))\n",
        "    for i, sequence in enumerate(data):\n",
        "        results[i, sequence] = 1.0\n",
        "    return results\n",
        "\n",
        "x_train = one_hot_encoding(train_data)\n",
        "x_val = one_hot_encoding(val_data)\n",
        "x_test = one_hot_encoding(test_data)\n",
        "\n",
        "# 레이블 데이터들은 범주형 형태로 to_categorical() 함수를 사용해 변환합니다.\n",
        "num_classes = np.max(train_labels) + 1\n",
        "y_train = to_categorical(train_labels, num_classes)\n",
        "y_val = to_categorical(val_labels, num_classes)\n",
        "y_test = to_categorical(test_labels, num_classes)"
      ],
      "metadata": {
        "id": "OzJUKouTZpOx"
      },
      "execution_count": 3,
      "outputs": []
    },
    {
      "cell_type": "markdown",
      "source": [
        "# **모델 구성 및 컴파일**"
      ],
      "metadata": {
        "id": "v5Y21vcMZvSy"
      }
    },
    {
      "cell_type": "code",
      "source": [
        "# 문제 2-3: 빠른 학습과 과대적합을 방지하기 위해 BatchNormalization과 Dropout을 적용한 딥러닝 모델을 구성합니다.\n",
        "\n",
        "model = models.Sequential()\n",
        "model.add(layers.Dense(units=128, input_shape=(10000,)))  # input_dim은 데이터의 특성 개수에 맞게 설정\n",
        "model.add(layers.BatchNormalization())\n",
        "model.add(layers.Activation('relu'))\n",
        "model.add(layers.Dropout(0.5))\n",
        "model.add(layers.Dense(units=64))\n",
        "model.add(layers.BatchNormalization())\n",
        "model.add(layers.Activation('relu'))\n",
        "model.add(layers.Dropout(0.5))\n",
        "model.add(layers.Dense(units=32))\n",
        "model.add(layers.BatchNormalization())\n",
        "model.add(layers.Activation('relu'))\n",
        "model.add(layers.Dropout(0.5))\n",
        "\n",
        "model.add(layers.Dense(units=46, activation='softmax'))"
      ],
      "metadata": {
        "id": "yv8TUnYqZulZ"
      },
      "execution_count": 4,
      "outputs": []
    },
    {
      "cell_type": "code",
      "source": [
        "model.summary()"
      ],
      "metadata": {
        "colab": {
          "base_uri": "https://localhost:8080/"
        },
        "id": "6Ndu8bPcZzPz",
        "outputId": "b18fdd0d-f545-4927-ef85-ced86e6dce62"
      },
      "execution_count": 5,
      "outputs": [
        {
          "output_type": "stream",
          "name": "stdout",
          "text": [
            "Model: \"sequential\"\n",
            "_________________________________________________________________\n",
            " Layer (type)                Output Shape              Param #   \n",
            "=================================================================\n",
            " dense (Dense)               (None, 128)               1280128   \n",
            "                                                                 \n",
            " batch_normalization (BatchN  (None, 128)              512       \n",
            " ormalization)                                                   \n",
            "                                                                 \n",
            " activation (Activation)     (None, 128)               0         \n",
            "                                                                 \n",
            " dropout (Dropout)           (None, 128)               0         \n",
            "                                                                 \n",
            " dense_1 (Dense)             (None, 64)                8256      \n",
            "                                                                 \n",
            " batch_normalization_1 (Batc  (None, 64)               256       \n",
            " hNormalization)                                                 \n",
            "                                                                 \n",
            " activation_1 (Activation)   (None, 64)                0         \n",
            "                                                                 \n",
            " dropout_1 (Dropout)         (None, 64)                0         \n",
            "                                                                 \n",
            " dense_2 (Dense)             (None, 32)                2080      \n",
            "                                                                 \n",
            " batch_normalization_2 (Batc  (None, 32)               128       \n",
            " hNormalization)                                                 \n",
            "                                                                 \n",
            " activation_2 (Activation)   (None, 32)                0         \n",
            "                                                                 \n",
            " dropout_2 (Dropout)         (None, 32)                0         \n",
            "                                                                 \n",
            " dense_3 (Dense)             (None, 46)                1518      \n",
            "                                                                 \n",
            "=================================================================\n",
            "Total params: 1,292,878\n",
            "Trainable params: 1,292,430\n",
            "Non-trainable params: 448\n",
            "_________________________________________________________________\n"
          ]
        }
      ]
    },
    {
      "cell_type": "markdown",
      "source": [
        "# **모델 학습**"
      ],
      "metadata": {
        "id": "iPJy6AxTZ1xm"
      }
    },
    {
      "cell_type": "code",
      "source": [
        "# 문제 2-4: ModelCheckpoint와 EarlyStopping 콜백 함수를 적용하여 모델 학습을 진행합니다.\n",
        "from tensorflow.keras.callbacks import ModelCheckpoint, EarlyStopping\n",
        "\n",
        "model.compile(loss='categorical_crossentropy', optimizer='adam', metrics=['accuracy'])\n",
        "\n",
        "# ModelCheckpoint 콜백 설정\n",
        "checkpoint = ModelCheckpoint('best_model.h5', monitor='val_accuracy', save_best_only=True, mode='max', verbose=1)\n",
        "\n",
        "# EarlyStopping 콜백 설정\n",
        "early_stopping = EarlyStopping(monitor='val_loss', patience=5, mode='min', verbose=1)\n",
        "\n",
        "# 콜백 함수 리스트\n",
        "callbacks_list = [checkpoint, early_stopping]\n",
        "\n",
        "# 모델 학습\n",
        "history = model.fit(x_train, y_train, batch_size=128, epochs=50, validation_split=0.2, callbacks=callbacks_list)"
      ],
      "metadata": {
        "colab": {
          "base_uri": "https://localhost:8080/"
        },
        "id": "XjRILbARZ0h8",
        "outputId": "bbdbc3ff-baaf-49ab-d213-db1e9a4c072f"
      },
      "execution_count": 6,
      "outputs": [
        {
          "output_type": "stream",
          "name": "stdout",
          "text": [
            "Epoch 1/50\n",
            "41/43 [===========================>..] - ETA: 0s - loss: 3.6422 - accuracy: 0.1164\n",
            "Epoch 1: val_accuracy improved from -inf to 0.48887, saving model to best_model.h5\n",
            "43/43 [==============================] - 8s 46ms/step - loss: 3.6320 - accuracy: 0.1193 - val_loss: 3.4913 - val_accuracy: 0.4889\n",
            "Epoch 2/50\n",
            "43/43 [==============================] - ETA: 0s - loss: 2.7403 - accuracy: 0.4226\n",
            "Epoch 2: val_accuracy improved from 0.48887 to 0.53709, saving model to best_model.h5\n",
            "43/43 [==============================] - 2s 39ms/step - loss: 2.7403 - accuracy: 0.4226 - val_loss: 2.9311 - val_accuracy: 0.5371\n",
            "Epoch 3/50\n",
            "43/43 [==============================] - ETA: 0s - loss: 2.2135 - accuracy: 0.5510\n",
            "Epoch 3: val_accuracy improved from 0.53709 to 0.58754, saving model to best_model.h5\n",
            "43/43 [==============================] - 2s 38ms/step - loss: 2.2135 - accuracy: 0.5510 - val_loss: 2.3755 - val_accuracy: 0.5875\n",
            "Epoch 4/50\n",
            "42/43 [============================>.] - ETA: 0s - loss: 1.8878 - accuracy: 0.5913\n",
            "Epoch 4: val_accuracy improved from 0.58754 to 0.64763, saving model to best_model.h5\n",
            "43/43 [==============================] - 3s 64ms/step - loss: 1.8864 - accuracy: 0.5917 - val_loss: 1.9946 - val_accuracy: 0.6476\n",
            "Epoch 5/50\n",
            "42/43 [============================>.] - ETA: 0s - loss: 1.6962 - accuracy: 0.6161\n",
            "Epoch 5: val_accuracy improved from 0.64763 to 0.66914, saving model to best_model.h5\n",
            "43/43 [==============================] - 4s 104ms/step - loss: 1.6965 - accuracy: 0.6158 - val_loss: 1.6975 - val_accuracy: 0.6691\n",
            "Epoch 6/50\n",
            "42/43 [============================>.] - ETA: 0s - loss: 1.5859 - accuracy: 0.6313\n",
            "Epoch 6: val_accuracy improved from 0.66914 to 0.68398, saving model to best_model.h5\n",
            "43/43 [==============================] - 2s 42ms/step - loss: 1.5847 - accuracy: 0.6316 - val_loss: 1.5105 - val_accuracy: 0.6840\n",
            "Epoch 7/50\n",
            "43/43 [==============================] - ETA: 0s - loss: 1.4854 - accuracy: 0.6542\n",
            "Epoch 7: val_accuracy improved from 0.68398 to 0.69362, saving model to best_model.h5\n",
            "43/43 [==============================] - 2s 39ms/step - loss: 1.4854 - accuracy: 0.6542 - val_loss: 1.3802 - val_accuracy: 0.6936\n",
            "Epoch 8/50\n",
            "43/43 [==============================] - ETA: 0s - loss: 1.4051 - accuracy: 0.6719\n",
            "Epoch 8: val_accuracy improved from 0.69362 to 0.70030, saving model to best_model.h5\n",
            "43/43 [==============================] - 2s 39ms/step - loss: 1.4051 - accuracy: 0.6719 - val_loss: 1.3114 - val_accuracy: 0.7003\n",
            "Epoch 9/50\n",
            "43/43 [==============================] - ETA: 0s - loss: 1.3517 - accuracy: 0.6813\n",
            "Epoch 9: val_accuracy improved from 0.70030 to 0.70326, saving model to best_model.h5\n",
            "43/43 [==============================] - 2s 39ms/step - loss: 1.3517 - accuracy: 0.6813 - val_loss: 1.2730 - val_accuracy: 0.7033\n",
            "Epoch 10/50\n",
            "43/43 [==============================] - ETA: 0s - loss: 1.2916 - accuracy: 0.6927\n",
            "Epoch 10: val_accuracy improved from 0.70326 to 0.71142, saving model to best_model.h5\n",
            "43/43 [==============================] - 2s 38ms/step - loss: 1.2916 - accuracy: 0.6927 - val_loss: 1.2567 - val_accuracy: 0.7114\n",
            "Epoch 11/50\n",
            "41/43 [===========================>..] - ETA: 0s - loss: 1.2642 - accuracy: 0.6949\n",
            "Epoch 11: val_accuracy did not improve from 0.71142\n",
            "43/43 [==============================] - 2s 37ms/step - loss: 1.2603 - accuracy: 0.6962 - val_loss: 1.2358 - val_accuracy: 0.7070\n",
            "Epoch 12/50\n",
            "42/43 [============================>.] - ETA: 0s - loss: 1.2008 - accuracy: 0.7068\n",
            "Epoch 12: val_accuracy improved from 0.71142 to 0.71217, saving model to best_model.h5\n",
            "43/43 [==============================] - 3s 65ms/step - loss: 1.2006 - accuracy: 0.7069 - val_loss: 1.2180 - val_accuracy: 0.7122\n",
            "Epoch 13/50\n",
            "43/43 [==============================] - ETA: 0s - loss: 1.1714 - accuracy: 0.7112\n",
            "Epoch 13: val_accuracy improved from 0.71217 to 0.71439, saving model to best_model.h5\n",
            "43/43 [==============================] - 2s 45ms/step - loss: 1.1714 - accuracy: 0.7112 - val_loss: 1.2253 - val_accuracy: 0.7144\n",
            "Epoch 14/50\n",
            "43/43 [==============================] - ETA: 0s - loss: 1.1275 - accuracy: 0.7209\n",
            "Epoch 14: val_accuracy improved from 0.71439 to 0.72033, saving model to best_model.h5\n",
            "43/43 [==============================] - 2s 39ms/step - loss: 1.1275 - accuracy: 0.7209 - val_loss: 1.2219 - val_accuracy: 0.7203\n",
            "Epoch 15/50\n",
            "43/43 [==============================] - ETA: 0s - loss: 1.1082 - accuracy: 0.7262\n",
            "Epoch 15: val_accuracy improved from 0.72033 to 0.72849, saving model to best_model.h5\n",
            "43/43 [==============================] - 2s 40ms/step - loss: 1.1082 - accuracy: 0.7262 - val_loss: 1.2032 - val_accuracy: 0.7285\n",
            "Epoch 16/50\n",
            "43/43 [==============================] - ETA: 0s - loss: 1.0595 - accuracy: 0.7381\n",
            "Epoch 16: val_accuracy did not improve from 0.72849\n",
            "43/43 [==============================] - 2s 38ms/step - loss: 1.0595 - accuracy: 0.7381 - val_loss: 1.2068 - val_accuracy: 0.7285\n",
            "Epoch 17/50\n",
            "43/43 [==============================] - ETA: 0s - loss: 1.0417 - accuracy: 0.7433\n",
            "Epoch 17: val_accuracy did not improve from 0.72849\n",
            "43/43 [==============================] - 2s 37ms/step - loss: 1.0417 - accuracy: 0.7433 - val_loss: 1.2139 - val_accuracy: 0.7270\n",
            "Epoch 18/50\n",
            "43/43 [==============================] - ETA: 0s - loss: 1.0013 - accuracy: 0.7450\n",
            "Epoch 18: val_accuracy improved from 0.72849 to 0.73442, saving model to best_model.h5\n",
            "43/43 [==============================] - 2s 48ms/step - loss: 1.0013 - accuracy: 0.7450 - val_loss: 1.2199 - val_accuracy: 0.7344\n",
            "Epoch 19/50\n",
            "42/43 [============================>.] - ETA: 0s - loss: 0.9978 - accuracy: 0.7446\n",
            "Epoch 19: val_accuracy improved from 0.73442 to 0.73887, saving model to best_model.h5\n",
            "43/43 [==============================] - 3s 67ms/step - loss: 0.9995 - accuracy: 0.7442 - val_loss: 1.2117 - val_accuracy: 0.7389\n",
            "Epoch 20/50\n",
            "43/43 [==============================] - ETA: 0s - loss: 0.9773 - accuracy: 0.7502\n",
            "Epoch 20: val_accuracy did not improve from 0.73887\n",
            "43/43 [==============================] - 2s 40ms/step - loss: 0.9773 - accuracy: 0.7502 - val_loss: 1.2316 - val_accuracy: 0.7337\n",
            "Epoch 20: early stopping\n"
          ]
        }
      ]
    },
    {
      "cell_type": "code",
      "source": [
        "# 학습 히스토리의 `loss`, `val_loss`, `accuracy`, `val_accuracy`를 차트로 시각화합니다.\n",
        "plt.style.use('seaborn-white')\n",
        "\n",
        "history_dict = history.history\n",
        "\n",
        "loss = history_dict['loss']\n",
        "val_loss = history_dict['val_loss']\n",
        "\n",
        "epochs = range(1, len(loss) + 1)\n",
        "fig = plt.figure(figsize=(12, 5))\n",
        "\n",
        "ax1 = fig.add_subplot(1, 2, 1)\n",
        "ax1.plot(epochs, loss, 'b-', label='train_loss')\n",
        "ax1.plot(epochs, val_loss, 'r-', label='val_loss')\n",
        "ax1.set_title('Train and Validation Loss')\n",
        "ax1.set_xlabel('Epochs')\n",
        "ax1.set_ylabel('Loss')\n",
        "ax1.grid()\n",
        "ax1.legend()\n",
        "\n",
        "accuracy = history_dict['accuracy']\n",
        "val_accuracy = history_dict['val_accuracy']\n",
        "\n",
        "ax2 = fig.add_subplot(1, 2, 2)\n",
        "ax2.plot(epochs, accuracy, 'b-', label='train_accuracy')\n",
        "ax2.plot(epochs, val_accuracy, 'r-', label='val_accuracy')\n",
        "ax2.set_title('Train and Validation Accuracy')\n",
        "ax2.set_xlabel('Epochs')\n",
        "ax2.set_ylabel('Accuracy')\n",
        "ax2.grid()\n",
        "ax2.legend()\n",
        "\n",
        "plt.show()"
      ],
      "metadata": {
        "colab": {
          "base_uri": "https://localhost:8080/",
          "height": 423
        },
        "id": "pN21xkpgZ5Tu",
        "outputId": "7902571c-4a2c-485b-d137-3d5ec9138ab4"
      },
      "execution_count": 7,
      "outputs": [
        {
          "output_type": "stream",
          "name": "stderr",
          "text": [
            "<ipython-input-7-ef4da0309378>:2: MatplotlibDeprecationWarning: The seaborn styles shipped by Matplotlib are deprecated since 3.6, as they no longer correspond to the styles shipped by seaborn. However, they will remain available as 'seaborn-v0_8-<style>'. Alternatively, directly use the seaborn API instead.\n",
            "  plt.style.use('seaborn-white')\n"
          ]
        },
        {
          "output_type": "display_data",
          "data": {
            "text/plain": [
              "<Figure size 1200x500 with 2 Axes>"
            ],
            "image/png": "[encoded data removed]"
          },
          "metadata": {}
        }
      ]
    },
    {
      "cell_type": "markdown",
      "source": [
        "# **모델 평가 및 예측**"
      ],
      "metadata": {
        "id": "S5H6BornaJq1"
      }
    },
    {
      "cell_type": "code",
      "source": [
        "# 문제 2-5: 테스트 데이터셋을 이용해 모델을 평가합니다.\n",
        "test_loss, test_accuracy = model.evaluate(x_test, y_test)\n",
        "print(\"테스트 손실:\", test_loss)\n",
        "print(\"테스트 정확도:\", test_accuracy)"
      ],
      "metadata": {
        "colab": {
          "base_uri": "https://localhost:8080/"
        },
        "id": "S8KnkQLtaHEN",
        "outputId": "bc82b801-099d-4190-b1f1-deda27fdaed4"
      },
      "execution_count": 10,
      "outputs": [
        {
          "output_type": "stream",
          "name": "stdout",
          "text": [
            "71/71 [==============================] - 0s 5ms/step - loss: 1.3216 - accuracy: 0.7244\n",
            "테스트 손실: 1.3215669393539429\n",
            "테스트 정확도: 0.7243989109992981\n"
          ]
        }
      ]
    },
    {
      "cell_type": "code",
      "source": [],
      "metadata": {
        "id": "f6oI7d5AaNup"
      },
      "execution_count": null,
      "outputs": []
    }
  ]
}