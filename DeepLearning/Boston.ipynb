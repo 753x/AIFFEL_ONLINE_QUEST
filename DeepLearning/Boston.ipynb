{
  "nbformat": 4,
  "nbformat_minor": 0,
  "metadata": {
    "colab": {
      "provenance": [],
      "authorship_tag": "ABX9TyP6xtPqMSFJnMZI6jt+Tw8v",
      "include_colab_link": true
    },
    "kernelspec": {
      "name": "python3",
      "display_name": "Python 3"
    },
    "language_info": {
      "name": "python"
    }
  },
  "cells": [
    {
      "cell_type": "markdown",
      "metadata": {
        "id": "view-in-github",
        "colab_type": "text"
      },
      "source": [
        "<a href=\"https://colab.research.google.com/github/753x/AIFFEL_ONLINE_QUEST/blob/master/DeepLearning/Boston.ipynb\" target=\"_parent\"><img src=\"https://colab.research.google.com/assets/colab-badge.svg\" alt=\"Open In Colab\"/></a>"
      ]
    },
    {
      "cell_type": "markdown",
      "source": [
        "## **데이터 로드 및 전처리**"
      ],
      "metadata": {
        "id": "bSzAxy9cIKz3"
      }
    },
    {
      "cell_type": "code",
      "execution_count": 4,
      "metadata": {
        "id": "DuvSXdsoICUD"
      },
      "outputs": [],
      "source": [
        "from tensorflow.keras import models, layers\n",
        "import matplotlib.pyplot as plt"
      ]
    },
    {
      "cell_type": "code",
      "source": [
        "# keras.datasets 안에 boston_housing 데이터셋을 로드합니다.\n",
        "from keras.datasets import boston_housing\n",
        "\n",
        "(train_data, train_labels), (test_data, test_labels) = boston_housing.load_data()\n",
        "\n",
        "# 데이터셋의 크기를 확인합니다.\n",
        "print(len(train_data))\n",
        "print(len(test_data))"
      ],
      "metadata": {
        "colab": {
          "base_uri": "https://localhost:8080/"
        },
        "id": "1K6TEO-QIS7F",
        "outputId": "6be07287-bb46-4917-f6e1-d50be88887ff"
      },
      "execution_count": 6,
      "outputs": [
        {
          "output_type": "stream",
          "name": "stdout",
          "text": [
            "404\n",
            "102\n"
          ]
        }
      ]
    },
    {
      "cell_type": "code",
      "source": [
        "# 문제 1-1: 데이터셋의 전처리를 위해 표준화 작업을 수행합니다.\n",
        "# 먼저 입력 데이터의 각 특성의 평균을 뺍니다.\n",
        "mean = train_data.mean(axis=0)\n",
        "train_data = train_data - mean\n",
        "\n",
        "# 평균을 뺀 입력 데이터에서 표준편차를 나눕니다.\n",
        "# 데이터 특성의 중앙이 0에 가깝게 만들고, 표준편차가 1이 되게 만듭니다.\n",
        "std = train_data.std(axis=0)\n",
        "train_data = train_data / std\n",
        "\n",
        "# 테스트 데이터셋도 마찬가지로 평균을 빼고, 표준편차로 나눕니다.\n",
        "test_data = test_data - mean\n",
        "test_data = test_data / std"
      ],
      "metadata": {
        "id": "aFFzXMsPIW5f"
      },
      "execution_count": 7,
      "outputs": []
    },
    {
      "cell_type": "markdown",
      "source": [
        "## **모델 구성 및 컴파일**"
      ],
      "metadata": {
        "id": "E6uHFWOHMnnz"
      }
    },
    {
      "cell_type": "code",
      "source": [
        "# 문제 1-2: 주택 가격 예측을 위한 딥러닝 모델 구성 및 컴파일합니다.\n",
        "# input_shape은 (train_data.shape[1], )으로 구성합니다.\n",
        "# 회귀(예측)을 위한 모델이므로 loss를 mse, metrics를 mae로 사용합니다.\n",
        "from tensorflow.keras import models, layers\n",
        "\n",
        "model = models.Sequential()\n",
        "model.add(layers.Dense(units = 52, activation = 'relu', input_shape=(train_data.shape[1], )))\n",
        "model.add(layers.Dense(39, activation='relu'))\n",
        "model.add(layers.Dense(26, activation='relu'))\n",
        "model.add(layers.Dense(1, activation='relu'))\n",
        "\n",
        "model.compile(loss='mse',\n",
        "              optimizer='adam',\n",
        "              metrics=['mae'])\n",
        "\n",
        "model.summary()"
      ],
      "metadata": {
        "colab": {
          "base_uri": "https://localhost:8080/"
        },
        "id": "t-h8xqbZIXrH",
        "outputId": "4260d58d-762c-4aa5-cc18-311198c6798d"
      },
      "execution_count": 8,
      "outputs": [
        {
          "output_type": "stream",
          "name": "stdout",
          "text": [
            "Model: \"sequential\"\n",
            "_________________________________________________________________\n",
            " Layer (type)                Output Shape              Param #   \n",
            "=================================================================\n",
            " dense (Dense)               (None, 52)                728       \n",
            "                                                                 \n",
            " dense_1 (Dense)             (None, 39)                2067      \n",
            "                                                                 \n",
            " dense_2 (Dense)             (None, 26)                1040      \n",
            "                                                                 \n",
            " dense_3 (Dense)             (None, 1)                 27        \n",
            "                                                                 \n",
            "=================================================================\n",
            "Total params: 3,862\n",
            "Trainable params: 3,862\n",
            "Non-trainable params: 0\n",
            "_________________________________________________________________\n"
          ]
        }
      ]
    },
    {
      "cell_type": "markdown",
      "source": [
        "## **모델 학습**"
      ],
      "metadata": {
        "id": "9D64Oh5zMwR3"
      }
    },
    {
      "cell_type": "code",
      "source": [
        "# 문제 1-3: 예측을 위한 딥러닝 모델을 학습합니다.\n",
        "epochs = 60  # 에포크 수 설정\n",
        "batch_size = 32  # 배치 크기 설정\n",
        "\n",
        "# 모델 학습\n",
        "history = model.fit(train_data, train_labels, epochs=epochs, batch_size=batch_size,\n",
        "                    validation_split=0.25)"
      ],
      "metadata": {
        "colab": {
          "base_uri": "https://localhost:8080/"
        },
        "id": "57PeehD8Ms34",
        "outputId": "851cea1d-f659-4098-be14-6f082b87c96a"
      },
      "execution_count": 9,
      "outputs": [
        {
          "output_type": "stream",
          "name": "stdout",
          "text": [
            "Epoch 1/60\n",
            "10/10 [==============================] - 2s 29ms/step - loss: 549.2311 - mae: 21.7337 - val_loss: 679.5889 - val_mae: 24.1142\n",
            "Epoch 2/60\n",
            "10/10 [==============================] - 0s 7ms/step - loss: 533.1890 - mae: 21.3796 - val_loss: 645.5802 - val_mae: 23.4090\n",
            "Epoch 3/60\n",
            "10/10 [==============================] - 0s 7ms/step - loss: 499.0111 - mae: 20.5216 - val_loss: 601.1575 - val_mae: 22.4415\n",
            "Epoch 4/60\n",
            "10/10 [==============================] - 0s 6ms/step - loss: 456.3607 - mae: 19.4447 - val_loss: 542.4105 - val_mae: 21.1242\n",
            "Epoch 5/60\n",
            "10/10 [==============================] - 0s 6ms/step - loss: 397.1783 - mae: 17.8834 - val_loss: 456.5443 - val_mae: 19.0983\n",
            "Epoch 6/60\n",
            "10/10 [==============================] - 0s 6ms/step - loss: 313.1811 - mae: 15.5238 - val_loss: 338.5859 - val_mae: 15.9986\n",
            "Epoch 7/60\n",
            "10/10 [==============================] - 0s 6ms/step - loss: 207.7980 - mae: 12.2521 - val_loss: 201.1312 - val_mae: 11.8384\n",
            "Epoch 8/60\n",
            "10/10 [==============================] - 0s 6ms/step - loss: 102.9782 - mae: 8.1762 - val_loss: 96.7753 - val_mae: 7.6341\n",
            "Epoch 9/60\n",
            "10/10 [==============================] - 0s 6ms/step - loss: 54.0228 - mae: 5.6174 - val_loss: 66.2896 - val_mae: 6.4744\n",
            "Epoch 10/60\n",
            "10/10 [==============================] - 0s 7ms/step - loss: 42.2002 - mae: 4.8220 - val_loss: 52.1495 - val_mae: 5.6687\n",
            "Epoch 11/60\n",
            "10/10 [==============================] - 0s 6ms/step - loss: 31.0202 - mae: 3.9783 - val_loss: 42.9000 - val_mae: 4.8669\n",
            "Epoch 12/60\n",
            "10/10 [==============================] - 0s 6ms/step - loss: 24.8118 - mae: 3.4929 - val_loss: 35.1145 - val_mae: 4.3723\n",
            "Epoch 13/60\n",
            "10/10 [==============================] - 0s 6ms/step - loss: 21.0971 - mae: 3.2435 - val_loss: 30.2957 - val_mae: 4.0771\n",
            "Epoch 14/60\n",
            "10/10 [==============================] - 0s 7ms/step - loss: 19.1020 - mae: 3.0779 - val_loss: 27.9456 - val_mae: 3.9104\n",
            "Epoch 15/60\n",
            "10/10 [==============================] - 0s 8ms/step - loss: 17.7373 - mae: 2.9665 - val_loss: 26.3765 - val_mae: 3.7809\n",
            "Epoch 16/60\n",
            "10/10 [==============================] - 0s 9ms/step - loss: 16.6884 - mae: 2.8787 - val_loss: 25.2013 - val_mae: 3.6834\n",
            "Epoch 17/60\n",
            "10/10 [==============================] - 0s 7ms/step - loss: 15.8569 - mae: 2.8005 - val_loss: 24.3601 - val_mae: 3.5942\n",
            "Epoch 18/60\n",
            "10/10 [==============================] - 0s 6ms/step - loss: 15.0978 - mae: 2.7262 - val_loss: 23.1217 - val_mae: 3.5196\n",
            "Epoch 19/60\n",
            "10/10 [==============================] - 0s 7ms/step - loss: 14.5900 - mae: 2.6928 - val_loss: 21.8637 - val_mae: 3.4618\n",
            "Epoch 20/60\n",
            "10/10 [==============================] - 0s 6ms/step - loss: 14.0902 - mae: 2.6514 - val_loss: 21.3865 - val_mae: 3.3855\n",
            "Epoch 21/60\n",
            "10/10 [==============================] - 0s 6ms/step - loss: 13.3914 - mae: 2.5914 - val_loss: 20.5015 - val_mae: 3.3325\n",
            "Epoch 22/60\n",
            "10/10 [==============================] - 0s 8ms/step - loss: 13.0065 - mae: 2.5528 - val_loss: 19.9942 - val_mae: 3.2907\n",
            "Epoch 23/60\n",
            "10/10 [==============================] - 0s 6ms/step - loss: 12.5215 - mae: 2.5121 - val_loss: 19.5380 - val_mae: 3.2504\n",
            "Epoch 24/60\n",
            "10/10 [==============================] - 0s 6ms/step - loss: 12.1820 - mae: 2.4728 - val_loss: 19.2184 - val_mae: 3.2130\n",
            "Epoch 25/60\n",
            "10/10 [==============================] - 0s 9ms/step - loss: 11.8625 - mae: 2.4387 - val_loss: 18.5958 - val_mae: 3.1664\n",
            "Epoch 26/60\n",
            "10/10 [==============================] - 0s 8ms/step - loss: 11.6455 - mae: 2.4238 - val_loss: 18.2255 - val_mae: 3.1655\n",
            "Epoch 27/60\n",
            "10/10 [==============================] - 0s 9ms/step - loss: 11.4781 - mae: 2.4311 - val_loss: 17.5313 - val_mae: 3.0604\n",
            "Epoch 28/60\n",
            "10/10 [==============================] - 0s 6ms/step - loss: 11.0359 - mae: 2.3706 - val_loss: 17.4143 - val_mae: 3.0771\n",
            "Epoch 29/60\n",
            "10/10 [==============================] - 0s 8ms/step - loss: 10.7953 - mae: 2.3306 - val_loss: 17.2347 - val_mae: 3.0869\n",
            "Epoch 30/60\n",
            "10/10 [==============================] - 0s 9ms/step - loss: 10.5031 - mae: 2.3135 - val_loss: 16.7873 - val_mae: 3.0191\n",
            "Epoch 31/60\n",
            "10/10 [==============================] - 0s 7ms/step - loss: 10.3497 - mae: 2.2945 - val_loss: 16.4767 - val_mae: 2.9979\n",
            "Epoch 32/60\n",
            "10/10 [==============================] - 0s 8ms/step - loss: 10.0610 - mae: 2.2744 - val_loss: 15.9662 - val_mae: 2.9555\n",
            "Epoch 33/60\n",
            "10/10 [==============================] - 0s 8ms/step - loss: 10.0216 - mae: 2.2628 - val_loss: 16.0134 - val_mae: 2.9701\n",
            "Epoch 34/60\n",
            "10/10 [==============================] - 0s 8ms/step - loss: 9.7881 - mae: 2.2584 - val_loss: 15.6830 - val_mae: 2.9305\n",
            "Epoch 35/60\n",
            "10/10 [==============================] - 0s 6ms/step - loss: 9.6545 - mae: 2.2190 - val_loss: 15.5821 - val_mae: 2.9096\n",
            "Epoch 36/60\n",
            "10/10 [==============================] - 0s 6ms/step - loss: 9.4355 - mae: 2.1937 - val_loss: 15.2056 - val_mae: 2.8900\n",
            "Epoch 37/60\n",
            "10/10 [==============================] - 0s 6ms/step - loss: 9.3113 - mae: 2.1941 - val_loss: 14.9644 - val_mae: 2.8583\n",
            "Epoch 38/60\n",
            "10/10 [==============================] - 0s 6ms/step - loss: 9.1627 - mae: 2.1661 - val_loss: 14.8979 - val_mae: 2.8674\n",
            "Epoch 39/60\n",
            "10/10 [==============================] - 0s 7ms/step - loss: 9.0306 - mae: 2.1420 - val_loss: 14.6731 - val_mae: 2.8418\n",
            "Epoch 40/60\n",
            "10/10 [==============================] - 0s 6ms/step - loss: 8.8790 - mae: 2.1249 - val_loss: 14.3733 - val_mae: 2.7892\n",
            "Epoch 41/60\n",
            "10/10 [==============================] - 0s 6ms/step - loss: 8.7897 - mae: 2.1134 - val_loss: 14.4720 - val_mae: 2.8107\n",
            "Epoch 42/60\n",
            "10/10 [==============================] - 0s 7ms/step - loss: 8.6638 - mae: 2.0883 - val_loss: 14.4228 - val_mae: 2.8024\n",
            "Epoch 43/60\n",
            "10/10 [==============================] - 0s 6ms/step - loss: 8.5997 - mae: 2.1042 - val_loss: 14.2647 - val_mae: 2.7951\n",
            "Epoch 44/60\n",
            "10/10 [==============================] - 0s 6ms/step - loss: 8.4625 - mae: 2.0864 - val_loss: 14.2060 - val_mae: 2.7753\n",
            "Epoch 45/60\n",
            "10/10 [==============================] - 0s 6ms/step - loss: 8.3898 - mae: 2.0567 - val_loss: 14.2025 - val_mae: 2.7826\n",
            "Epoch 46/60\n",
            "10/10 [==============================] - 0s 6ms/step - loss: 8.3732 - mae: 2.0433 - val_loss: 13.5295 - val_mae: 2.7164\n",
            "Epoch 47/60\n",
            "10/10 [==============================] - 0s 8ms/step - loss: 8.2256 - mae: 2.0451 - val_loss: 13.4770 - val_mae: 2.6577\n",
            "Epoch 48/60\n",
            "10/10 [==============================] - 0s 6ms/step - loss: 8.2129 - mae: 2.0206 - val_loss: 13.6276 - val_mae: 2.7165\n",
            "Epoch 49/60\n",
            "10/10 [==============================] - 0s 6ms/step - loss: 8.1205 - mae: 2.0292 - val_loss: 13.4569 - val_mae: 2.7243\n",
            "Epoch 50/60\n",
            "10/10 [==============================] - 0s 7ms/step - loss: 7.9319 - mae: 1.9962 - val_loss: 13.1396 - val_mae: 2.6407\n",
            "Epoch 51/60\n",
            "10/10 [==============================] - 0s 7ms/step - loss: 7.8495 - mae: 1.9802 - val_loss: 13.1820 - val_mae: 2.6473\n",
            "Epoch 52/60\n",
            "10/10 [==============================] - 0s 6ms/step - loss: 7.7379 - mae: 1.9738 - val_loss: 12.9440 - val_mae: 2.6304\n",
            "Epoch 53/60\n",
            "10/10 [==============================] - 0s 8ms/step - loss: 7.6441 - mae: 1.9676 - val_loss: 12.9397 - val_mae: 2.6470\n",
            "Epoch 54/60\n",
            "10/10 [==============================] - 0s 8ms/step - loss: 7.5399 - mae: 1.9571 - val_loss: 13.0235 - val_mae: 2.6372\n",
            "Epoch 55/60\n",
            "10/10 [==============================] - 0s 8ms/step - loss: 7.5410 - mae: 1.9454 - val_loss: 12.8157 - val_mae: 2.6001\n",
            "Epoch 56/60\n",
            "10/10 [==============================] - 0s 9ms/step - loss: 7.5698 - mae: 1.9755 - val_loss: 12.7580 - val_mae: 2.6185\n",
            "Epoch 57/60\n",
            "10/10 [==============================] - 0s 8ms/step - loss: 7.4276 - mae: 1.9147 - val_loss: 12.8272 - val_mae: 2.6176\n",
            "Epoch 58/60\n",
            "10/10 [==============================] - 0s 8ms/step - loss: 7.3638 - mae: 1.9288 - val_loss: 12.5943 - val_mae: 2.5834\n",
            "Epoch 59/60\n",
            "10/10 [==============================] - 0s 6ms/step - loss: 7.3111 - mae: 1.9206 - val_loss: 12.6399 - val_mae: 2.5960\n",
            "Epoch 60/60\n",
            "10/10 [==============================] - 0s 6ms/step - loss: 7.1488 - mae: 1.8963 - val_loss: 12.4333 - val_mae: 2.5624\n"
          ]
        }
      ]
    },
    {
      "cell_type": "code",
      "source": [
        "# 모델 학습 히스토리에서 loss, val_loss, mae, val_mae를 차트로 보여줍니다.\n",
        "plt.style.use('seaborn-white')\n",
        "\n",
        "history_dict = history.history\n",
        "\n",
        "loss = history_dict['loss']\n",
        "val_loss = history_dict['val_loss']\n",
        "\n",
        "epochs = range(1, len(loss) + 1)\n",
        "fig = plt.figure(figsize=(12, 5))\n",
        "\n",
        "ax1 = fig.add_subplot(1, 2, 1)\n",
        "ax1.plot(epochs, loss, 'b-', label='train_loss')\n",
        "ax1.plot(epochs, val_loss, 'r-', label='val_loss')\n",
        "ax1.set_title('Train and Validation Loss')\n",
        "ax1.set_xlabel('Epochs')\n",
        "ax1.set_ylabel('Loss')\n",
        "ax1.grid()\n",
        "ax1.legend()\n",
        "\n",
        "mae = history_dict['mae']\n",
        "val_mae = history_dict['val_mae']\n",
        "\n",
        "ax2 = fig.add_subplot(1, 2, 2)\n",
        "ax2.plot(epochs, mae, 'b-', label='train_mae')\n",
        "ax2.plot(epochs, val_mae, 'r-', label='val_mae')\n",
        "ax2.set_title('Train and Validation MAE')\n",
        "ax2.set_xlabel('Epochs')\n",
        "ax2.set_ylabel('Accuracy')\n",
        "ax2.grid()\n",
        "ax2.legend()\n",
        "\n",
        "plt.show()"
      ],
      "metadata": {
        "colab": {
          "base_uri": "https://localhost:8080/",
          "height": 537
        },
        "id": "R6YduTEgM1VD",
        "outputId": "b5b331a0-f47d-4c13-91bb-4497d5106fef"
      },
      "execution_count": 13,
      "outputs": [
        {
          "output_type": "stream",
          "name": "stderr",
          "text": [
            "<ipython-input-13-ca108acd7502>:2: MatplotlibDeprecationWarning: The seaborn styles shipped by Matplotlib are deprecated since 3.6, as they no longer correspond to the styles shipped by seaborn. However, they will remain available as 'seaborn-v0_8-<style>'. Alternatively, directly use the seaborn API instead.\n",
            "  plt.style.use('seaborn-white')\n"
          ]
        },
        {
          "output_type": "display_data",
          "data": {
            "text/plain": [
              "<Figure size 1200x500 with 2 Axes>"
            ],
            "image/png": "[encoded data removed]"
          },
          "metadata": {}
        }
      ]
    },
    {
      "cell_type": "markdown",
      "source": [
        "# **모델 평가 및 예측**"
      ],
      "metadata": {
        "id": "j1A_U2LXOZkD"
      }
    },
    {
      "cell_type": "code",
      "source": [
        "# 문제 1-4: 테스트 데이터셋을 이용해 모델을 평가합니다.\n",
        "model.evaluate(test_data, test_labels)"
      ],
      "metadata": {
        "colab": {
          "base_uri": "https://localhost:8080/"
        },
        "id": "MvQzOznuM4r2",
        "outputId": "32bbaadd-c0fc-40a0-e836-fbee74efc106"
      },
      "execution_count": 14,
      "outputs": [
        {
          "output_type": "stream",
          "name": "stdout",
          "text": [
            "4/4 [==============================] - 0s 4ms/step - loss: 19.8729 - mae: 2.8595\n"
          ]
        },
        {
          "output_type": "execute_result",
          "data": {
            "text/plain": [
              "[19.872873306274414, 2.859485626220703]"
            ]
          },
          "metadata": {},
          "execution_count": 14
        }
      ]
    },
    {
      "cell_type": "code",
      "source": [],
      "metadata": {
        "id": "E_XouS_3OeLF"
      },
      "execution_count": null,
      "outputs": []
    }
  ]
}