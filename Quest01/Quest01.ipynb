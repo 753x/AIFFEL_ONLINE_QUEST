{
  "nbformat": 4,
  "nbformat_minor": 0,
  "metadata": {
    "colab": {
      "provenance": [],
      "include_colab_link": true
    },
    "kernelspec": {
      "name": "python3",
      "display_name": "Python 3"
    },
    "language_info": {
      "name": "python"
    }
  },
  "cells": [
    {
      "cell_type": "markdown",
      "metadata": {
        "id": "view-in-github",
        "colab_type": "text"
      },
      "source": [
        "<a href=\"https://colab.research.google.com/github/753x/AIFFEL_ONLINE_QUEST/blob/master/Quest01/Quest01.ipynb\" target=\"_parent\"><img src=\"https://colab.research.google.com/assets/colab-badge.svg\" alt=\"Open In Colab\"/></a>"
      ]
    },
    {
      "cell_type": "code",
      "execution_count": 30,
      "metadata": {
        "id": "zoIDIb0jWw5n",
        "colab": {
          "base_uri": "https://localhost:8080/"
        },
        "outputId": "a7765efe-fa50-450a-dcd5-36867cd20852"
      },
      "outputs": [
        {
          "output_type": "stream",
          "name": "stdout",
          "text": [
            "단어를 입력하세요 : A man, a plan, a canal, Panama!\n",
            "뒤집힌 단어는 : amanaplanacanalpanama\n",
            "회문이 맞습니다.\n"
          ]
        }
      ],
      "source": [
        "\n",
        "def is_word(word):\n",
        "  clean_word = ''.join(e for e in word if e.isalpha())      #축약문을 통해 e 변수가 반복되도록 만들었고 isalpha()함수로 알파벳 및 한글을 제외한 다른 것(공백,특수문자 등)을\n",
        "                                                            #제외시켰다. 그 후에 join()함수를 이용해 빈 문자열인 ''에 문자열을 합쳐서 집어넣었다.\n",
        "\n",
        "  clean_word = clean_word.lower()                           # 알파벳 대문자를 작성했다면 통일시키기 위해 소문자로 변환 시켰다.\n",
        "\n",
        "  print(\"뒤집힌 단어는 :\", clean_word[::-1])                # print로 뒤집힌 단어를 출력하게 했고 [::-1]을 사용해 단어를 뒤집어줬다.\n",
        "\n",
        "  if clean_word == clean_word[::-1]:                        # 쓴 단어와 뒤집은 단어가 같다면\n",
        "    print(\"회문이 맞습니다.\")                               # 회문이 맞다 출력\n",
        "  else:                                                     # 아니라면\n",
        "    print(\"회문이 아닙니다.\")                               # 회문이 아니다 출력\n",
        "\n",
        "word = str(input('단어를 입력하세요 : '))                   #input을 통해 원하는 글자를 적을 수 있도록 했고 str으로 감싸 문자열이 되도록 했다.\n",
        "is_word(word)                                               #함수 집합 호출\n",
        "\n",
        "\n",
        "\n",
        "\n",
        "\n",
        "\n"
      ]
    }
  ]
}